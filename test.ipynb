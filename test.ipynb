{
 "cells": [
  {
   "cell_type": "markdown",
   "metadata": {},
   "source": [
    "# Setting Up"
   ]
  },
  {
   "cell_type": "code",
   "execution_count": 1,
   "metadata": {},
   "outputs": [
    {
     "data": {
      "text/plain": [
       "True"
      ]
     },
     "execution_count": 1,
     "metadata": {},
     "output_type": "execute_result"
    }
   ],
   "source": [
    "import os\n",
    "from dotenv import load_dotenv\n",
    "\n",
    "load_dotenv()"
   ]
  },
  {
   "cell_type": "code",
   "execution_count": 2,
   "metadata": {},
   "outputs": [],
   "source": [
    "OPEN_API_KEY = os.getenv('OPEN_API_KEY')\n",
    "\n",
    "LANGSMITH_TRACING = os.getenv('LANGSMITH_TRACING')\n",
    "LANGSMITH_API_KEY = os.getenv('LANGSMITH_API_KEY')\n",
    "LANGSMITH_PROJECT = os.getenv('LANGSMITH_PROJECT')\n",
    "LANGSMITH_ENDPOINT = os.getenv('LANGSMITH_ENDPOINT')\n",
    "\n",
    "TAVILY_API_KEY = os.getenv('TAVILY_API_KEY')"
   ]
  },
  {
   "cell_type": "code",
   "execution_count": 3,
   "metadata": {},
   "outputs": [],
   "source": [
    "from langchain_openai import ChatOpenAI\n",
    "\n",
    "llm = ChatOpenAI(model=\"gpt-4o-mini\", temperature=0)"
   ]
  },
  {
   "cell_type": "markdown",
   "metadata": {},
   "source": [
    "# Tools"
   ]
  },
  {
   "cell_type": "markdown",
   "metadata": {},
   "source": [
    "# research tool"
   ]
  },
  {
   "cell_type": "code",
   "execution_count": 8,
   "metadata": {},
   "outputs": [],
   "source": [
    "from tavily import TavilyClient\n",
    "from pprint import pprint\n",
    "tavily = TavilyClient(TAVILY_API_KEY)"
   ]
  },
  {
   "cell_type": "code",
   "execution_count": 5,
   "metadata": {},
   "outputs": [],
   "source": [
    "def researcher(query):\n",
    "    \"\"\"Search the web for information\"\"\"\n",
    "    response = tavily.search(query)\n",
    "    return response"
   ]
  },
  {
   "cell_type": "code",
   "execution_count": 10,
   "metadata": {},
   "outputs": [
    {
     "name": "stdout",
     "output_type": "stream",
     "text": [
      "{'answer': None,\n",
      " 'follow_up_questions': None,\n",
      " 'images': [],\n",
      " 'query': 'What is the capital of France?',\n",
      " 'response_time': 1.5,\n",
      " 'results': [{'content': 'Paris is the capital city of France. Contrary to '\n",
      "                         'popular belief, the name of the city did not come '\n",
      "                         'from the Paris in Greek myths. Located in the north '\n",
      "                         'of Central France, the city is relatively flat with '\n",
      "                         'the highest point being 427 feet (which is '\n",
      "                         'Montmartre) above sea level while the lowest point '\n",
      "                         'is 115 feet above the sea level. With a GDP of '\n",
      "                         'approximately $850 billion, Paris is the country’s '\n",
      "                         'leader for economic activities. Tourists are '\n",
      "                         'attracted to Paris because of the rich history the '\n",
      "                         'city has including its monuments and sights. As the '\n",
      "                         'capital city of France, the city plays host to the '\n",
      "                         'national government of France. How Many Countries '\n",
      "                         'Are There In Africa? [ ]  Countries All Countries',\n",
      "              'raw_content': None,\n",
      "              'score': 0.91671574,\n",
      "              'title': 'What is the Capital of France? - WorldAtlas',\n",
      "              'url': 'https://www.worldatlas.com/articles/what-is-the-capital-of-france.html'},\n",
      "             {'content': 'Paris Paris Paris Paris (French pronunciation: '\n",
      "                         '[paʁi] ⓘ) is the capital and largest city of France. '\n",
      "                         'With 200,000 inhabitants in 1328, Paris, then '\n",
      "                         'already the capital of France, was the most populous '\n",
      "                         'city of Europe. In the late 16th-century French Wars '\n",
      "                         'of Religion, Paris was a stronghold of the Catholic '\n",
      "                         'League, the organisers of 24 August 1572 St. '\n",
      "                         \"Bartholomew's Day massacre in which thousands of \"\n",
      "                         'French Protestants were killed.[44][45] The '\n",
      "                         'conflicts ended when pretender to the throne Henry '\n",
      "                         'IV, after converting to Catholicism to gain entry to '\n",
      "                         'the capital, entered the city in 1594 to claim the '\n",
      "                         'crown of France. Paris. Paris. \"Paris\"\\xa0. Paris',\n",
      "              'raw_content': None,\n",
      "              'score': 0.8399576,\n",
      "              'title': 'Paris - Wikipedia',\n",
      "              'url': 'https://en.wikipedia.org/wiki/Paris'},\n",
      "             {'content': 'France | History, Maps, Flag, Population, Cities, '\n",
      "                         'Capital, & Facts | Britannica Ask the Chatbot Games '\n",
      "                         '& Quizzes History & Society Science & Tech '\n",
      "                         'Biographies Animals & Nature Geography & Travel Arts '\n",
      "                         '& Culture ProCon Money Videos France The political '\n",
      "                         'history of France (c. France from 1180 to 1328 '\n",
      "                         'France, 1490–1715 France, 1715–89 France, 1815–1940 '\n",
      "                         'France since 1940 France (more) France Historically '\n",
      "                         'and culturally among the most important nations in '\n",
      "                         'the Western world, France has also played a highly '\n",
      "                         'significant role in international affairs, with '\n",
      "                         'former colonies in every corner of the globe. '\n",
      "                         'France(more) The capital and by far the most '\n",
      "                         'important city of France is Paris, one of the '\n",
      "                         'world’s preeminent cultural and commercial centres.',\n",
      "              'raw_content': None,\n",
      "              'score': 0.80771893,\n",
      "              'title': 'France | History, Maps, Flag, Population, Cities, '\n",
      "                       'Capital, & Facts ...',\n",
      "              'url': 'https://www.britannica.com/place/France'},\n",
      "             {'content': 'Jump to content Personal tools Toggle the table of '\n",
      "                         'contents Tools From Wikipedia, the free encyclopedia '\n",
      "                         'This article needs additional citations for '\n",
      "                         'verification. Bordeaux (June 1940), the government '\n",
      "                         'was relocated from Paris to Tours then Bordeaux very '\n",
      "                         'briefly during World War II, when it became apparent '\n",
      "                         'that Paris would soon fall into German hands. '\n",
      "                         'Clermont-Ferrand (29 June 1940), the government was '\n",
      "                         'relocated from Bordeaux to Clermont-Ferrand, during '\n",
      "                         'a single day, before going to Vichy, which had a '\n",
      "                         'larger hotel capacity. Categories: France '\n",
      "                         'history-related listsCapitals by countryFrance '\n",
      "                         'geography-related lists Text is available under the '\n",
      "                         'Creative Commons Attribution-ShareAlike 4.0 License; '\n",
      "                         'additional terms may apply. By using this site, you '\n",
      "                         'agree to the Terms of Use and Privacy Policy. '\n",
      "                         'Privacy policy About Wikipedia Mobile view',\n",
      "              'raw_content': None,\n",
      "              'score': 0.80625874,\n",
      "              'title': 'List of capitals of France - Wikipedia',\n",
      "              'url': 'https://en.wikipedia.org/wiki/List_of_capitals_of_France'},\n",
      "             {'content': 'Paris | Definition, Map, Population, Facts, & '\n",
      "                         'History | Britannica Ask the Chatbot Games & Quizzes '\n",
      "                         'History & Society Science & Tech Biographies Animals '\n",
      "                         '& Nature Geography & Travel Arts & Culture ProCon '\n",
      "                         'Money Videos Paris Paris Paris, city and capital of '\n",
      "                         'France, situated in the north-central part of the '\n",
      "                         'country. Paris(more) For centuries Paris has been '\n",
      "                         'one of the world’s most important and attractive '\n",
      "                         'cities. In its centuries of growth Paris has for the '\n",
      "                         'most part retained the circular shape of the early '\n",
      "                         'city. The garden effect of the Seine’s open waters '\n",
      "                         'and its tree-lined banks foster in part the '\n",
      "                         'appearance of Paris as a city well-endowed with '\n",
      "                         'green spaces.',\n",
      "              'raw_content': None,\n",
      "              'score': 0.71948266,\n",
      "              'title': 'Paris | Definition, Map, Population, Facts, & History '\n",
      "                       '| Britannica',\n",
      "              'url': 'https://www.britannica.com/place/Paris'}]}\n"
     ]
    }
   ],
   "source": [
    "result = researcher(\"What is the capital of France?\")\n",
    "pprint(result)"
   ]
  },
  {
   "cell_type": "code",
   "execution_count": null,
   "metadata": {},
   "outputs": [],
   "source": []
  }
 ],
 "metadata": {
  "kernelspec": {
   "display_name": "myvenv",
   "language": "python",
   "name": "python3"
  },
  "language_info": {
   "codemirror_mode": {
    "name": "ipython",
    "version": 3
   },
   "file_extension": ".py",
   "mimetype": "text/x-python",
   "name": "python",
   "nbconvert_exporter": "python",
   "pygments_lexer": "ipython3",
   "version": "3.12.0"
  }
 },
 "nbformat": 4,
 "nbformat_minor": 2
}
