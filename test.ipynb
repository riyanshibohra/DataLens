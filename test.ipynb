{
 "cells": [
  {
   "cell_type": "markdown",
   "metadata": {},
   "source": [
    "# Setting Up"
   ]
  },
  {
   "cell_type": "code",
   "execution_count": 1,
   "metadata": {},
   "outputs": [
    {
     "data": {
      "text/plain": [
       "True"
      ]
     },
     "execution_count": 1,
     "metadata": {},
     "output_type": "execute_result"
    }
   ],
   "source": [
    "import os\n",
    "from dotenv import load_dotenv\n",
    "\n",
    "load_dotenv()"
   ]
  },
  {
   "cell_type": "code",
   "execution_count": 2,
   "metadata": {},
   "outputs": [],
   "source": [
    "OPEN_API_KEY = os.getenv('OPEN_API_KEY')\n",
    "\n",
    "LANGSMITH_TRACING = os.getenv('LANGSMITH_TRACING')\n",
    "LANGSMITH_API_KEY = os.getenv('LANGSMITH_API_KEY')\n",
    "LANGSMITH_PROJECT = os.getenv('LANGSMITH_PROJECT')\n",
    "LANGSMITH_ENDPOINT = os.getenv('LANGSMITH_ENDPOINT')\n",
    "\n",
    "TAVILY_API_KEY = os.getenv('TAVILY_API_KEY')"
   ]
  },
  {
   "cell_type": "code",
   "execution_count": 3,
   "metadata": {},
   "outputs": [],
   "source": [
    "from langchain_openai import ChatOpenAI\n",
    "\n",
    "llm = ChatOpenAI(model=\"gpt-4o\", temperature=0)"
   ]
  },
  {
   "cell_type": "code",
   "execution_count": 4,
   "metadata": {},
   "outputs": [],
   "source": [
    "from tavily import TavilyClient\n",
    "from pprint import pprint\n",
    "tavily = TavilyClient(TAVILY_API_KEY)"
   ]
  },
  {
   "cell_type": "markdown",
   "metadata": {},
   "source": [
    "# Agents:"
   ]
  },
  {
   "cell_type": "markdown",
   "metadata": {},
   "source": [
    "## Supervisor Agent\n",
    "- Task: Supervise the research agent and ensure the output is relevant and sufficient to generate a chart.\n",
    "- Input: A user query\n",
    "- Process: \n",
    "    - Gets the summary and reasoning from the research agent\n",
    "    - Evaluates the summary and reasoning\n",
    "    - Decides if the content is relevant and sufficient to generate a chart.\n",
    "    - If the content is not relevant or sufficient, it will call the research agent again with a new user query.\n",
    "    - If the content is relevant and sufficient, it will go to the chart_agent to generate a chart with a brief chart description.\n",
    "- Output:\n",
    "    - A chart\n",
    "    - Chart description"
   ]
  },
  {
   "cell_type": "markdown",
   "metadata": {},
   "source": [
    "## Research Agent\n",
    "- Task: Research the web for information that is relevant and sufficient to generate a chart.\n",
    "- Input: A user query\n",
    "- Process: \n",
    "    - Uses tools (web search tool and web scraping tool) to research the web for information\n",
    "    - Passes the summary and reasoning to the supervisor agent\n",
    "- Output:\n",
    "    - A summary of the relevant information extracted from the scraped URLs.\n",
    "    - Reasoning for the output why the content is relevant and sufficient to generate a chart.\n"
   ]
  },
  {
   "cell_type": "markdown",
   "metadata": {},
   "source": [
    "## Chart Agent\n",
    "- Task: Generate a chart based on the chart summary and provide chart description\n",
    "- Input: A summary of the relevant information extracted from the scraped URLs.\n",
    "- Process: \n",
    "    - Uses a tool to generate code based on input summary to generate a chart - tool name: code_generator_tool\n",
    "    - Passes the code to the python repl tool to generate a chart - tool name: python_repl_tool\n",
    "    - Passes the chart to another tool to generate a chart description - tool name: chart_description_tool\n",
    "    - Passes both the chart and chart description to the supervisor agent for review\n",
    "- Output:\n",
    "    - A Chart\n",
    "    - A chart description"
   ]
  },
  {
   "cell_type": "markdown",
   "metadata": {},
   "source": [
    "# Tools "
   ]
  },
  {
   "cell_type": "markdown",
   "metadata": {},
   "source": [
    "## Research Agent"
   ]
  },
  {
   "cell_type": "markdown",
   "metadata": {},
   "source": [
    "Tools to make:\n",
    "- Web Search Tool (Researcher)\n",
    "    - Task: Researches the web for information.\n",
    "    - Input: A user query\n",
    "    - Process: \n",
    "        - Gets the relevant keywords from query to perform a search\n",
    "        - Uses keyword and performs a search on the web\n",
    "        - Gets a list of URLs and returns the list (output)\n",
    "    - Output: A list of URLs\n",
    "\n",
    "- Web Scraping Tool (Researcher)\n",
    "    - Task: Scrapes websites from a list of URLs and returns a coherent summary of the content relevant to the user's query.\n",
    "    - Input: A list of URLs\n",
    "    - Process: \n",
    "        - Iterates over each URL in the provided list of URLs\n",
    "        - Performs a GET request to the URL\n",
    "        - Parses the HTML content of the page\n",
    "        - Combines the scraped content into a coherent summary using a language model (LLM).\n",
    "    - Output: A string containing a summary of the relevant information extracted from the scraped URLs."
   ]
  },
  {
   "cell_type": "code",
   "execution_count": 41,
   "metadata": {},
   "outputs": [],
   "source": [
    "from typing import TypedDict, List\n",
    "from typing import Annotated\n",
    "from operator import add\n",
    "from typing import Literal\n",
    "\n",
    "class AgentState(TypedDict):\n",
    "    query: str\n",
    "    actions_performed: Annotated[List[str], add]\n",
    "    next_action: Literal[\"web_search\", \"web_scraping\", \"DONE\"]\n",
    "    urls: List[str]\n",
    "    summary: str\n",
    "    reasoning: str\n",
    "    combined_content: str\n",
    "    keywords_used: Annotated[List[str], add]"
   ]
  },
  {
   "cell_type": "code",
   "execution_count": 43,
   "metadata": {},
   "outputs": [],
   "source": [
    "def web_search_tool(state: AgentState):\n",
    "    \"\"\"Search the web for information and return URLs\"\"\"  \n",
    "\n",
    "    def extract_keywords(user_query):\n",
    "        \"\"\"Extract relevant keywords from a complex user query using LLM\"\"\"\n",
    "\n",
    "        prompt = \"\"\"\n",
    "        Extract a unique search term I can use to search the web for numerical data that can be used for chart generation from this query.\n",
    "\n",
    "        Instructions:\n",
    "        - The search keywords should be specific and relevant to the query provided.\n",
    "        - Focus on terms that are likely to yield quantitative data, such as statistics, figures, or metrics.\n",
    "        - Ensure that the keywords can lead to sources that provide numerical information suitable for creating charts or graphs.\n",
    "        - The search keywords should consist maximum of 4 words.\n",
    "        - The generated keywords should be unique and not already included in the existing list of keywords.\n",
    "\n",
    "        Query: {user_query}\n",
    "        Keywords used so far: {keywords_used}\n",
    "        Search term:\n",
    "        \"\"\"\n",
    "        keywords_used = state.get(\"keywords_used\",[])\n",
    "        response = llm.invoke(prompt.format(user_query=user_query, keywords_used=keywords_used))\n",
    "        return response.content\n",
    "\n",
    "    keywords = extract_keywords(state['query']) \n",
    "    print(keywords)\n",
    "    response = tavily.search(keywords)\n",
    "    print(response)\n",
    "\n",
    "    urls = [result['url'] for result in response['results'][:3]]\n",
    "\n",
    "    return {\"urls\": urls, \"actions_performed\": [f\"Used the keyword: {keywords} to search the web for information. Received {', '.join(urls)} URLs.\"], \"keywords_used\": [keywords]}"
   ]
  },
  {
   "cell_type": "code",
   "execution_count": 35,
   "metadata": {},
   "outputs": [
    {
     "name": "stdout",
     "output_type": "stream",
     "text": [
      "AI advancements statistics\n",
      "{'query': 'AI advancements statistics', 'follow_up_questions': None, 'answer': None, 'images': [], 'results': [{'title': '15 Mind-Blowing AI Statistics Everyone Must Know About Now - Forbes', 'url': 'https://www.forbes.com/sites/bernardmarr/2025/03/10/15-mind-blowing-ai-statistics-everyone-must-know-about-now/', 'content': '71% Of Social Media Images Now AI-Generated This exponential growth in AI-powered deception represents one of the most concerning downsides of advancing AI capabilities, forcing organizations to invest heavily in detection technologies and authentication methods to protect both systems and consumers. Tech Giants Investing $320 Billion In AI Development For 2025 Adoption Gap: 81% Of Workers Still Not Using AI Tools This adoption gap represents both a challenge and a massive opportunity for organizations, which must overcome technical barriers, skills deficits, trust issues, and change resistance to unlock productivity gains that early AI users are already experiencing. This shift toward on-device AI computing promises to transform the mobile experience by enabling sophisticated AI capabilities without cloud dependencies, addressing both performance limitations and privacy concerns that have constrained previous mobile AI implementations.', 'score': 0.680136, 'raw_content': None}, {'title': '54 NEW Artificial Intelligence Statistics (Jan 2024) - Exploding Topics', 'url': 'https://explodingtopics.com/blog/ai-statistics', 'content': \"The global AI market is valued at over\\xa0$390 billion The US AI market is forecast to reach\\xa0$299.64 billion by 2026 The AI market is worth around $391 billion (GrandViewResearch) As of the latest available data, the global AI market is worth $391 billion. The AI software market's global annual revenue stands at over $100 billion (Omdia) The wearable AI market is expected to reach $180 billion this year (Global Market Insights) The AI market is set to grow by 26% this year (Tractica) By next year, business analysts estimated that the US AI market size will reach nearly $300 billion (PR Newswire) AI marketing companies, customer service roles, and sales departments rely on process automation to increase their market revenue share.\", 'score': 0.65887916, 'raw_content': None}, {'title': 'Artificial intelligence (AI) worldwide - statistics & facts', 'url': 'https://www.statista.com/topics/3104/artificial-intelligence-ai-worldwide/', 'content': 'Artificial intelligence (AI) worldwide - statistics & facts | Statista Premium Statistic Growth of market interest in AI globally 2015-2023, by share of companies Premium Statistic Worldwide AI robotic market size to 2020-2030 Premium Statistic Worldwide AI robotic market size to 2020-2030 Growth of the artificial intelligence (AI) robotics market worldwide from 2021 to 2030 Premium Statistic Global generative AI market size from 2020 to 2030 Premium Statistic Growth of the generative AI market globally from 2021-2030 Premium Statistic Global generative AI market size from 2020 to 2030 Generative artificial intelligence (AI) market size worldwide from 2020 to 2030 (in billion U.S. dollars) Premium Statistic Growth of the generative AI market globally from 2021-2030 Generative artificial intelligence (AI) market size growth worldwide from 2021 to 2030', 'score': 0.5697814, 'raw_content': None}, {'title': '22 Top AI Statistics And Trends - Forbes', 'url': 'https://www.forbes.com/advisor/business/ai-statistics/', 'content': 'AI Business Impacts 64% of businesses expect AI to increase productivity AI Business Impacts A Forbes Advisor survey reveals that 24% of business owners express concern about AI’s potential impact on their website traffic, reflecting the uncertainties some businesses face regarding the integration of AI in their operations.[4] Forbes Advisor reports that 64% of business owners believe AI has the potential to improve customer relationships, indicating a positive outlook on the role of AI in enhancing client interactions.[4] Over 60% of business owners say AI will increase productivity Over 60% of business owners believe AI will increase productivity. The majority of consumers are concerned about businesses using AI Best Business VOIP Services Best Business Credit Cards', 'score': 0.5510187, 'raw_content': None}, {'title': \"The current state of AI, according to Stanford's AI Index | World ...\", 'url': 'https://www.weforum.org/stories/2024/04/stanford-university-ai-index-report/', 'content': \"qcSesCollects data on the user's visits to the website, such as the number of visits, average time spent on the website and what pages have been loaded with the purpose of generating reports for optimising the website content. _vwo_dsCollects data on the user's visits to the website, such as the number of visits, average time spent on the website and what pages have been loaded with the purpose of generating reports for optimising the website content. vuid\\xa0[x2]Collects data on visitor interaction with the website's video-content. __mpq_#_#\\xa0[x2]Collects data on user behaviour and interaction in order to optimize the website and make advertisement on the website more relevant. By enabling these cookies, you can help the Forum provide a better website for users like yourself.\", 'score': 0.1372434, 'raw_content': None}], 'response_time': 2.14}\n",
      "['https://www.forbes.com/sites/bernardmarr/2025/03/10/15-mind-blowing-ai-statistics-everyone-must-know-about-now/', 'https://explodingtopics.com/blog/ai-statistics', 'https://www.statista.com/topics/3104/artificial-intelligence-ai-worldwide/']\n"
     ]
    }
   ],
   "source": [
    "#test\n",
    "# Create a sample state to test the web_scraping_tool function\n",
    "test_state = AgentState(\n",
    "    query=\"What are the latest advancements in AI?\",\n",
    "    urls=[],\n",
    "    summary=\"\",\n",
    "    reasoning=\"\",\n",
    "    combined_content=\"\"\n",
    ")\n",
    "\n",
    "# Call the web_scraping_tool function with the test state\n",
    "urls = web_search_tool(test_state)\n",
    "\n",
    "# Print the output summary\n",
    "print(urls)\n"
   ]
  },
  {
   "cell_type": "code",
   "execution_count": 44,
   "metadata": {},
   "outputs": [],
   "source": [
    "from bs4 import BeautifulSoup\n",
    "import requests\n",
    "\n",
    "def web_scraping_tool(state: AgentState):\n",
    "    \"\"\"Scrape websites from a list of URLs and return a dictionary with URL and content\"\"\"\n",
    "    results = {}\n",
    "    # Iterate over each URL in the provided list of URLs\n",
    "    for url in state['urls']:\n",
    "        response = requests.get(url, timeout=10)\n",
    "        soup = BeautifulSoup(response.text, 'html.parser')\n",
    "        results[url] = soup.get_text()\n",
    "\n",
    "    def combine_scraped_content(scraped_data):\n",
    "        \"\"\"This function takes a dictionary of scraped data, where each key is a URL and each value is the corresponding content.\n",
    "        It constructs a prompt for a language model (LLM) to generate a coherent summary of the content relevant to the user's query.\n",
    "        \n",
    "        The function initializes a prompt string that instructs the LLM to combine the content. It then iterates over the scraped data,\n",
    "        appending each URL and its content to the prompt. After constructing the complete prompt, it invokes the LLM with this prompt\n",
    "        and returns the generated summary as a string.\"\"\"\n",
    "        \n",
    "        prompt = \"\"\"\n",
    "        Combine the following content into a coherent summary, relevant for the user query.\n",
    "\n",
    "        Instructions:\n",
    "        - If there are any numerical data, make sure to include it in the summary.\n",
    "        - This numerical data from the summary will be later used to generate a chart.\n",
    "        \"\"\"\n",
    "\n",
    "        for url, content in scraped_data.items():\n",
    "            prompt += f\"URL: {url}\\nContent: {content}\\n\\n\"\n",
    "        \n",
    "        response = llm.invoke(prompt)\n",
    "        return response.content\n",
    "\n",
    "    # Call the combine function and return the combined content\n",
    "    combined_content = combine_scraped_content(results)\n",
    "    return {\"combined_content\": combined_content, \"actions_performed\": [f\"Scraped the content from the URLs: {', '.join(results.keys())} and combined it into a coherent summary.\"]}"
   ]
  },
  {
   "cell_type": "code",
   "execution_count": 37,
   "metadata": {},
   "outputs": [
    {
     "name": "stdout",
     "output_type": "stream",
     "text": [
      "The global artificial intelligence (AI) market is experiencing rapid growth, with its value projected to increase from $391 billion in 2024 to $1.81 trillion by 2030, reflecting a compound annual growth rate (CAGR) of 37.3%. In 2025, tech giants are expected to invest $320 billion in AI development, underscoring the technology's critical role in future market positioning. The AI software market alone is anticipated to generate $126 billion in revenue by 2025. AI's impact is evident across various sectors, with 97% of business leaders reporting positive returns on AI investments. The healthcare AI market, valued at $38.7 billion, has more than doubled since 2023, highlighting its transformative potential in drug discovery and personalized treatment. Despite these advancements, challenges remain, such as the adoption gap, with 81% of workers not yet using AI tools, and trust issues, particularly in the U.S., where only 32% of the population trusts AI compared to 77% in India. Additionally, AI's energy consumption is a concern, with data centers projected to consume 11% of U.S. power by 2030. The AI revolution is reshaping industries, offering significant opportunities for early adopters while posing challenges for those slow to adapt.\n"
     ]
    }
   ],
   "source": [
    "#test\n",
    "test_state = AgentState(\n",
    "    query=\"What are the latest advancements in AI?\",\n",
    "    urls= urls,\n",
    "    summary=\"\",\n",
    "    reasoning=\"\",\n",
    "    combined_content=\"\"\n",
    ")\n",
    "\n",
    "combined_content = web_scraping_tool(test_state)\n",
    "print(combined_content)"
   ]
  },
  {
   "cell_type": "code",
   "execution_count": 16,
   "metadata": {},
   "outputs": [],
   "source": [
    "from pydantic import BaseModel, Field\n",
    "class ResearchOutput(BaseModel):\n",
    "    next_action: Literal[\"web_search\", \"web_scraping\", \"DONE\"] = Field(description=\"The next action to perform. Can be web_search, web_scraping, or DONE if the content is sufficient to generate a chart.\")\n",
    "    reasoning: str = Field(description=\"Reasoning for the output, explaining which tool should be used next and why the content is relevant and sufficient to generate a chart based on the summary received.\")"
   ]
  },
  {
   "cell_type": "code",
   "execution_count": 45,
   "metadata": {},
   "outputs": [],
   "source": [
    "from langchain_core.messages import HumanMessage, SystemMessage\n",
    "\n",
    "def research_agent(state: AgentState):\n",
    "    system_prompt = \"\"\"\n",
    "    You are an expert researcher. You are given a user query and you need to use tools to research the web for information that is reliable and sufficient to generate a chart.\n",
    "    \n",
    "    You need to use the following tools to research the web for information:\n",
    "\n",
    "    1. Web Search Tool: This tool does the following:\n",
    "        - Task: Researches the web for information.\n",
    "        - Input: A user query\n",
    "        - Process: \n",
    "            - Gets the relevant keywords from query to perform a search\n",
    "            - Uses keyword and performs a search on the web\n",
    "            - Gets a list of URLs and returns the list (output)\n",
    "        - Output: A list of URLs\n",
    "    2. Web Scraping Tool: This tool does the following:\n",
    "        - Task: Scrapes websites from a list of URLs and returns a coherent summary of the content relevant to the user's query.\n",
    "        - Input: A list of URLs\n",
    "        - Process: \n",
    "            - Iterates over each URL in the provided list of URLs\n",
    "            - Performs a GET request to the URL\n",
    "            - Parses the HTML content of the page\n",
    "            - Combines the scraped content into a coherent summary using a language model (LLM).\n",
    "        - Output: A string containing a summary of the relevant information extracted from the scraped URLs.\n",
    "    3. If the content is sufficient to generate a chart, you must respond with DONE as the next action and provide reasoning as output.\n",
    "\n",
    "    Your inputs will be:\n",
    "    - A user query\n",
    "    - Actions performed so far\n",
    "    - A summary of the relevant information extracted from the scraped URLs. If no URLs have been scraped yet, the summary will be an empty string.\n",
    "\n",
    "    Your output will be:\n",
    "    - Next action to perform: Can be web_search, web_scraping, or DONE if the content is sufficient to generate a chart.\n",
    "    - Reasoning for the output, explaining which tool should be used next and why the content is relevant and sufficient to generate a chart based on the summary received.\n",
    "\n",
    "    Instructions:\n",
    "    - You will receive a user query and a summary of the relevant information extracted from the scraped URLs.\n",
    "    - You need to use the web search tool to get a list of URLs based on the user query.\n",
    "    - You need to pass this list of URLs (that you get from the web search tool) to the web scraping tool to get a summary of the content relevant to the user's query.\n",
    "    - You need to evaluate the summary received from the web scraping tool and decide if the content is relevant enough to generate a chart based on the user's query.\n",
    "    - If the content is relevant and sufficient enough to generate a meaningful chart, you must pass along the summary and the reasoning as output to the next agent.\n",
    "\n",
    "    \"\"\"\n",
    "    \n",
    "    human_prompt = \"\"\"\n",
    "    User Query: {query}\n",
    "    Summary of the relevant information extracted from the scraped URLs: {summary}\n",
    "    \"\"\"\n",
    "    system_message = SystemMessage(content=system_prompt)\n",
    "    query = state['query']\n",
    "    actions_performed = state.get('actions_performed', [])\n",
    "    summary = state.get('combined_content', '')\n",
    "\n",
    "    human_message = HumanMessage(content=human_prompt.format(query=query, summary=summary, actions_performed=actions_performed))\n",
    "    \n",
    "\n",
    "    research_prompt = [system_message, human_message]\n",
    "    response = llm.with_structured_output(ResearchOutput).invoke(research_prompt)\n",
    "    return {\"summary\": response.summary, \"reasoning\": response.reasoning}\n",
    "    "
   ]
  },
  {
   "cell_type": "code",
   "execution_count": null,
   "metadata": {},
   "outputs": [],
   "source": [
    "def after_research_agent_router(state: AgentState):\n",
    "    \n"
   ]
  },
  {
   "cell_type": "code",
   "execution_count": 32,
   "metadata": {},
   "outputs": [],
   "source": [
    "from langchain.agents import Tool\n",
    "from langchain_experimental.utilities import PythonREPL\n",
    "import matplotlib as plt"
   ]
  },
  {
   "cell_type": "code",
   "execution_count": null,
   "metadata": {},
   "outputs": [
    {
     "name": "stderr",
     "output_type": "stream",
     "text": [
      "Matplotlib is building the font cache; this may take a moment.\n"
     ]
    },
    {
     "data": {
      "image/png": "[encoded data removed]",
      "text/plain": [
       "<Figure size 640x480 with 1 Axes>"
      ]
     },
     "metadata": {},
     "output_type": "display_data"
    },
    {
     "data": {
      "text/plain": [
       "''"
      ]
     },
     "execution_count": 33,
     "metadata": {},
     "output_type": "execute_result"
    }
   ],
   "source": [
    "def python_repl_tool(code):\n",
    "    \"\"\"Execute Python code and return the output\"\"\"\n",
    "    python_repl = PythonREPL()\n",
    "    result = python_repl.run(code)\n",
    "    return result\n",
    "\n",
    "#test\n",
    "\n",
    "code = \"\"\"\n",
    "import matplotlib.pyplot as plt\n",
    "\n",
    "# Data for plotting\n",
    "x = [0, 1, 2, 3, 4, 5]\n",
    "y = [0, 1, 4, 9, 16, 25]\n",
    "\n",
    "# Create the plot\n",
    "plt.plot(x, y, marker='o', linestyle='-', color='b', label='y = x^2')\n",
    "\n",
    "# Add title and labels\n",
    "plt.title('Simple Line Chart')\n",
    "plt.xlabel('X-axis')\n",
    "plt.ylabel('Y-axis')\n",
    "\n",
    "# Display legend\n",
    "plt.legend()\n",
    "\n",
    "# Show the plot\n",
    "plt.show()\n",
    " \"\"\"\n",
    "\n",
    "python_repl_tool(print(\"Hello, world!\"))"
   ]
  }
 ],
 "metadata": {
  "kernelspec": {
   "display_name": "myvenv",
   "language": "python",
   "name": "python3"
  },
  "language_info": {
   "codemirror_mode": {
    "name": "ipython",
    "version": 3
   },
   "file_extension": ".py",
   "mimetype": "text/x-python",
   "name": "python",
   "nbconvert_exporter": "python",
   "pygments_lexer": "ipython3",
   "version": "3.12.0"
  }
 },
 "nbformat": 4,
 "nbformat_minor": 2
}
