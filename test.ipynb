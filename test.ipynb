{
 "cells": [
  {
   "cell_type": "markdown",
   "metadata": {},
   "source": [
    "# Setting Up"
   ]
  },
  {
   "cell_type": "code",
   "execution_count": 1,
   "metadata": {},
   "outputs": [
    {
     "data": {
      "text/plain": [
       "True"
      ]
     },
     "execution_count": 1,
     "metadata": {},
     "output_type": "execute_result"
    }
   ],
   "source": [
    "import os\n",
    "from dotenv import load_dotenv\n",
    "\n",
    "load_dotenv()"
   ]
  },
  {
   "cell_type": "code",
   "execution_count": 2,
   "metadata": {},
   "outputs": [],
   "source": [
    "OPEN_API_KEY = os.getenv('OPEN_API_KEY')\n",
    "\n",
    "LANGSMITH_TRACING = os.getenv('LANGSMITH_TRACING')\n",
    "LANGSMITH_API_KEY = os.getenv('LANGSMITH_API_KEY')\n",
    "LANGSMITH_PROJECT = os.getenv('LANGSMITH_PROJECT')\n",
    "LANGSMITH_ENDPOINT = os.getenv('LANGSMITH_ENDPOINT')\n",
    "\n",
    "TAVILY_API_KEY = os.getenv('TAVILY_API_KEY')"
   ]
  },
  {
   "cell_type": "code",
   "execution_count": 3,
   "metadata": {},
   "outputs": [],
   "source": [
    "from langchain_openai import ChatOpenAI\n",
    "\n",
    "llm = ChatOpenAI(model=\"gpt-4o\", temperature=0)"
   ]
  },
  {
   "cell_type": "code",
   "execution_count": 4,
   "metadata": {},
   "outputs": [],
   "source": [
    "from tavily import TavilyClient\n",
    "from pprint import pprint\n",
    "tavily = TavilyClient(TAVILY_API_KEY)"
   ]
  },
  {
   "cell_type": "markdown",
   "metadata": {},
   "source": [
    "# Agents:"
   ]
  },
  {
   "cell_type": "markdown",
   "metadata": {},
   "source": [
    "## Supervisor Agent\n",
    "- Task: Supervise the research agent and ensure the output is relevant and sufficient to generate a chart.\n",
    "- Input: A user query\n",
    "- Process: \n",
    "    - Gets the summary and reasoning from the research agent\n",
    "    - Evaluates the summary and reasoning\n",
    "    - Decides if the content is relevant and sufficient to generate a chart.\n",
    "    - If the content is not relevant or sufficient, it will call the research agent again with a new user query.\n",
    "    - If the content is relevant and sufficient, it will go to the chart_agent to generate a chart with a brief chart description.\n",
    "- Output:\n",
    "    - A chart\n",
    "    - Chart description"
   ]
  },
  {
   "cell_type": "markdown",
   "metadata": {},
   "source": [
    "## Research Agent\n",
    "- Task: Research the web for information that is relevant and sufficient to generate a chart.\n",
    "- Input: A user query\n",
    "- Process: \n",
    "    - Uses tools (web search tool and web scraping tool) to research the web for information\n",
    "    - Passes the summary and reasoning to the supervisor agent\n",
    "- Output:\n",
    "    - A summary of the relevant information extracted from the scraped URLs.\n",
    "    - Reasoning for the output why the content is relevant and sufficient to generate a chart.\n"
   ]
  },
  {
   "cell_type": "markdown",
   "metadata": {},
   "source": [
    "## Chart Agent\n",
    "- Task: Generate a chart based on the chart summary and provide chart description\n",
    "- Input: A summary of the relevant information extracted from the scraped URLs.\n",
    "- Process: \n",
    "    - Uses a tool to generate code based on input summary to generate a chart - tool name: code_generator_tool\n",
    "    - Passes the code to the python repl tool to generate a chart - tool name: python_repl_tool\n",
    "    - Passes the chart to another tool to generate a chart description - tool name: chart_description_tool\n",
    "    - Passes both the chart and chart description to the supervisor agent for review\n",
    "- Output:\n",
    "    - A Chart\n",
    "    - A chart description"
   ]
  },
  {
   "cell_type": "markdown",
   "metadata": {},
   "source": [
    "# 1. Research Agent"
   ]
  },
  {
   "cell_type": "markdown",
   "metadata": {},
   "source": [
    "Tools to make:\n",
    "- Web Search Tool (Researcher)\n",
    "    - Task: Researches the web for information.\n",
    "    - Input: A user query\n",
    "    - Process: \n",
    "        - Gets the relevant keywords from query to perform a search\n",
    "        - Uses keyword and performs a search on the web\n",
    "        - Gets a list of URLs and returns the list (output)\n",
    "    - Output: A list of URLs\n",
    "\n",
    "- Web Scraping Tool (Researcher)\n",
    "    - Task: Scrapes websites from a list of URLs and returns a coherent summary of the content relevant to the user's query.\n",
    "    - Input: A list of URLs\n",
    "    - Process: \n",
    "        - Iterates over each URL in the provided list of URLs\n",
    "        - Performs a GET request to the URL\n",
    "        - Parses the HTML content of the page\n",
    "        - Combines the scraped content into a coherent summary using a language model (LLM).\n",
    "    - Output: A string containing a summary of the relevant information extracted from the scraped URLs."
   ]
  },
  {
   "cell_type": "code",
   "execution_count": 5,
   "metadata": {},
   "outputs": [],
   "source": [
    "from pydantic import BaseModel, Field\n",
    "\n",
    "from typing import TypedDict, List\n",
    "from typing import Annotated\n",
    "from operator import add\n",
    "from typing import Literal\n",
    "\n",
    "class ResearchOutput(BaseModel):\n",
    "    next_action: Literal[\"web_search\", \"web_scraping\", \"DONE\"] = Field(description=\"The next action to perform. Can be web_search, web_scraping, or DONE if the content is sufficient to generate a chart.\")\n",
    "    reasoning: str = Field(description=\"Reasoning for the output, explaining which tool should be used next and why the content is relevant and sufficient to generate a chart based on the summary received.\")\n",
    "\n",
    "class ChartOutput(BaseModel):\n",
    "    next_action: Literal[\"code_generator_tool\", \"python_repl_tool\", \"chart_description_tool\", \"DONE\"] = Field(description=\"The next action to perform. Can be code_generator_tool, python_repl_tool, chart_description_tool, or DONE if the chart and description are good enough to be used.\")\n",
    "    reasoning: str = Field(description=\"Reasoning for the output, explaining which tool should be used next and why the chart and description are good enough to be used.\")\n",
    "\n",
    "class AgentState(TypedDict):\n",
    "    query: str\n",
    "    actions_performed: Annotated[List[str], add]\n",
    "    research_agent_output: ResearchOutput\n",
    "    urls: List[str]\n",
    "    summary: str\n",
    "    combined_content: str\n",
    "    keywords_used: Annotated[List[str], add]\n",
    "    code: str\n",
    "    chart: str\n",
    "    description: str\n",
    "    chart_agent_output: ChartOutput\n",
    "    "
   ]
  },
  {
   "cell_type": "code",
   "execution_count": 6,
   "metadata": {},
   "outputs": [],
   "source": [
    "def web_search_tool(state: AgentState):\n",
    "    \"\"\"Search the web for information and return URLs\"\"\"  \n",
    "\n",
    "    def extract_keywords(user_query):\n",
    "        \"\"\"Extract relevant keywords from a complex user query using LLM\"\"\"\n",
    "\n",
    "        prompt = \"\"\"\n",
    "        Extract a unique search term I can use to search the web for numerical data that can be used for chart generation from this query.\n",
    "\n",
    "        Instructions:\n",
    "        - The search keywords should be specific and relevant to the query provided.\n",
    "        - Focus on terms that are likely to yield quantitative data, such as statistics, figures, or metrics.\n",
    "        - Ensure that the keywords can lead to sources that provide numerical information suitable for creating charts or graphs.\n",
    "        - The search keywords should consist maximum of 4 words.\n",
    "        - The generated keywords should be unique and not already included in the existing list of keywords.\n",
    "\n",
    "        Query: {user_query}\n",
    "        Keywords used so far: {keywords_used}\n",
    "        Search term:\n",
    "        \"\"\"\n",
    "        keywords_used = state.get(\"keywords_used\",[\"\"])\n",
    "        response = llm.invoke(prompt.format(user_query=user_query, keywords_used=keywords_used))\n",
    "        return response.content\n",
    "\n",
    "    keywords = extract_keywords(state['query']) \n",
    "    print(keywords)\n",
    "    response = tavily.search(keywords)\n",
    "    print(response)\n",
    "\n",
    "    urls = [result['url'] for result in response['results'][:3]]\n",
    "\n",
    "    return {\"urls\": urls, \"actions_performed\": [f\"Used the keyword: {keywords} to search the web for information. Received {', '.join(urls)} URLs.\"], \"keywords_used\": [keywords]}"
   ]
  },
  {
   "cell_type": "code",
   "execution_count": 7,
   "metadata": {},
   "outputs": [
    {
     "name": "stdout",
     "output_type": "stream",
     "text": [
      "\"AI advancements statistics\"\n",
      "{'query': '\"AI advancements statistics\"', 'follow_up_questions': None, 'answer': None, 'images': [], 'results': [{'title': 'EOF', 'url': 'http://www.google.com/search?hl=en&q=\"AI+advancements+statistics\"', 'content': '', 'score': 0.036579784, 'raw_content': None}], 'response_time': 1.69}\n",
      "{'urls': ['http://www.google.com/search?hl=en&q=\"AI+advancements+statistics\"'], 'actions_performed': ['Used the keyword: \"AI advancements statistics\" to search the web for information. Received http://www.google.com/search?hl=en&q=\"AI+advancements+statistics\" URLs.'], 'keywords_used': ['\"AI advancements statistics\"']}\n"
     ]
    }
   ],
   "source": [
    "#test\n",
    "# Create a sample state to test the web_scraping_tool function\n",
    "test_state = AgentState(\n",
    "    query=\"What are the latest advancements in AI?\",\n",
    "    urls=[],\n",
    "    summary=\"\",\n",
    "    reasoning=\"\",\n",
    "    combined_content=\"\"\n",
    ")\n",
    "\n",
    "# Call the web_scraping_tool function with the test state\n",
    "urls = web_search_tool(test_state)\n",
    "\n",
    "# Print the output summary\n",
    "print(urls)\n"
   ]
  },
  {
   "cell_type": "code",
   "execution_count": 8,
   "metadata": {},
   "outputs": [],
   "source": [
    "from bs4 import BeautifulSoup\n",
    "import requests\n",
    "\n",
    "def web_scraping_tool(state: AgentState):\n",
    "    \"\"\"Scrape websites from a list of URLs and return a dictionary with URL and content\"\"\"\n",
    "    results = {}\n",
    "    # Iterate over each URL in the provided list of URLs\n",
    "    for url in state['urls']:\n",
    "        response = requests.get(url, timeout=10)\n",
    "        soup = BeautifulSoup(response.text, 'html.parser')\n",
    "        results[url] = soup.get_text()\n",
    "\n",
    "    def combine_scraped_content(scraped_data):\n",
    "        \"\"\"This function takes a dictionary of scraped data, where each key is a URL and each value is the corresponding content.\n",
    "        It constructs a prompt for a language model (LLM) to generate a coherent summary of the content relevant to the user's query.\n",
    "        \n",
    "        The function initializes a prompt string that instructs the LLM to combine the content. It then iterates over the scraped data,\n",
    "        appending each URL and its content to the prompt. After constructing the complete prompt, it invokes the LLM with this prompt\n",
    "        and returns the generated summary as a string.\"\"\"\n",
    "        \n",
    "        prompt = \"\"\"\n",
    "        Combine the following content into a coherent summary, relevant for the user query.\n",
    "\n",
    "        Instructions:\n",
    "        - If there are any numerical data, make sure to include it in the summary.\n",
    "        - This numerical data from the summary will be later used to generate a chart.\n",
    "        \"\"\"\n",
    "\n",
    "        for url, content in scraped_data.items():\n",
    "            prompt += f\"URL: {url}\\nContent: {content}\\n\\n\"\n",
    "        \n",
    "        response = llm.invoke(prompt)\n",
    "        return response.content\n",
    "\n",
    "    # Call the combine function and return the combined content\n",
    "    combined_content = combine_scraped_content(results)\n",
    "    return {\"combined_content\": combined_content, \"actions_performed\": [f\"Scraped the content from the URLs: {', '.join(results.keys())} and combined it into a coherent summary.\"]}"
   ]
  },
  {
   "cell_type": "code",
   "execution_count": 9,
   "metadata": {},
   "outputs": [],
   "source": [
    "from langchain_core.messages import HumanMessage, SystemMessage\n",
    "\n",
    "def research_agent(state: AgentState):\n",
    "    system_prompt = \"\"\"\n",
    "    You are an expert researcher. You are given a user query and you need to use tools to research the web for information that is reliable and sufficient to generate a chart.\n",
    "    \n",
    "    You need to use the following tools to research the web for information:\n",
    "\n",
    "    1. Web Search Tool: This tool does the following:\n",
    "        - Task: Researches the web for information.\n",
    "        - Input: A user query\n",
    "        - Process: \n",
    "            - Gets the relevant keywords from query to perform a search\n",
    "            - Uses keyword and performs a search on the web\n",
    "            - Gets a list of URLs and returns the list (output)\n",
    "        - Output: A list of URLs\n",
    "        - Decision: Use this tool ONLY when you need to gather initial information based on the user query OR when the summary from web scraping is insufficient to generate a chart.\n",
    "\n",
    "    2. Web Scraping Tool: This tool does the following:\n",
    "        - Task: Scrapes websites from a list of URLs and returns a coherent summary of the content relevant to the user's query.\n",
    "        - Input: A list of URLs (received from the web_search_tool)\n",
    "        - Process: \n",
    "            - Iterates over each URL in the provided list of URLs\n",
    "            - Performs a GET request to the URL\n",
    "            - Parses the HTML content of the page\n",
    "            - Combines the scraped content into a coherent summary using a language model (LLM).\n",
    "        - Output: A string containing a summary of the relevant information extracted from the scraped URLs.\n",
    "        - Decision: Use this tool IMMEDIATELY after receiving URLs from the web search tool to extract relevant content.\n",
    "\n",
    "    3. If the content is sufficient to generate a chart, you must respond with DONE as the next action and provide reasoning as output.\n",
    "\n",
    "    Your inputs will be:\n",
    "    - A user query\n",
    "    - Actions performed so far\n",
    "    - A list of URLs obtained from the web_search_tool\n",
    "    - A summary of the relevant information extracted from the web_scraping_tool. If no URLs have been scraped yet, the summary will be an empty string.\n",
    "\n",
    "    Your output will be:\n",
    "    - Next action to perform: Can be web_search, web_scraping, or DONE if the content is sufficient to generate a chart.\n",
    "    - Reasoning for the output, explaining which tool should be used next and why the content is relevant and sufficient to generate a chart based on the summary received.\n",
    "\n",
    "    Instructions:\n",
    "    - You will receive a user query and a summary of the relevant information extracted from the scraped URLs.\n",
    "    - For your FIRST action, you MUST use the web_search_tool to get a list of URLs based on the user query.\n",
    "    - After receiving URLs from web_search_tool, you MUST ALWAYS use the web_scraping_tool next to process those URLs.\n",
    "    - After receiving the summary from web_scraping_tool, evaluate if the content is sufficient to generate a chart.\n",
    "    - If the summary is sufficient to generate a meaningful chart, respond with DONE.\n",
    "    - ONLY return to web_search_tool if the summary from web_scraping_tool is inadequate or insufficient for generating a chart.\n",
    "    - DO NOT repeatedly call web_search_tool if you already have URLs that haven't been scraped yet.\n",
    "\n",
    "    IMPORTANT: \n",
    "    - If this is your first action and no actions have been performed yet, ALWAYS choose web_search_tool.\n",
    "    - If URLs have been obtained but not yet scraped (check the actions_performed), ALWAYS choose web_scraping_tool next.\n",
    "    - Only evaluate the sufficiency of information AFTER receiving a summary from web_scraping_tool.\n",
    "    \"\"\"\n",
    "    human_prompt = \"\"\"\n",
    "    User Query: {query}\n",
    "    Actions performed so far: {actions_performed}\n",
    "    Summary of the relevant information extracted from the scraped URLs: {summary}\n",
    "    \"\"\"\n",
    "    system_message = SystemMessage(content=system_prompt)\n",
    "    query = state['query']\n",
    "    actions_performed = state.get('actions_performed', [])\n",
    "    summary = state.get('combined_content', '')\n",
    "\n",
    "    human_message = HumanMessage(content=human_prompt.format(query=query, summary=summary, actions_performed=actions_performed))\n",
    "    \n",
    "\n",
    "    research_prompt = [system_message, human_message]\n",
    "    response = llm.with_structured_output(ResearchOutput).invoke(research_prompt)\n",
    "    return {\"research_agent_output\": response, \"actions_performed\": [f\"Research agent performed the action: {response.next_action}\"]}\n",
    "    "
   ]
  },
  {
   "cell_type": "code",
   "execution_count": 10,
   "metadata": {},
   "outputs": [],
   "source": [
    "def end_agent(state: AgentState):\n",
    "    return state"
   ]
  },
  {
   "cell_type": "code",
   "execution_count": 11,
   "metadata": {},
   "outputs": [],
   "source": [
    "from langgraph.graph import StateGraph, START, END\n",
    "\n",
    "def after_research_agent_router(state: AgentState):\n",
    "    next_action = state['research_agent_output'].next_action\n",
    "    if next_action == 'web_search':\n",
    "        return \"web_search_tool\"\n",
    "    elif next_action == 'web_scraping':\n",
    "        return \"web_scraping_tool\"\n",
    "    elif next_action == 'DONE':\n",
    "        return \"end_agent\"\n",
    "    "
   ]
  },
  {
   "cell_type": "markdown",
   "metadata": {},
   "source": [
    "### Graph 1: Research Agent"
   ]
  },
  {
   "cell_type": "code",
   "execution_count": 12,
   "metadata": {},
   "outputs": [
    {
     "data": {
      "image/png": "[encoded data removed]",
      "text/plain": [
       "<IPython.core.display.Image object>"
      ]
     },
     "metadata": {},
     "output_type": "display_data"
    }
   ],
   "source": [
    "from IPython.display import Image, display\n",
    "\n",
    "graph = StateGraph(AgentState)\n",
    "graph.add_node(\"research_agent\", research_agent)\n",
    "graph.add_node(\"web_search_tool\", web_search_tool)\n",
    "graph.add_node(\"web_scraping_tool\", web_scraping_tool)\n",
    "graph.add_node(\"end_agent\", end_agent)\n",
    "\n",
    "graph.add_edge(START, \"research_agent\")\n",
    "graph.add_conditional_edges(\n",
    "    \"research_agent\",\n",
    "    after_research_agent_router,\n",
    "    [\"web_search_tool\", \"web_scraping_tool\", \"end_agent\"]\n",
    ")\n",
    "graph.add_edge(\"web_search_tool\", \"research_agent\")\n",
    "graph.add_edge(\"web_scraping_tool\", \"research_agent\")\n",
    "graph.add_edge(\"end_agent\", END)\n",
    "research_agent = graph.compile()\n",
    "\n",
    "display(Image(research_agent.get_graph().draw_mermaid_png()))\n"
   ]
  },
  {
   "cell_type": "code",
   "execution_count": 13,
   "metadata": {},
   "outputs": [
    {
     "name": "stdout",
     "output_type": "stream",
     "text": [
      "{'research_agent': {'research_agent_output': ResearchOutput(next_action='web_search', reasoning=\"Since no actions have been performed yet and we need to gather initial information on the current stock price trends of Apple, the first step is to use the web_search_tool to find relevant URLs that can provide this information. This will allow us to gather data on Apple's stock price trends from reliable sources.\"), 'actions_performed': ['Research agent performed the action: web_search']}}\n",
      "Apple stock price trends\n",
      "{'query': 'Apple stock price trends', 'follow_up_questions': None, 'answer': None, 'images': [], 'results': [{'title': 'Apple - 45 Year Stock Price History | AAPL | MacroTrends', 'url': 'https://www.macrotrends.net/stocks/charts/AAPL/apple/stock-price-history', 'content': 'Apple - 45 Year Stock Price History | AAPL | MacroTrends Apple - 45 Year Stock Price History | AAPL The latest closing stock price for Apple as of March 06, 2025 is 235.33. The all-time high Apple stock closing price was 259.02 on December 26, 2024. The Apple 52-week high stock price is 260.10, which is 10.5% above the current share price. The Apple 52-week low stock price is 164.07, which is 30.3% below the current share price. The average Apple stock price for the last 52 weeks is 216.76. | Apple Historical Annual Stock Price Data | | Apple - 45 Year Stock Price History | AAPL |  | | Apple - 45 Year Stock Price History | AAPL |  |', 'score': 0.78788257, 'raw_content': None}, {'title': 'Apple (AAPL) Stock Price History & Chart since 1980', 'url': 'https://wallstreetnumbers.com/stocks/aapl/price', 'content': \"Apple (AAPL) Stock Price History & Chart since 1980 Apple (AAPL) Stock Price Apple stock price is currently $242.90, with a rise of +$0.13 (+0.05%) during the most recent trading day. AAPL price is now -0.03% below its all-time high of $242.97. AAPL price is up +25.37% year-on-year AAPL price is currently -0.03% below its historical high of $242.97 AAPL price is currently -2.84% lower than the consensus analysts' forecast AAPL Price Chart AAPL : Apple stock AAPL Price Performance AAPL Price High & Low What is the all time high price for Apple stock? The current price of AAPL is $242.90 What is the all time high price for Apple stock? Apple stock all-time high price is $242.97\", 'score': 0.74697095, 'raw_content': None}, {'title': 'Apple Inc. (AAPL) Stock Forecast & Price Targets', 'url': 'https://stockanalysis.com/stocks/aapl/forecast/', 'content': '(AAPL) Stock Forecast & Price Targets Stocks Top Stocks IPOs Apple Stock Forecast Stock Price Forecast The 31 analysts with 12-month price forecasts for Apple stock have an average target of 242.36, with a low estimate of 180 and a high estimate of 325. The average analyst rating for Apple stock from 33 stock analysts is \"Buy\". This means that analysts believe this stock is likely to outperform the market over the next twelve months. | Strong Buy | Maintains | $255 → $275 | +11.32% | Jan 31, 2025 | | Strong Buy | Maintains | $253 → $265 | +7.27% | Jan 31, 2025 | EPS Forecast Sources: Price targets and analyst ratings provided by Benzinga. Stocks IPOs', 'score': 0.72418857, 'raw_content': None}, {'title': 'Apple Stock Chart — NASDAQ:AAPL Stock Price - TradingView', 'url': 'https://www.tradingview.com/symbols/NASDAQ-AAPL/', 'content': 'Apple Stock Chart — NASDAQ:AAPL Stock Price — TradingView Apple Inc About Apple Inc What is Apple Inc stock price today? Watch Apple Inc stock price performance more closely on the chart. For instance, on NASDAQ exchange Apple Inc stocks are traded under the ticker AAPL. Is Apple Inc stock price growing? Watch AAPL chart and read a more detailed Apple Inc stock forecast: see what analysts think of Apple Inc and suggest that you do with its stocks. What are Apple Inc stock highest and lowest prices ever? How to buy Apple Inc stocks? You can trade Apple Inc stock right from TradingView charts — choose your broker and connect to your account. Should I invest in Apple Inc stock?', 'score': 0.462061, 'raw_content': None}, {'title': 'Apple Inc. (AAPL) Stock Price, News, Quote & History - Yahoo Finance', 'url': 'https://finance.yahoo.com/quote/AAPL/', 'content': 'The company offers iPhone, a line of smartphones; Mac, a line of personal computers; iPad, a line of multi-purpose tablets; and wearables, home, and accessories comprising AirPods, Apple TV, Apple Watch, Beats products, and HomePod. It also provides AppleCare support and cloud services; and operates various platforms, including the App Store that allow customers to discover and download applications and digital content, such as books, music, video, games, and podcasts, as well as advertising services include third-party licensing arrangements and its own advertising platforms. In addition, the company offers various subscription-based services, such as Apple Arcade, a game subscription service; Apple Fitness+, a personalized fitness service; Apple Music, which offers users a curated listening experience with on-demand radio stations; Apple News+, a subscription news and magazine service; Apple TV+, which offers exclusive original content; Apple Card, a co-branded credit card; and Apple Pay, a cashless payment service, as well as licenses its intellectual property.', 'score': 0.39152282, 'raw_content': None}], 'response_time': 2.01}\n",
      "{'web_search_tool': {'urls': ['https://www.macrotrends.net/stocks/charts/AAPL/apple/stock-price-history', 'https://wallstreetnumbers.com/stocks/aapl/price', 'https://stockanalysis.com/stocks/aapl/forecast/'], 'actions_performed': ['Used the keyword: Apple stock price trends to search the web for information. Received https://www.macrotrends.net/stocks/charts/AAPL/apple/stock-price-history, https://wallstreetnumbers.com/stocks/aapl/price, https://stockanalysis.com/stocks/aapl/forecast/ URLs.'], 'keywords_used': ['Apple stock price trends']}}\n",
      "{'research_agent': {'research_agent_output': ResearchOutput(next_action='web_scraping', reasoning=\"Since URLs have been obtained from the web search tool but have not yet been scraped, the next logical step is to use the web_scraping_tool. This will allow us to extract relevant information about Apple's current stock price trends from the provided URLs. Only after obtaining a summary from the web scraping can we evaluate if the information is sufficient to generate a chart.\"), 'actions_performed': ['Research agent performed the action: web_scraping']}}\n",
      "{'web_scraping_tool': {'combined_content': 'As of March 12, 2025, Apple\\'s (AAPL) stock price is $221.06, reflecting a decrease of $4.30 (-1.91%) from the previous trading day. Over the past year, the stock has increased by $47.76 (+27.56%), although it remains 14.65% below its all-time high of $259.02. The year-to-date return is -11.73%. Analysts have set a 12-month average price target of $242.36, suggesting a potential increase of 9.74% from the current price. The stock is rated as a \"Buy\" by 33 analysts. Financial forecasts indicate a revenue growth of 6.82% for 2025, reaching $417.71 billion, with an expected increase to $450.59 billion in 2026. Earnings per share (EPS) for 2025 are projected at $7.49, a 23.19% increase from the previous year, with further growth to $8.38 in 2026.', 'actions_performed': ['Scraped the content from the URLs: https://www.macrotrends.net/stocks/charts/AAPL/apple/stock-price-history, https://wallstreetnumbers.com/stocks/aapl/price, https://stockanalysis.com/stocks/aapl/forecast/ and combined it into a coherent summary.']}}\n",
      "{'research_agent': {'research_agent_output': ResearchOutput(next_action='DONE', reasoning=\"The summary provides comprehensive information on Apple's current stock price trends, including the latest stock price, recent performance, year-to-date return, analyst ratings, and future price targets. Additionally, it includes financial forecasts for revenue and earnings per share for the next two years. This data is sufficient to generate a chart illustrating Apple's stock price trends, historical performance, and future projections.\"), 'actions_performed': ['Research agent performed the action: DONE']}}\n",
      "{'end_agent': {'query': 'What is the current stock price trends of Apple', 'actions_performed': ['Research agent performed the action: web_search', 'Used the keyword: Apple stock price trends to search the web for information. Received https://www.macrotrends.net/stocks/charts/AAPL/apple/stock-price-history, https://wallstreetnumbers.com/stocks/aapl/price, https://stockanalysis.com/stocks/aapl/forecast/ URLs.', 'Research agent performed the action: web_scraping', 'Scraped the content from the URLs: https://www.macrotrends.net/stocks/charts/AAPL/apple/stock-price-history, https://wallstreetnumbers.com/stocks/aapl/price, https://stockanalysis.com/stocks/aapl/forecast/ and combined it into a coherent summary.', 'Research agent performed the action: DONE'], 'research_agent_output': ResearchOutput(next_action='DONE', reasoning=\"The summary provides comprehensive information on Apple's current stock price trends, including the latest stock price, recent performance, year-to-date return, analyst ratings, and future price targets. Additionally, it includes financial forecasts for revenue and earnings per share for the next two years. This data is sufficient to generate a chart illustrating Apple's stock price trends, historical performance, and future projections.\"), 'urls': ['https://www.macrotrends.net/stocks/charts/AAPL/apple/stock-price-history', 'https://wallstreetnumbers.com/stocks/aapl/price', 'https://stockanalysis.com/stocks/aapl/forecast/'], 'combined_content': 'As of March 12, 2025, Apple\\'s (AAPL) stock price is $221.06, reflecting a decrease of $4.30 (-1.91%) from the previous trading day. Over the past year, the stock has increased by $47.76 (+27.56%), although it remains 14.65% below its all-time high of $259.02. The year-to-date return is -11.73%. Analysts have set a 12-month average price target of $242.36, suggesting a potential increase of 9.74% from the current price. The stock is rated as a \"Buy\" by 33 analysts. Financial forecasts indicate a revenue growth of 6.82% for 2025, reaching $417.71 billion, with an expected increase to $450.59 billion in 2026. Earnings per share (EPS) for 2025 are projected at $7.49, a 23.19% increase from the previous year, with further growth to $8.38 in 2026.', 'keywords_used': ['Apple stock price trends']}}\n"
     ]
    }
   ],
   "source": [
    "for event in research_agent.stream({\"query\": \"What is the current stock price trends of Apple\"}):\n",
    "    print(event)"
   ]
  },
  {
   "cell_type": "markdown",
   "metadata": {},
   "source": [
    "# 2. Chart Agent"
   ]
  },
  {
   "cell_type": "markdown",
   "metadata": {},
   "source": [
    "Tools to make:\n",
    "- Code Generator Tool (Code Generator)\n",
    "    - Task: Generates code based on the input summary to generate a relevantchart.\n",
    "    - Input: A summary of the relevant information extracted from the scraped URLs (received from the research agent, using state['combined_content']).\n",
    "    - Process: \n",
    "        - Uses a language model (LLM) to generate code based on the input summary to generate a chart.\n",
    "    - Output: A string containing the code to generate a chart.\n",
    "- Python REPL Tool (Python Interpreter)\n",
    "    - Task: Executes the generated code to generate a chart.\n",
    "    - Input: The generated code (received from the code_generator_tool).\n",
    "    - Process: \n",
    "        - Executes and runs the generated code to generate a chart.\n",
    "    - Output: The output of the generated code(which is the chart)\n",
    "- Chart Description Tool (Chart Description Generator)\n",
    "    - Task: Generates a description of the chart based on the chart received from the python_repl_tool.\n",
    "    - Input: The chart (received from the python_repl_tool).\n",
    "    - Process: \n",
    "        - Uses a language model (LLM) to generate a description of the chart.\n",
    "    - Output: A string containing the description of the chart."
   ]
  },
  {
   "cell_type": "code",
   "execution_count": 14,
   "metadata": {},
   "outputs": [],
   "source": [
    "from langchain.agents import Tool\n",
    "from langchain_experimental.utilities import PythonREPL\n",
    "import matplotlib as plt\n",
    "import seaborn as sns"
   ]
  },
  {
   "cell_type": "code",
   "execution_count": 15,
   "metadata": {},
   "outputs": [],
   "source": [
    "def code_generator_tool(state: AgentState):\n",
    "    \"\"\"Generate Python code to create a visually appealing and informative chart based on the provided summary, ensuring to include appropriate titles, labels, and legends for clarity.\"\"\"\n",
    "    prompt =\"\"\"\n",
    "    Generate Python code to create a visually appealing and informative chart based on the provided summary.\n",
    "    Instructions:\n",
    "    - Choose the most appropriate chart type for the data (bar chart, line chart, pie chart, scatter plot, etc.)\n",
    "    - Use either matplotlib or seaborn to create a visually stunning visualization\n",
    "    - Include appropriate titles, labels, legends, and annotations\n",
    "    - Use an aesthetically pleasing color palette\n",
    "    - Add data points, trend lines, or other visual elements that enhance understanding\n",
    "    - Format numbers and percentages properly\n",
    "    - Include a clean layout with proper spacing\n",
    "    - Do not provide anything else apart from the code\n",
    "    - Only return the code, no descriptions\n",
    "    - The code should be able to be executed directly\n",
    "    Summary: {summary}\n",
    "    \"\"\"\n",
    "    code = llm.invoke(prompt.format(summary=state['combined_content']))\n",
    "    return  {'code': code.content, 'actions_performed': [f\"Code generator tool performed the action and generated the code: {code.content}\"]}"
   ]
  },
  {
   "cell_type": "code",
   "execution_count": 16,
   "metadata": {},
   "outputs": [],
   "source": [
    "def python_repl_tool(state: AgentState):\n",
    "    \"\"\"Execute Python code and return the output\"\"\"\n",
    "    python_repl = PythonREPL()\n",
    "    result = python_repl.run(state['code'])\n",
    "    return {'chart': result, 'actions_performed': [f\"Python repl tool executed the code and generated the chart: {result}\"]}"
   ]
  },
  {
   "cell_type": "code",
   "execution_count": 17,
   "metadata": {},
   "outputs": [],
   "source": [
    "def chart_description_tool(state: AgentState):\n",
    "    \"\"\"Generate a description of the chart based on the chart received from the python_repl_tool.\"\"\"\n",
    "    prompt = \"\"\"\n",
    "    Generate a description of the chart based on the chart received from the python_repl_tool.\n",
    "    Instructions:\n",
    "    - Describe the chart in a way that is easy to understand.\n",
    "    - Include the chart type, the data that is being plotted, and the insights that can be derived from the chart.\n",
    "    - Do not provide anything else apart from the description.\n",
    "    - The description should be able to be understood by a non-technical audience.\n",
    "    \n",
    "    \"\"\"\n",
    "    description = llm.invoke(prompt.format(chart=state['chart']))\n",
    "    return {'description': description.content, 'actions_performed': [f\"Chart description tool performed the action and generated the description: {description.content}\"]}\n"
   ]
  },
  {
   "cell_type": "code",
   "execution_count": 18,
   "metadata": {},
   "outputs": [],
   "source": [
    "from pydantic import BaseModel, Field\n",
    "\n",
    "from typing import TypedDict, List\n",
    "from typing import Annotated\n",
    "from operator import add\n",
    "from typing import Literal\n",
    "\n",
    "class ResearchOutput(BaseModel):\n",
    "    next_action: Literal[\"web_search\", \"web_scraping\", \"DONE\"] = Field(description=\"The next action to perform. Can be web_search, web_scraping, or DONE if the content is sufficient to generate a chart.\")\n",
    "    reasoning: str = Field(description=\"Reasoning for the output, explaining which tool should be used next and why the content is relevant and sufficient to generate a chart based on the summary received.\")\n",
    "\n",
    "class ChartOutput(BaseModel):\n",
    "    next_action: Literal[\"code_generator_tool\", \"python_repl_tool\", \"chart_description_tool\", \"DONE\"] = Field(description=\"The next action to perform. Can be code_generator_tool, python_repl_tool, chart_description_tool, or DONE if the chart and description are good enough to be used.\")\n",
    "    reasoning: str = Field(description=\"Reasoning for the output, explaining which tool should be used next and why the chart and description are good enough to be used.\")\n",
    "\n",
    "class AgentState(TypedDict):\n",
    "    query: str\n",
    "    actions_performed: Annotated[List[str], add]\n",
    "    research_agent_output: ResearchOutput\n",
    "    urls: List[str]\n",
    "    summary: str\n",
    "    combined_content: str\n",
    "    keywords_used: Annotated[List[str], add]\n",
    "    code: str\n",
    "    chart: str\n",
    "    description: str\n",
    "    chart_agent_output: ChartOutput"
   ]
  },
  {
   "cell_type": "code",
   "execution_count": 19,
   "metadata": {},
   "outputs": [],
   "source": [
    "def chart_agent(state: AgentState):\n",
    "    system_prompt = \"\"\"\n",
    "    You are an expert chart generator. You are given a summary of the relevant information extracted from the scraped URLs and you need to generate a chart based on that summary.\n",
    "    \n",
    "    You need to use the following tools to generate a chart:\n",
    "\n",
    "    1. Code Generator Tool: This tool does the following:\n",
    "        - Task: Generates code based on the input summary to generate a relevant chart.\n",
    "        - Input: A summary of the relevant information extracted from the scraped URLs (received from the research agent, using state['combined_content']).\n",
    "        - Process: \n",
    "            - Uses a language model (LLM) to generate code based on the input summary to generate a chart.\n",
    "        - Output: A string containing the code to generate a chart.\n",
    "\n",
    "    2. Python REPL Tool: This tool does the following:\n",
    "        - Task: Executes the generated code to generate a chart.\n",
    "        - Input: The generated code (received from the code_generator_tool).\n",
    "        - Process: \n",
    "            - Executes and runs the generated code to generate a chart.\n",
    "        - Output: The output of the generated code(which is the chart)\n",
    "\n",
    "    3. Chart Description Tool: This tool does the following:\n",
    "        - Task: Generates a description of the chart based on the chart received from the python_repl_tool.\n",
    "        - Input: The chart (received from the python_repl_tool).\n",
    "        - Process: \n",
    "            - Uses a language model (LLM) to generate a description of the chart.   \n",
    "        - Output: A string containing the description of the chart.\n",
    "\n",
    "    Your inputs will be:\n",
    "    - A summary of the relevant information extracted from the scraped URLs (received from the research agent, using state['combined_content']).\n",
    "    - Actions performed so far\n",
    "    - A chart (received from the python_repl_tool)\n",
    "    - A description of the chart (received from the chart_description_tool)\n",
    "\n",
    "    Your output will be:\n",
    "    - Next action to perform: Can be code_generator, python_repl, chart_description, or DONE if the chart and description are good enough to be used.\n",
    "    - Reasoning for the output, explaining which tool should be used next and why the chart and description are good enough to be used.\n",
    "\n",
    "    Instructions:\n",
    "    - You will receive a summary of the relevant information extracted from the scraped URLs and a chart and description of the chart.\n",
    "    - For your FIRST action, you MUST use the code_generator_tool to generate code based on the summary to generate a chart.\n",
    "    - After receiving the code from the code_generator_tool, you MUST use the python_repl_tool to execute the code to generate a chart.\n",
    "    - After receiving the chart from the python_repl_tool, you MUST use the chart_description_tool to generate a good description of the chart.\n",
    "    - If the chart and description are good enough to be used, respond with DONE.\n",
    "    - ONLY return to code_generator_tool if the chart from python_repl_tool is not satisfactory.\n",
    "    - DO NOT repeatedly call code_generator_tool if you already have a chart.\n",
    "    \"\"\"\n",
    "    human_prompt = \"\"\"\n",
    "    Summary of the relevant information extracted from the scraped URLs: {summary}\n",
    "    Actions performed so far: {actions_performed}\n",
    "    Chart: {chart}\n",
    "    Description of the chart: {description}\n",
    "    \"\"\"\n",
    "    system_message = SystemMessage(content=system_prompt)\n",
    "    summary = state.get('combined_content', '')\n",
    "    actions_performed = state.get('actions_performed', [])\n",
    "    chart = state.get('chart', '')\n",
    "    description = state.get('description', '')\n",
    "\n",
    "    human_message = HumanMessage(content=human_prompt.format(summary=summary, actions_performed=actions_performed, chart=chart, description=description))\n",
    "    \n",
    "    chart_prompt = [system_message, human_message]\n",
    "    response = llm.with_structured_output(ChartOutput).invoke(chart_prompt)\n",
    "    return {\"chart_agent_output\": response, \"actions_performed\": [f\"Chart agent performed the action: {response.next_action}\"]}\n",
    "    \n",
    "    "
   ]
  },
  {
   "cell_type": "code",
   "execution_count": 20,
   "metadata": {},
   "outputs": [],
   "source": [
    "def end_agent(state: AgentState):\n",
    "    return state"
   ]
  },
  {
   "cell_type": "code",
   "execution_count": 21,
   "metadata": {},
   "outputs": [],
   "source": [
    "from langgraph.graph import StateGraph, START, END\n",
    "\n",
    "def after_chart_agent_router(state: AgentState):\n",
    "    next_action = state['chart_agent_output'].next_action\n",
    "    if next_action == 'code_generator':\n",
    "        return \"code_generator_tool\"\n",
    "    elif next_action == 'python_repl':\n",
    "        return \"python_repl_tool\"\n",
    "    elif next_action == 'chart_description':\n",
    "        return \"chart_description_tool\"\n",
    "    elif next_action == 'DONE':\n",
    "        return \"end_agent\"\n",
    "    \n"
   ]
  },
  {
   "cell_type": "code",
   "execution_count": 22,
   "metadata": {},
   "outputs": [
    {
     "data": {
      "image/png": "[encoded data removed]",
      "text/plain": [
       "<IPython.core.display.Image object>"
      ]
     },
     "metadata": {},
     "output_type": "display_data"
    }
   ],
   "source": [
    "from IPython.display import Image, display\n",
    "\n",
    "graph = StateGraph(AgentState)\n",
    "graph.add_node(\"chart_agent\", chart_agent)\n",
    "graph.add_node(\"code_generator_tool\", code_generator_tool)\n",
    "graph.add_node(\"python_repl_tool\", python_repl_tool)\n",
    "graph.add_node(\"chart_description_tool\", chart_description_tool)\n",
    "graph.add_node(\"end_agent\", end_agent)\n",
    "\n",
    "graph.add_edge(START, \"chart_agent\")\n",
    "graph.add_conditional_edges(\n",
    "    \"chart_agent\",\n",
    "    after_chart_agent_router,\n",
    "    [\"code_generator_tool\", \"python_repl_tool\", \"chart_description_tool\", \"end_agent\"]\n",
    ")\n",
    "graph.add_edge(\"code_generator_tool\", \"chart_agent\")\n",
    "graph.add_edge(\"python_repl_tool\", \"chart_agent\")\n",
    "graph.add_edge(\"chart_description_tool\", \"chart_agent\")\n",
    "graph.add_edge(\"end_agent\", END)\n",
    "\n",
    "chart_agent = graph.compile()\n",
    "\n",
    "display(Image(chart_agent.get_graph().draw_mermaid_png()))\n"
   ]
  },
  {
   "cell_type": "code",
   "execution_count": 24,
   "metadata": {},
   "outputs": [
    {
     "ename": "KeyError",
     "evalue": "None",
     "output_type": "error",
     "traceback": [
      "\u001b[31m---------------------------------------------------------------------------\u001b[39m",
      "\u001b[31mKeyError\u001b[39m                                  Traceback (most recent call last)",
      "\u001b[36mCell\u001b[39m\u001b[36m \u001b[39m\u001b[32mIn[24]\u001b[39m\u001b[32m, line 14\u001b[39m\n\u001b[32m      5\u001b[39m chart_state = {\n\u001b[32m      6\u001b[39m        \u001b[33m\"\u001b[39m\u001b[33mquery\u001b[39m\u001b[33m\"\u001b[39m: \u001b[33m\"\u001b[39m\u001b[33mWhat is the current stock price trends of Apple\u001b[39m\u001b[33m\"\u001b[39m,\n\u001b[32m      7\u001b[39m        \u001b[33m\"\u001b[39m\u001b[33mcombined_content\u001b[39m\u001b[33m\"\u001b[39m: research_result.get(\u001b[33m\"\u001b[39m\u001b[33mcombined_content\u001b[39m\u001b[33m\"\u001b[39m, \u001b[33m\"\u001b[39m\u001b[33m\"\u001b[39m),\n\u001b[32m   (...)\u001b[39m\u001b[32m     10\u001b[39m        \u001b[33m\"\u001b[39m\u001b[33mkeywords_used\u001b[39m\u001b[33m\"\u001b[39m: research_result.get(\u001b[33m\"\u001b[39m\u001b[33mkeywords_used\u001b[39m\u001b[33m\"\u001b[39m, [])\n\u001b[32m     11\u001b[39m    }\n\u001b[32m     13\u001b[39m    \u001b[38;5;66;03m# Run the chart agent\u001b[39;00m\n\u001b[32m---> \u001b[39m\u001b[32m14\u001b[39m \u001b[38;5;28;43;01mfor\u001b[39;49;00m\u001b[43m \u001b[49m\u001b[43mevent\u001b[49m\u001b[43m \u001b[49m\u001b[38;5;129;43;01min\u001b[39;49;00m\u001b[43m \u001b[49m\u001b[43mchart_agent\u001b[49m\u001b[43m.\u001b[49m\u001b[43mstream\u001b[49m\u001b[43m(\u001b[49m\u001b[43mchart_state\u001b[49m\u001b[43m)\u001b[49m\u001b[43m:\u001b[49m\n\u001b[32m     15\u001b[39m \u001b[43m       \u001b[49m\u001b[38;5;28;43mprint\u001b[39;49m\u001b[43m(\u001b[49m\u001b[43mevent\u001b[49m\u001b[43m)\u001b[49m\n",
      "\u001b[36mFile \u001b[39m\u001b[32m~/Documents/GitHub/chart-agent/myvenv/lib/python3.12/site-packages/langgraph/pregel/__init__.py:2024\u001b[39m, in \u001b[36mPregel.stream\u001b[39m\u001b[34m(self, input, config, stream_mode, output_keys, interrupt_before, interrupt_after, debug, subgraphs)\u001b[39m\n\u001b[32m   2018\u001b[39m     \u001b[38;5;66;03m# Similarly to Bulk Synchronous Parallel / Pregel model\u001b[39;00m\n\u001b[32m   2019\u001b[39m     \u001b[38;5;66;03m# computation proceeds in steps, while there are channel updates.\u001b[39;00m\n\u001b[32m   2020\u001b[39m     \u001b[38;5;66;03m# Channel updates from step N are only visible in step N+1\u001b[39;00m\n\u001b[32m   2021\u001b[39m     \u001b[38;5;66;03m# channels are guaranteed to be immutable for the duration of the step,\u001b[39;00m\n\u001b[32m   2022\u001b[39m     \u001b[38;5;66;03m# with channel updates applied only at the transition between steps.\u001b[39;00m\n\u001b[32m   2023\u001b[39m     \u001b[38;5;28;01mwhile\u001b[39;00m loop.tick(input_keys=\u001b[38;5;28mself\u001b[39m.input_channels):\n\u001b[32m-> \u001b[39m\u001b[32m2024\u001b[39m \u001b[43m        \u001b[49m\u001b[38;5;28;43;01mfor\u001b[39;49;00m\u001b[43m \u001b[49m\u001b[43m_\u001b[49m\u001b[43m \u001b[49m\u001b[38;5;129;43;01min\u001b[39;49;00m\u001b[43m \u001b[49m\u001b[43mrunner\u001b[49m\u001b[43m.\u001b[49m\u001b[43mtick\u001b[49m\u001b[43m(\u001b[49m\n\u001b[32m   2025\u001b[39m \u001b[43m            \u001b[49m\u001b[43mloop\u001b[49m\u001b[43m.\u001b[49m\u001b[43mtasks\u001b[49m\u001b[43m.\u001b[49m\u001b[43mvalues\u001b[49m\u001b[43m(\u001b[49m\u001b[43m)\u001b[49m\u001b[43m,\u001b[49m\n\u001b[32m   2026\u001b[39m \u001b[43m            \u001b[49m\u001b[43mtimeout\u001b[49m\u001b[43m=\u001b[49m\u001b[38;5;28;43mself\u001b[39;49m\u001b[43m.\u001b[49m\u001b[43mstep_timeout\u001b[49m\u001b[43m,\u001b[49m\n\u001b[32m   2027\u001b[39m \u001b[43m            \u001b[49m\u001b[43mretry_policy\u001b[49m\u001b[43m=\u001b[49m\u001b[38;5;28;43mself\u001b[39;49m\u001b[43m.\u001b[49m\u001b[43mretry_policy\u001b[49m\u001b[43m,\u001b[49m\n\u001b[32m   2028\u001b[39m \u001b[43m            \u001b[49m\u001b[43mget_waiter\u001b[49m\u001b[43m=\u001b[49m\u001b[43mget_waiter\u001b[49m\u001b[43m,\u001b[49m\n\u001b[32m   2029\u001b[39m \u001b[43m        \u001b[49m\u001b[43m)\u001b[49m\u001b[43m:\u001b[49m\n\u001b[32m   2030\u001b[39m \u001b[43m            \u001b[49m\u001b[38;5;66;43;03m# emit output\u001b[39;49;00m\n\u001b[32m   2031\u001b[39m \u001b[43m            \u001b[49m\u001b[38;5;28;43;01myield from\u001b[39;49;00m\u001b[43m \u001b[49m\u001b[43moutput\u001b[49m\u001b[43m(\u001b[49m\u001b[43m)\u001b[49m\n\u001b[32m   2032\u001b[39m \u001b[38;5;66;03m# emit output\u001b[39;00m\n",
      "\u001b[36mFile \u001b[39m\u001b[32m~/Documents/GitHub/chart-agent/myvenv/lib/python3.12/site-packages/langgraph/pregel/runner.py:230\u001b[39m, in \u001b[36mPregelRunner.tick\u001b[39m\u001b[34m(self, tasks, reraise, timeout, retry_policy, get_waiter)\u001b[39m\n\u001b[32m    228\u001b[39m t = tasks[\u001b[32m0\u001b[39m]\n\u001b[32m    229\u001b[39m \u001b[38;5;28;01mtry\u001b[39;00m:\n\u001b[32m--> \u001b[39m\u001b[32m230\u001b[39m     \u001b[43mrun_with_retry\u001b[49m\u001b[43m(\u001b[49m\n\u001b[32m    231\u001b[39m \u001b[43m        \u001b[49m\u001b[43mt\u001b[49m\u001b[43m,\u001b[49m\n\u001b[32m    232\u001b[39m \u001b[43m        \u001b[49m\u001b[43mretry_policy\u001b[49m\u001b[43m,\u001b[49m\n\u001b[32m    233\u001b[39m \u001b[43m        \u001b[49m\u001b[43mconfigurable\u001b[49m\u001b[43m=\u001b[49m\u001b[43m{\u001b[49m\n\u001b[32m    234\u001b[39m \u001b[43m            \u001b[49m\u001b[43mCONFIG_KEY_SEND\u001b[49m\u001b[43m:\u001b[49m\u001b[43m \u001b[49m\u001b[43mpartial\u001b[49m\u001b[43m(\u001b[49m\u001b[43mwriter\u001b[49m\u001b[43m,\u001b[49m\u001b[43m \u001b[49m\u001b[43mt\u001b[49m\u001b[43m)\u001b[49m\u001b[43m,\u001b[49m\n\u001b[32m    235\u001b[39m \u001b[43m            \u001b[49m\u001b[43mCONFIG_KEY_CALL\u001b[49m\u001b[43m:\u001b[49m\u001b[43m \u001b[49m\u001b[43mpartial\u001b[49m\u001b[43m(\u001b[49m\u001b[43mcall\u001b[49m\u001b[43m,\u001b[49m\u001b[43m \u001b[49m\u001b[43mt\u001b[49m\u001b[43m)\u001b[49m\u001b[43m,\u001b[49m\n\u001b[32m    236\u001b[39m \u001b[43m        \u001b[49m\u001b[43m}\u001b[49m\u001b[43m,\u001b[49m\n\u001b[32m    237\u001b[39m \u001b[43m    \u001b[49m\u001b[43m)\u001b[49m\n\u001b[32m    238\u001b[39m     \u001b[38;5;28mself\u001b[39m.commit(t, \u001b[38;5;28;01mNone\u001b[39;00m)\n\u001b[32m    239\u001b[39m \u001b[38;5;28;01mexcept\u001b[39;00m \u001b[38;5;167;01mException\u001b[39;00m \u001b[38;5;28;01mas\u001b[39;00m exc:\n",
      "\u001b[36mFile \u001b[39m\u001b[32m~/Documents/GitHub/chart-agent/myvenv/lib/python3.12/site-packages/langgraph/pregel/retry.py:40\u001b[39m, in \u001b[36mrun_with_retry\u001b[39m\u001b[34m(task, retry_policy, configurable)\u001b[39m\n\u001b[32m     38\u001b[39m     task.writes.clear()\n\u001b[32m     39\u001b[39m     \u001b[38;5;66;03m# run the task\u001b[39;00m\n\u001b[32m---> \u001b[39m\u001b[32m40\u001b[39m     \u001b[38;5;28;01mreturn\u001b[39;00m \u001b[43mtask\u001b[49m\u001b[43m.\u001b[49m\u001b[43mproc\u001b[49m\u001b[43m.\u001b[49m\u001b[43minvoke\u001b[49m\u001b[43m(\u001b[49m\u001b[43mtask\u001b[49m\u001b[43m.\u001b[49m\u001b[43minput\u001b[49m\u001b[43m,\u001b[49m\u001b[43m \u001b[49m\u001b[43mconfig\u001b[49m\u001b[43m)\u001b[49m\n\u001b[32m     41\u001b[39m \u001b[38;5;28;01mexcept\u001b[39;00m ParentCommand \u001b[38;5;28;01mas\u001b[39;00m exc:\n\u001b[32m     42\u001b[39m     ns: \u001b[38;5;28mstr\u001b[39m = config[CONF][CONFIG_KEY_CHECKPOINT_NS]\n",
      "\u001b[36mFile \u001b[39m\u001b[32m~/Documents/GitHub/chart-agent/myvenv/lib/python3.12/site-packages/langgraph/utils/runnable.py:548\u001b[39m, in \u001b[36mRunnableSeq.invoke\u001b[39m\u001b[34m(self, input, config, **kwargs)\u001b[39m\n\u001b[32m    546\u001b[39m             \u001b[38;5;28minput\u001b[39m = step.invoke(\u001b[38;5;28minput\u001b[39m, config, **kwargs)\n\u001b[32m    547\u001b[39m         \u001b[38;5;28;01melse\u001b[39;00m:\n\u001b[32m--> \u001b[39m\u001b[32m548\u001b[39m             \u001b[38;5;28minput\u001b[39m = \u001b[43mstep\u001b[49m\u001b[43m.\u001b[49m\u001b[43minvoke\u001b[49m\u001b[43m(\u001b[49m\u001b[38;5;28;43minput\u001b[39;49m\u001b[43m,\u001b[49m\u001b[43m \u001b[49m\u001b[43mconfig\u001b[49m\u001b[43m)\u001b[49m\n\u001b[32m    549\u001b[39m \u001b[38;5;66;03m# finish the root run\u001b[39;00m\n\u001b[32m    550\u001b[39m \u001b[38;5;28;01mexcept\u001b[39;00m \u001b[38;5;167;01mBaseException\u001b[39;00m \u001b[38;5;28;01mas\u001b[39;00m e:\n",
      "\u001b[36mFile \u001b[39m\u001b[32m~/Documents/GitHub/chart-agent/myvenv/lib/python3.12/site-packages/langgraph/utils/runnable.py:310\u001b[39m, in \u001b[36mRunnableCallable.invoke\u001b[39m\u001b[34m(self, input, config, **kwargs)\u001b[39m\n\u001b[32m    308\u001b[39m \u001b[38;5;28;01melse\u001b[39;00m:\n\u001b[32m    309\u001b[39m     context.run(_set_config_context, config)\n\u001b[32m--> \u001b[39m\u001b[32m310\u001b[39m     ret = \u001b[43mcontext\u001b[49m\u001b[43m.\u001b[49m\u001b[43mrun\u001b[49m\u001b[43m(\u001b[49m\u001b[38;5;28;43mself\u001b[39;49m\u001b[43m.\u001b[49m\u001b[43mfunc\u001b[49m\u001b[43m,\u001b[49m\u001b[43m \u001b[49m\u001b[43m*\u001b[49m\u001b[43margs\u001b[49m\u001b[43m,\u001b[49m\u001b[43m \u001b[49m\u001b[43m*\u001b[49m\u001b[43m*\u001b[49m\u001b[43mkwargs\u001b[49m\u001b[43m)\u001b[49m\n\u001b[32m    311\u001b[39m \u001b[38;5;28;01mif\u001b[39;00m \u001b[38;5;28misinstance\u001b[39m(ret, Runnable) \u001b[38;5;129;01mand\u001b[39;00m \u001b[38;5;28mself\u001b[39m.recurse:\n\u001b[32m    312\u001b[39m     \u001b[38;5;28;01mreturn\u001b[39;00m ret.invoke(\u001b[38;5;28minput\u001b[39m, config)\n",
      "\u001b[36mFile \u001b[39m\u001b[32m~/Documents/GitHub/chart-agent/myvenv/lib/python3.12/site-packages/langgraph/graph/graph.py:95\u001b[39m, in \u001b[36mBranch._route\u001b[39m\u001b[34m(self, input, config, reader, writer)\u001b[39m\n\u001b[32m     93\u001b[39m     value = \u001b[38;5;28minput\u001b[39m\n\u001b[32m     94\u001b[39m result = \u001b[38;5;28mself\u001b[39m.path.invoke(value, config)\n\u001b[32m---> \u001b[39m\u001b[32m95\u001b[39m \u001b[38;5;28;01mreturn\u001b[39;00m \u001b[38;5;28;43mself\u001b[39;49m\u001b[43m.\u001b[49m\u001b[43m_finish\u001b[49m\u001b[43m(\u001b[49m\u001b[43mwriter\u001b[49m\u001b[43m,\u001b[49m\u001b[43m \u001b[49m\u001b[38;5;28;43minput\u001b[39;49m\u001b[43m,\u001b[49m\u001b[43m \u001b[49m\u001b[43mresult\u001b[49m\u001b[43m,\u001b[49m\u001b[43m \u001b[49m\u001b[43mconfig\u001b[49m\u001b[43m)\u001b[49m\n",
      "\u001b[36mFile \u001b[39m\u001b[32m~/Documents/GitHub/chart-agent/myvenv/lib/python3.12/site-packages/langgraph/graph/graph.py:131\u001b[39m, in \u001b[36mBranch._finish\u001b[39m\u001b[34m(self, writer, input, result, config)\u001b[39m\n\u001b[32m    128\u001b[39m     result = [result]\n\u001b[32m    129\u001b[39m \u001b[38;5;28;01mif\u001b[39;00m \u001b[38;5;28mself\u001b[39m.ends:\n\u001b[32m    130\u001b[39m     destinations: Sequence[Union[Send, \u001b[38;5;28mstr\u001b[39m]] = [\n\u001b[32m--> \u001b[39m\u001b[32m131\u001b[39m         r \u001b[38;5;28;01mif\u001b[39;00m \u001b[38;5;28misinstance\u001b[39m(r, Send) \u001b[38;5;28;01melse\u001b[39;00m \u001b[38;5;28;43mself\u001b[39;49m\u001b[43m.\u001b[49m\u001b[43mends\u001b[49m\u001b[43m[\u001b[49m\u001b[43mr\u001b[49m\u001b[43m]\u001b[49m \u001b[38;5;28;01mfor\u001b[39;00m r \u001b[38;5;129;01min\u001b[39;00m result\n\u001b[32m    132\u001b[39m     ]\n\u001b[32m    133\u001b[39m \u001b[38;5;28;01melse\u001b[39;00m:\n\u001b[32m    134\u001b[39m     destinations = cast(Sequence[Union[Send, \u001b[38;5;28mstr\u001b[39m]], result)\n",
      "\u001b[31mKeyError\u001b[39m: None",
      "During task with name 'chart_agent' and id 'fae0cc5b-ec2f-a84b-aff4-6ee321390654'"
     ]
    }
   ],
   "source": [
    "# Get the result from research agent\n",
    "research_result = next(research_agent.stream({\"query\": \"What is the current stock price trends of Apple\"}))\n",
    "   \n",
    "   # Initialize the chart agent state with the research result\n",
    "chart_state = {\n",
    "       \"query\": \"What is the current stock price trends of Apple\",\n",
    "       \"combined_content\": research_result.get(\"combined_content\", \"\"),\n",
    "       \"actions_performed\": research_result.get(\"actions_performed\", []),\n",
    "       \"urls\": research_result.get(\"urls\", []),\n",
    "       \"keywords_used\": research_result.get(\"keywords_used\", [])\n",
    "   }\n",
    "   \n",
    "   # Run the chart agent\n",
    "for event in chart_agent.stream(chart_state):\n",
    "       print(event)"
   ]
  },
  {
   "cell_type": "code",
   "execution_count": null,
   "metadata": {},
   "outputs": [],
   "source": []
  }
 ],
 "metadata": {
  "kernelspec": {
   "display_name": "myvenv",
   "language": "python",
   "name": "python3"
  },
  "language_info": {
   "codemirror_mode": {
    "name": "ipython",
    "version": 3
   },
   "file_extension": ".py",
   "mimetype": "text/x-python",
   "name": "python",
   "nbconvert_exporter": "python",
   "pygments_lexer": "ipython3",
   "version": "3.12.0"
  }
 },
 "nbformat": 4,
 "nbformat_minor": 2
}
