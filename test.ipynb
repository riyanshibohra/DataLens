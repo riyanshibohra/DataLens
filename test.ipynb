{
 "cells": [
  {
   "cell_type": "markdown",
   "metadata": {},
   "source": [
    "# Setting Up"
   ]
  },
  {
   "cell_type": "code",
   "execution_count": 1,
   "metadata": {},
   "outputs": [
    {
     "data": {
      "text/plain": [
       "True"
      ]
     },
     "execution_count": 1,
     "metadata": {},
     "output_type": "execute_result"
    }
   ],
   "source": [
    "import os\n",
    "from dotenv import load_dotenv\n",
    "\n",
    "load_dotenv()"
   ]
  },
  {
   "cell_type": "code",
   "execution_count": 2,
   "metadata": {},
   "outputs": [],
   "source": [
    "OPEN_API_KEY = os.getenv('OPEN_API_KEY')\n",
    "\n",
    "LANGSMITH_TRACING = os.getenv('LANGSMITH_TRACING')\n",
    "LANGSMITH_API_KEY = os.getenv('LANGSMITH_API_KEY')\n",
    "LANGSMITH_PROJECT = os.getenv('LANGSMITH_PROJECT')\n",
    "LANGSMITH_ENDPOINT = os.getenv('LANGSMITH_ENDPOINT')\n",
    "\n",
    "TAVILY_API_KEY = os.getenv('TAVILY_API_KEY')"
   ]
  },
  {
   "cell_type": "code",
   "execution_count": 3,
   "metadata": {},
   "outputs": [],
   "source": [
    "from langchain_openai import ChatOpenAI\n",
    "\n",
    "llm = ChatOpenAI(model=\"gpt-4o\", temperature=0)"
   ]
  },
  {
   "cell_type": "code",
   "execution_count": 4,
   "metadata": {},
   "outputs": [],
   "source": [
    "from tavily import TavilyClient\n",
    "from pprint import pprint\n",
    "tavily = TavilyClient(TAVILY_API_KEY)"
   ]
  },
  {
   "cell_type": "markdown",
   "metadata": {},
   "source": [
    "# Agents:"
   ]
  },
  {
   "cell_type": "markdown",
   "metadata": {},
   "source": [
    "## Supervisor Agent\n",
    "- Task: Supervise the research agent and ensure the output is relevant and sufficient to generate a chart.\n",
    "- Input: A user query\n",
    "- Process: \n",
    "    - Gets the summary and reasoning from the research agent\n",
    "    - Evaluates the summary and reasoning\n",
    "    - Decides if the content is relevant and sufficient to generate a chart.\n",
    "    - If the content is not relevant or sufficient, it will call the research agent again with a new user query.\n",
    "    - If the content is relevant and sufficient, it will go to the chart_agent to generate a chart with a brief chart description.\n",
    "- Output:\n",
    "    - A chart\n",
    "    - Chart description"
   ]
  },
  {
   "cell_type": "markdown",
   "metadata": {},
   "source": [
    "## Research Agent\n",
    "- Task: Research the web for information that is relevant and sufficient to generate a chart.\n",
    "- Input: A user query\n",
    "- Process: \n",
    "    - Uses tools (web search tool and web scraping tool) to research the web for information\n",
    "    - Passes the summary and reasoning to the supervisor agent\n",
    "- Output:\n",
    "    - A summary of the relevant information extracted from the scraped URLs.\n",
    "    - Reasoning for the output why the content is relevant and sufficient to generate a chart.\n"
   ]
  },
  {
   "cell_type": "markdown",
   "metadata": {},
   "source": [
    "## Chart Agent\n",
    "- Task: Generate a chart based on the chart summary and provide chart description\n",
    "- Input: A summary of the relevant information extracted from the scraped URLs.\n",
    "- Process: \n",
    "    - Uses a tool to generate code based on input summary to generate a chart - tool name: code_generator_tool\n",
    "    - Passes the code to the python repl tool to generate a chart - tool name: python_repl_tool\n",
    "    - Passes the chart to another tool to generate a chart description - tool name: chart_description_tool\n",
    "    - Passes both the chart and chart description to the supervisor agent for review\n",
    "- Output:\n",
    "    - A Chart\n",
    "    - A chart description"
   ]
  },
  {
   "cell_type": "markdown",
   "metadata": {},
   "source": [
    "# Tools "
   ]
  },
  {
   "cell_type": "markdown",
   "metadata": {},
   "source": [
    "## Research Agent"
   ]
  },
  {
   "cell_type": "markdown",
   "metadata": {},
   "source": [
    "Tools to make:\n",
    "- Web Search Tool (Researcher)\n",
    "    - Task: Researches the web for information.\n",
    "    - Input: A user query\n",
    "    - Process: \n",
    "        - Gets the relevant keywords from query to perform a search\n",
    "        - Uses keyword and performs a search on the web\n",
    "        - Gets a list of URLs and returns the list (output)\n",
    "    - Output: A list of URLs\n",
    "\n",
    "- Web Scraping Tool (Researcher)\n",
    "    - Task: Scrapes websites from a list of URLs and returns a coherent summary of the content relevant to the user's query.\n",
    "    - Input: A list of URLs\n",
    "    - Process: \n",
    "        - Iterates over each URL in the provided list of URLs\n",
    "        - Performs a GET request to the URL\n",
    "        - Parses the HTML content of the page\n",
    "        - Combines the scraped content into a coherent summary using a language model (LLM).\n",
    "    - Output: A string containing a summary of the relevant information extracted from the scraped URLs."
   ]
  },
  {
   "cell_type": "code",
   "execution_count": 5,
   "metadata": {},
   "outputs": [],
   "source": [
    "from pydantic import BaseModel, Field\n",
    "\n",
    "from typing import TypedDict, List\n",
    "from typing import Annotated\n",
    "from operator import add\n",
    "from typing import Literal\n",
    "\n",
    "class ResearchOutput(BaseModel):\n",
    "    next_action: Literal[\"web_search\", \"web_scraping\", \"DONE\"] = Field(description=\"The next action to perform. Can be web_search, web_scraping, or DONE if the content is sufficient to generate a chart.\")\n",
    "    reasoning: str = Field(description=\"Reasoning for the output, explaining which tool should be used next and why the content is relevant and sufficient to generate a chart based on the summary received.\")\n",
    "\n",
    "\n",
    "class AgentState(TypedDict):\n",
    "    query: str\n",
    "    actions_performed: Annotated[List[str], add]\n",
    "    research_agent_output: ResearchOutput\n",
    "    urls: List[str]\n",
    "    summary: str\n",
    "    combined_content: str\n",
    "    keywords_used: Annotated[List[str], add]"
   ]
  },
  {
   "cell_type": "code",
   "execution_count": 6,
   "metadata": {},
   "outputs": [],
   "source": [
    "def web_search_tool(state: AgentState):\n",
    "    \"\"\"Search the web for information and return URLs\"\"\"  \n",
    "\n",
    "    def extract_keywords(user_query):\n",
    "        \"\"\"Extract relevant keywords from a complex user query using LLM\"\"\"\n",
    "\n",
    "        prompt = \"\"\"\n",
    "        Extract a unique search term I can use to search the web for numerical data that can be used for chart generation from this query.\n",
    "\n",
    "        Instructions:\n",
    "        - The search keywords should be specific and relevant to the query provided.\n",
    "        - Focus on terms that are likely to yield quantitative data, such as statistics, figures, or metrics.\n",
    "        - Ensure that the keywords can lead to sources that provide numerical information suitable for creating charts or graphs.\n",
    "        - The search keywords should consist maximum of 4 words.\n",
    "        - The generated keywords should be unique and not already included in the existing list of keywords.\n",
    "\n",
    "        Query: {user_query}\n",
    "        Keywords used so far: {keywords_used}\n",
    "        Search term:\n",
    "        \"\"\"\n",
    "        keywords_used = state.get(\"keywords_used\",[\"\"])\n",
    "        response = llm.invoke(prompt.format(user_query=user_query, keywords_used=keywords_used))\n",
    "        return response.content\n",
    "\n",
    "    keywords = extract_keywords(state['query']) \n",
    "    print(keywords)\n",
    "    response = tavily.search(keywords)\n",
    "    print(response)\n",
    "\n",
    "    urls = [result['url'] for result in response['results'][:3]]\n",
    "\n",
    "    return {\"urls\": urls, \"actions_performed\": [f\"Used the keyword: {keywords} to search the web for information. Received {', '.join(urls)} URLs.\"], \"keywords_used\": [keywords]}"
   ]
  },
  {
   "cell_type": "code",
   "execution_count": 7,
   "metadata": {},
   "outputs": [
    {
     "name": "stdout",
     "output_type": "stream",
     "text": [
      "\"AI advancements statistics\"\n",
      "{'query': '\"AI advancements statistics\"', 'follow_up_questions': None, 'answer': None, 'images': [], 'results': [{'title': 'EOF', 'url': 'http://www.google.com/search?hl=en&q=\"AI+advancements+statistics\"', 'content': '', 'score': 0.036579784, 'raw_content': None}], 'response_time': 1.54}\n",
      "{'urls': ['http://www.google.com/search?hl=en&q=\"AI+advancements+statistics\"'], 'actions_performed': ['Used the keyword: \"AI advancements statistics\" to search the web for information. Received http://www.google.com/search?hl=en&q=\"AI+advancements+statistics\" URLs.'], 'keywords_used': ['\"AI advancements statistics\"']}\n"
     ]
    }
   ],
   "source": [
    "#test\n",
    "# Create a sample state to test the web_scraping_tool function\n",
    "test_state = AgentState(\n",
    "    query=\"What are the latest advancements in AI?\",\n",
    "    urls=[],\n",
    "    summary=\"\",\n",
    "    reasoning=\"\",\n",
    "    combined_content=\"\"\n",
    ")\n",
    "\n",
    "# Call the web_scraping_tool function with the test state\n",
    "urls = web_search_tool(test_state)\n",
    "\n",
    "# Print the output summary\n",
    "print(urls)\n"
   ]
  },
  {
   "cell_type": "code",
   "execution_count": 8,
   "metadata": {},
   "outputs": [],
   "source": [
    "from bs4 import BeautifulSoup\n",
    "import requests\n",
    "\n",
    "def web_scraping_tool(state: AgentState):\n",
    "    \"\"\"Scrape websites from a list of URLs and return a dictionary with URL and content\"\"\"\n",
    "    results = {}\n",
    "    # Iterate over each URL in the provided list of URLs\n",
    "    for url in state['urls']:\n",
    "        response = requests.get(url, timeout=10)\n",
    "        soup = BeautifulSoup(response.text, 'html.parser')\n",
    "        results[url] = soup.get_text()\n",
    "\n",
    "    def combine_scraped_content(scraped_data):\n",
    "        \"\"\"This function takes a dictionary of scraped data, where each key is a URL and each value is the corresponding content.\n",
    "        It constructs a prompt for a language model (LLM) to generate a coherent summary of the content relevant to the user's query.\n",
    "        \n",
    "        The function initializes a prompt string that instructs the LLM to combine the content. It then iterates over the scraped data,\n",
    "        appending each URL and its content to the prompt. After constructing the complete prompt, it invokes the LLM with this prompt\n",
    "        and returns the generated summary as a string.\"\"\"\n",
    "        \n",
    "        prompt = \"\"\"\n",
    "        Combine the following content into a coherent summary, relevant for the user query.\n",
    "\n",
    "        Instructions:\n",
    "        - If there are any numerical data, make sure to include it in the summary.\n",
    "        - This numerical data from the summary will be later used to generate a chart.\n",
    "        \"\"\"\n",
    "\n",
    "        for url, content in scraped_data.items():\n",
    "            prompt += f\"URL: {url}\\nContent: {content}\\n\\n\"\n",
    "        \n",
    "        response = llm.invoke(prompt)\n",
    "        return response.content\n",
    "\n",
    "    # Call the combine function and return the combined content\n",
    "    combined_content = combine_scraped_content(results)\n",
    "    return {\"combined_content\": combined_content, \"actions_performed\": [f\"Scraped the content from the URLs: {', '.join(results.keys())} and combined it into a coherent summary.\"]}"
   ]
  },
  {
   "cell_type": "code",
   "execution_count": 14,
   "metadata": {},
   "outputs": [],
   "source": [
    "from langchain_core.messages import HumanMessage, SystemMessage\n",
    "\n",
    "def research_agent(state: AgentState):\n",
    "    system_prompt = \"\"\"\n",
    "    You are an expert researcher. You are given a user query and you need to use tools to research the web for information that is reliable and sufficient to generate a chart.\n",
    "    \n",
    "    You need to use the following tools to research the web for information:\n",
    "\n",
    "    1. Web Search Tool: This tool does the following:\n",
    "        - Task: Researches the web for information.\n",
    "        - Input: A user query\n",
    "        - Process: \n",
    "            - Gets the relevant keywords from query to perform a search\n",
    "            - Uses keyword and performs a search on the web\n",
    "            - Gets a list of URLs and returns the list (output)\n",
    "        - Output: A list of URLs\n",
    "        - Decision: Use this tool ONLY when you need to gather initial information based on the user query OR when the summary from web scraping is insufficient to generate a chart.\n",
    "\n",
    "    2. Web Scraping Tool: This tool does the following:\n",
    "        - Task: Scrapes websites from a list of URLs and returns a coherent summary of the content relevant to the user's query.\n",
    "        - Input: A list of URLs (received from the web_search_tool)\n",
    "        - Process: \n",
    "            - Iterates over each URL in the provided list of URLs\n",
    "            - Performs a GET request to the URL\n",
    "            - Parses the HTML content of the page\n",
    "            - Combines the scraped content into a coherent summary using a language model (LLM).\n",
    "        - Output: A string containing a summary of the relevant information extracted from the scraped URLs.\n",
    "        - Decision: Use this tool IMMEDIATELY after receiving URLs from the web search tool to extract relevant content.\n",
    "\n",
    "    3. If the content is sufficient to generate a chart, you must respond with DONE as the next action and provide reasoning as output.\n",
    "\n",
    "    Your inputs will be:\n",
    "    - A user query\n",
    "    - Actions performed so far\n",
    "    - A list of URLs obtained from the web_search_tool\n",
    "    - A summary of the relevant information extracted from the web_scraping_tool. If no URLs have been scraped yet, the summary will be an empty string.\n",
    "\n",
    "    Your output will be:\n",
    "    - Next action to perform: Can be web_search, web_scraping, or DONE if the content is sufficient to generate a chart.\n",
    "    - Reasoning for the output, explaining which tool should be used next and why the content is relevant and sufficient to generate a chart based on the summary received.\n",
    "\n",
    "    Instructions:\n",
    "    - You will receive a user query and a summary of the relevant information extracted from the scraped URLs.\n",
    "    - FIRST, you need to use the web search tool to get a list of URLs based on the user query.\n",
    "    - SECOND, you MUST pass this list of URLs (that you get from the web search tool) to the web scraping tool to get a summary of the content.\n",
    "    - THIRD, you need to evaluate the summary received from the web scraping tool and decide if the content is sufficient to generate a chart.\n",
    "    - If the summary is sufficient to generate a meaningful chart, respond with DONE.\n",
    "    - ONLY return to web_search_tool if the summary from web_scraping_tool is inadequate or insufficient for generating a chart.\n",
    "    - DO NOT repeatedly call web_search_tool if you already have URLs that haven't been scraped yet.\n",
    "\n",
    "    IMPORTANT: After receiving URLs from web_search_tool, ALWAYS proceed to web_scraping_tool next to process those URLs before making any other decisions.\n",
    "    \"\"\"\n",
    "    human_prompt = \"\"\"\n",
    "    User Query: {query}\n",
    "    Summary of the relevant information extracted from the scraped URLs: {summary}\n",
    "    \"\"\"\n",
    "    system_message = SystemMessage(content=system_prompt)\n",
    "    query = state['query']\n",
    "    actions_performed = state.get('actions_performed', [])\n",
    "    summary = state.get('combined_content', '')\n",
    "\n",
    "    human_message = HumanMessage(content=human_prompt.format(query=query, summary=summary, actions_performed=actions_performed))\n",
    "    \n",
    "\n",
    "    research_prompt = [system_message, human_message]\n",
    "    response = llm.with_structured_output(ResearchOutput).invoke(research_prompt)\n",
    "    return {\"research_agent_output\": response}\n",
    "    "
   ]
  },
  {
   "cell_type": "code",
   "execution_count": 15,
   "metadata": {},
   "outputs": [],
   "source": [
    "from langgraph.graph import StateGraph, START, END\n",
    "\n",
    "def after_research_agent_router(state: AgentState):\n",
    "    next_action = state['research_agent_output'].next_action\n",
    "    if next_action == 'web_search':\n",
    "        return \"web_search_tool\"\n",
    "    elif next_action == 'web_scraping':\n",
    "        return \"web_scraping_tool\"\n",
    "    elif next_action == 'DONE':\n",
    "        return END\n",
    "    "
   ]
  },
  {
   "cell_type": "code",
   "execution_count": 16,
   "metadata": {},
   "outputs": [
    {
     "data": {
      "image/png": "[encoded data removed]",
      "text/plain": [
       "<IPython.core.display.Image object>"
      ]
     },
     "metadata": {},
     "output_type": "display_data"
    }
   ],
   "source": [
    "from IPython.display import Image, display\n",
    "\n",
    "graph = StateGraph(AgentState)\n",
    "graph.add_node(\"research_agent\", research_agent)\n",
    "graph.add_node(\"web_search_tool\", web_search_tool)\n",
    "graph.add_node(\"web_scraping_tool\", web_scraping_tool)\n",
    "\n",
    "graph.add_edge(START, \"research_agent\")\n",
    "graph.add_conditional_edges(\n",
    "    \"research_agent\",\n",
    "    after_research_agent_router,\n",
    "    {\n",
    "        \"web_search_tool\": \"web_search_tool\",\n",
    "        \"web_scraping_tool\": \"web_scraping_tool\",\n",
    "        \"DONE\": END\n",
    "    }\n",
    ")\n",
    "graph.add_edge(\"web_search_tool\", \"research_agent\")\n",
    "graph.add_edge(\"web_scraping_tool\", \"research_agent\")\n",
    "\n",
    "research_agent = graph.compile()\n",
    "\n",
    "display(Image(research_agent.get_graph().draw_mermaid_png()))\n"
   ]
  },
  {
   "cell_type": "code",
   "execution_count": 17,
   "metadata": {},
   "outputs": [
    {
     "name": "stdout",
     "output_type": "stream",
     "text": [
      "{'research_agent': {'research_agent_output': ResearchOutput(next_action='web_search', reasoning=\"The user query asks for the current stock price trends of Apple, which requires up-to-date financial data. Since no URLs have been scraped yet and the summary is empty, the next logical step is to perform a web search to gather a list of URLs that provide the latest information on Apple's stock price trends. This will allow us to obtain the necessary data to generate a chart showing these trends.\")}}\n",
      "Apple stock price trends\n",
      "{'query': 'Apple stock price trends', 'follow_up_questions': None, 'answer': None, 'images': [], 'results': [{'title': 'Apple - 45 Year Stock Price History | AAPL | MacroTrends', 'url': 'https://www.macrotrends.net/stocks/charts/AAPL/apple/stock-price-history', 'content': 'Apple - 45 Year Stock Price History | AAPL | MacroTrends Apple - 45 Year Stock Price History | AAPL The latest closing stock price for Apple as of March 06, 2025 is 235.33. The all-time high Apple stock closing price was 259.02 on December 26, 2024. The Apple 52-week high stock price is 260.10, which is 10.5% above the current share price. The Apple 52-week low stock price is 164.07, which is 30.3% below the current share price. The average Apple stock price for the last 52 weeks is 216.76. | Apple Historical Annual Stock Price Data | | Apple - 45 Year Stock Price History | AAPL |  | | Apple - 45 Year Stock Price History | AAPL |  |', 'score': 0.7880784, 'raw_content': None}, {'title': 'Apple (AAPL) Stock Price History & Chart since 1980', 'url': 'https://wallstreetnumbers.com/stocks/aapl/price', 'content': \"Apple (AAPL) Stock Price History & Chart since 1980 Apple (AAPL) Stock Price Apple stock price is currently $242.90, with a rise of +$0.13 (+0.05%) during the most recent trading day. AAPL price is now -0.03% below its all-time high of $242.97. AAPL price is up +25.37% year-on-year AAPL price is currently -0.03% below its historical high of $242.97 AAPL price is currently -2.84% lower than the consensus analysts' forecast AAPL Price Chart AAPL : Apple stock AAPL Price Performance AAPL Price High & Low What is the all time high price for Apple stock? The current price of AAPL is $242.90 What is the all time high price for Apple stock? Apple stock all-time high price is $242.97\", 'score': 0.7474137, 'raw_content': None}, {'title': 'Apple Inc. (AAPL) Stock Forecast & Price Targets', 'url': 'https://stockanalysis.com/stocks/aapl/forecast/', 'content': '(AAPL) Stock Forecast & Price Targets Stocks Top Stocks IPOs Apple Stock Forecast Stock Price Forecast The 31 analysts with 12-month price forecasts for Apple stock have an average target of 242.36, with a low estimate of 180 and a high estimate of 325. The average analyst rating for Apple stock from 33 stock analysts is \"Buy\". This means that analysts believe this stock is likely to outperform the market over the next twelve months. | Strong Buy | Maintains | $255 → $275 | +11.32% | Jan 31, 2025 | | Strong Buy | Maintains | $253 → $265 | +7.27% | Jan 31, 2025 | EPS Forecast Sources: Price targets and analyst ratings provided by Benzinga. Stocks IPOs', 'score': 0.7244226, 'raw_content': None}, {'title': 'Apple Stock Chart — NASDAQ:AAPL Stock Price - TradingView', 'url': 'https://www.tradingview.com/symbols/NASDAQ-AAPL/', 'content': \"View live Apple Inc chart to track its stock's price action. Find market predictions, AAPL financials and market news. ... Bearish Safe Stop Loss - 251.37 Technical Indicators: Supper Trend generates a clear short signal while Pivot Point HL is currently determining the overall Bearish t. Short. by AnabelSignals.\", 'score': 0.6205532, 'raw_content': None}, {'title': 'Apple Inc. (AAPL) Stock Price, News, Quote & History - Yahoo Finance', 'url': 'https://finance.yahoo.com/quote/AAPL/', 'content': 'The company offers iPhone, a line of smartphones; Mac, a line of personal computers; iPad, a line of multi-purpose tablets; and wearables, home, and accessories comprising AirPods, Apple TV, Apple Watch, Beats products, and HomePod. It also provides AppleCare support and cloud services; and operates various platforms, including the App Store that allow customers to discover and download applications and digital content, such as books, music, video, games, and podcasts, as well as advertising services include third-party licensing arrangements and its own advertising platforms. In addition, the company offers various subscription-based services, such as Apple Arcade, a game subscription service; Apple Fitness+, a personalized fitness service; Apple Music, which offers users a curated listening experience with on-demand radio stations; Apple News+, a subscription news and magazine service; Apple TV+, which offers exclusive original content; Apple Card, a co-branded credit card; and Apple Pay, a cashless payment service, as well as licenses its intellectual property.', 'score': 0.3916624, 'raw_content': None}], 'response_time': 2.5}\n",
      "{'web_search_tool': {'urls': ['https://www.macrotrends.net/stocks/charts/AAPL/apple/stock-price-history', 'https://wallstreetnumbers.com/stocks/aapl/price', 'https://stockanalysis.com/stocks/aapl/forecast/'], 'actions_performed': ['Used the keyword: Apple stock price trends to search the web for information. Received https://www.macrotrends.net/stocks/charts/AAPL/apple/stock-price-history, https://wallstreetnumbers.com/stocks/aapl/price, https://stockanalysis.com/stocks/aapl/forecast/ URLs.'], 'keywords_used': ['Apple stock price trends']}}\n",
      "{'research_agent': {'research_agent_output': ResearchOutput(next_action='web_search', reasoning=\"The user query asks for the current stock price trends of Apple. Since no URLs have been scraped yet and the summary is empty, I need to perform a web search to gather relevant URLs that provide information on Apple's current stock price trends. This will allow me to gather the necessary data to generate a chart showing these trends.\")}}\n",
      "\"Apple stock price history\"\n",
      "{'query': '\"Apple stock price history\"', 'follow_up_questions': None, 'answer': None, 'images': [], 'results': [{'title': 'Apple Stock Price History 20 Years Precental - StatMuse', 'url': 'https://www.statmuse.com/money/ask/apple-stock-price-history-20-years-precental', 'content': 'The average closing price for Apple (AAPL) all-time is $23.77. The latest price is $222.78.', 'score': 0.8190992, 'raw_content': None}, {'title': 'Apple Stock Price History - Investing.com', 'url': 'https://www.investing.com/equities/apple-computer-inc-historical-data', 'content': 'Indices Futures Stocks ETC/USD Currency Futures ETC/USD Stock Markets Stock Markets Futures Chart Stocks Chart Interactive Futures Chart Interactive Stocks Chart Stock Brokers Master Stock Analysis Top Stocks Stocks Stock Brokers |  | AAPL |  | NASDAQ |  | USD | Real-time | Currency in USD Explore Apple stock price history with detailed daily historical prices, including open, high, low, and volume data. Find a Stock Broker Stocks Top Value Stocks The data and prices on the website are not\\xa0necessarily\\xa0provided by any market or exchange, but may be provided by\\xa0market makers, and so prices may not be accurate and may differ from the actual price at any given market, meaning prices are indicative and not appropriate for trading purposes.', 'score': 0.67911536, 'raw_content': None}, {'title': 'AAPL - Apple Stock Price History - Barchart.com', 'url': 'https://www.barchart.com/stocks/quotes/AAPL/price-history', 'content': 'To do this, you can either scroll to the bottom of the table and use the table\\'s scrollbar, or you can scroll the table using your browser\\'s built-in scroll:\\nAlso unique to Barchart, Flipcharts allow you to scroll through all the symbols on the table in a chart view. Site visitors (not logged into the site) can view the last three months of data, while logged in members can view and download end-of-day price history for up to two years prior to today\\'s date.\\n Standard Views found throughout the site include:\\nUnique to Barchart.com, data tables contain an option that allows you to see more data for the symbol without leaving the page. The \"More Data\" widgets are also available from the Links column of the right side of the data table.\\n For reference, we include the date and timestamp of when the list was last updated at the top right of the page.\\n', 'score': 0.61168414, 'raw_content': None}, {'title': 'Apple Stock Price History | Historical AAPL Company Stock Prices ...', 'url': 'https://markets.financialcontent.com/stocks/quote/historical?Symbol=NQ:AAPL', 'content': 'Apple historic stock prices and company profile. Historically stock information and prices for AAPL company.', 'score': 0.58948064, 'raw_content': None}], 'response_time': 1.76}\n",
      "{'web_search_tool': {'urls': ['https://www.statmuse.com/money/ask/apple-stock-price-history-20-years-precental', 'https://www.investing.com/equities/apple-computer-inc-historical-data', 'https://www.barchart.com/stocks/quotes/AAPL/price-history'], 'actions_performed': ['Used the keyword: \"Apple stock price history\" to search the web for information. Received https://www.statmuse.com/money/ask/apple-stock-price-history-20-years-precental, https://www.investing.com/equities/apple-computer-inc-historical-data, https://www.barchart.com/stocks/quotes/AAPL/price-history URLs.'], 'keywords_used': ['\"Apple stock price history\"']}}\n",
      "{'research_agent': {'research_agent_output': ResearchOutput(next_action='web_search', reasoning=\"The user query asks for the current stock price trends of Apple. Since no URLs have been scraped yet and the summary is empty, I need to perform a web search to gather a list of URLs that contain information about Apple's current stock price trends. This will allow me to gather the necessary data to provide a comprehensive summary and determine if it is sufficient to generate a chart.\")}}\n",
      "\"Apple stock price analysis\"\n",
      "{'query': '\"Apple stock price analysis\"', 'follow_up_questions': None, 'answer': None, 'images': [], 'results': [], 'response_time': 1.07}\n",
      "{'web_search_tool': {'urls': [], 'actions_performed': ['Used the keyword: \"Apple stock price analysis\" to search the web for information. Received  URLs.'], 'keywords_used': ['\"Apple stock price analysis\"']}}\n",
      "{'research_agent': {'research_agent_output': ResearchOutput(next_action='web_search', reasoning=\"The summary of relevant information is currently empty, indicating that no URLs have been scraped yet. To provide a comprehensive overview of the current stock price trends of Apple, I need to first gather a list of URLs that contain relevant information. Therefore, the next logical step is to perform a web search to obtain these URLs, which can then be scraped for detailed content on Apple's stock price trends.\")}}\n",
      "\"Apple stock price chart\"\n",
      "{'query': '\"Apple stock price chart\"', 'follow_up_questions': None, 'answer': None, 'images': [], 'results': [], 'response_time': 1.2}\n",
      "{'web_search_tool': {'urls': [], 'actions_performed': ['Used the keyword: \"Apple stock price chart\" to search the web for information. Received  URLs.'], 'keywords_used': ['\"Apple stock price chart\"']}}\n",
      "{'research_agent': {'research_agent_output': ResearchOutput(next_action='web_search', reasoning='The summary of relevant information is currently empty, indicating that no URLs have been scraped yet. To provide a comprehensive overview of the current stock price trends of Apple, I need to first gather a list of URLs that contain relevant information. Therefore, the next logical step is to perform a web search to find sources that provide up-to-date stock price trends for Apple.')}}\n",
      "\"Apple stock price data\"\n"
     ]
    },
    {
     "ename": "KeyboardInterrupt",
     "evalue": "",
     "output_type": "error",
     "traceback": [
      "\u001b[31m---------------------------------------------------------------------------\u001b[39m",
      "\u001b[31mKeyboardInterrupt\u001b[39m                         Traceback (most recent call last)",
      "\u001b[36mCell\u001b[39m\u001b[36m \u001b[39m\u001b[32mIn[17]\u001b[39m\u001b[32m, line 1\u001b[39m\n\u001b[32m----> \u001b[39m\u001b[32m1\u001b[39m \u001b[38;5;28;43;01mfor\u001b[39;49;00m\u001b[43m \u001b[49m\u001b[43mevent\u001b[49m\u001b[43m \u001b[49m\u001b[38;5;129;43;01min\u001b[39;49;00m\u001b[43m \u001b[49m\u001b[43mresearch_agent\u001b[49m\u001b[43m.\u001b[49m\u001b[43mstream\u001b[49m\u001b[43m(\u001b[49m\u001b[43m{\u001b[49m\u001b[33;43m\"\u001b[39;49m\u001b[33;43mquery\u001b[39;49m\u001b[33;43m\"\u001b[39;49m\u001b[43m:\u001b[49m\u001b[43m \u001b[49m\u001b[33;43m\"\u001b[39;49m\u001b[33;43mWhat is the current stock price trends of Apple\u001b[39;49m\u001b[33;43m\"\u001b[39;49m\u001b[43m}\u001b[49m\u001b[43m)\u001b[49m\u001b[43m:\u001b[49m\n\u001b[32m      2\u001b[39m \u001b[43m    \u001b[49m\u001b[38;5;28;43mprint\u001b[39;49m\u001b[43m(\u001b[49m\u001b[43mevent\u001b[49m\u001b[43m)\u001b[49m\n",
      "\u001b[36mFile \u001b[39m\u001b[32m~/Documents/GitHub/chart-agent/myvenv/lib/python3.12/site-packages/langgraph/pregel/__init__.py:2024\u001b[39m, in \u001b[36mPregel.stream\u001b[39m\u001b[34m(self, input, config, stream_mode, output_keys, interrupt_before, interrupt_after, debug, subgraphs)\u001b[39m\n\u001b[32m   2018\u001b[39m     \u001b[38;5;66;03m# Similarly to Bulk Synchronous Parallel / Pregel model\u001b[39;00m\n\u001b[32m   2019\u001b[39m     \u001b[38;5;66;03m# computation proceeds in steps, while there are channel updates.\u001b[39;00m\n\u001b[32m   2020\u001b[39m     \u001b[38;5;66;03m# Channel updates from step N are only visible in step N+1\u001b[39;00m\n\u001b[32m   2021\u001b[39m     \u001b[38;5;66;03m# channels are guaranteed to be immutable for the duration of the step,\u001b[39;00m\n\u001b[32m   2022\u001b[39m     \u001b[38;5;66;03m# with channel updates applied only at the transition between steps.\u001b[39;00m\n\u001b[32m   2023\u001b[39m     \u001b[38;5;28;01mwhile\u001b[39;00m loop.tick(input_keys=\u001b[38;5;28mself\u001b[39m.input_channels):\n\u001b[32m-> \u001b[39m\u001b[32m2024\u001b[39m \u001b[43m        \u001b[49m\u001b[38;5;28;43;01mfor\u001b[39;49;00m\u001b[43m \u001b[49m\u001b[43m_\u001b[49m\u001b[43m \u001b[49m\u001b[38;5;129;43;01min\u001b[39;49;00m\u001b[43m \u001b[49m\u001b[43mrunner\u001b[49m\u001b[43m.\u001b[49m\u001b[43mtick\u001b[49m\u001b[43m(\u001b[49m\n\u001b[32m   2025\u001b[39m \u001b[43m            \u001b[49m\u001b[43mloop\u001b[49m\u001b[43m.\u001b[49m\u001b[43mtasks\u001b[49m\u001b[43m.\u001b[49m\u001b[43mvalues\u001b[49m\u001b[43m(\u001b[49m\u001b[43m)\u001b[49m\u001b[43m,\u001b[49m\n\u001b[32m   2026\u001b[39m \u001b[43m            \u001b[49m\u001b[43mtimeout\u001b[49m\u001b[43m=\u001b[49m\u001b[38;5;28;43mself\u001b[39;49m\u001b[43m.\u001b[49m\u001b[43mstep_timeout\u001b[49m\u001b[43m,\u001b[49m\n\u001b[32m   2027\u001b[39m \u001b[43m            \u001b[49m\u001b[43mretry_policy\u001b[49m\u001b[43m=\u001b[49m\u001b[38;5;28;43mself\u001b[39;49m\u001b[43m.\u001b[49m\u001b[43mretry_policy\u001b[49m\u001b[43m,\u001b[49m\n\u001b[32m   2028\u001b[39m \u001b[43m            \u001b[49m\u001b[43mget_waiter\u001b[49m\u001b[43m=\u001b[49m\u001b[43mget_waiter\u001b[49m\u001b[43m,\u001b[49m\n\u001b[32m   2029\u001b[39m \u001b[43m        \u001b[49m\u001b[43m)\u001b[49m\u001b[43m:\u001b[49m\n\u001b[32m   2030\u001b[39m \u001b[43m            \u001b[49m\u001b[38;5;66;43;03m# emit output\u001b[39;49;00m\n\u001b[32m   2031\u001b[39m \u001b[43m            \u001b[49m\u001b[38;5;28;43;01myield from\u001b[39;49;00m\u001b[43m \u001b[49m\u001b[43moutput\u001b[49m\u001b[43m(\u001b[49m\u001b[43m)\u001b[49m\n\u001b[32m   2032\u001b[39m \u001b[38;5;66;03m# emit output\u001b[39;00m\n",
      "\u001b[36mFile \u001b[39m\u001b[32m~/Documents/GitHub/chart-agent/myvenv/lib/python3.12/site-packages/langgraph/pregel/runner.py:230\u001b[39m, in \u001b[36mPregelRunner.tick\u001b[39m\u001b[34m(self, tasks, reraise, timeout, retry_policy, get_waiter)\u001b[39m\n\u001b[32m    228\u001b[39m t = tasks[\u001b[32m0\u001b[39m]\n\u001b[32m    229\u001b[39m \u001b[38;5;28;01mtry\u001b[39;00m:\n\u001b[32m--> \u001b[39m\u001b[32m230\u001b[39m     \u001b[43mrun_with_retry\u001b[49m\u001b[43m(\u001b[49m\n\u001b[32m    231\u001b[39m \u001b[43m        \u001b[49m\u001b[43mt\u001b[49m\u001b[43m,\u001b[49m\n\u001b[32m    232\u001b[39m \u001b[43m        \u001b[49m\u001b[43mretry_policy\u001b[49m\u001b[43m,\u001b[49m\n\u001b[32m    233\u001b[39m \u001b[43m        \u001b[49m\u001b[43mconfigurable\u001b[49m\u001b[43m=\u001b[49m\u001b[43m{\u001b[49m\n\u001b[32m    234\u001b[39m \u001b[43m            \u001b[49m\u001b[43mCONFIG_KEY_SEND\u001b[49m\u001b[43m:\u001b[49m\u001b[43m \u001b[49m\u001b[43mpartial\u001b[49m\u001b[43m(\u001b[49m\u001b[43mwriter\u001b[49m\u001b[43m,\u001b[49m\u001b[43m \u001b[49m\u001b[43mt\u001b[49m\u001b[43m)\u001b[49m\u001b[43m,\u001b[49m\n\u001b[32m    235\u001b[39m \u001b[43m            \u001b[49m\u001b[43mCONFIG_KEY_CALL\u001b[49m\u001b[43m:\u001b[49m\u001b[43m \u001b[49m\u001b[43mpartial\u001b[49m\u001b[43m(\u001b[49m\u001b[43mcall\u001b[49m\u001b[43m,\u001b[49m\u001b[43m \u001b[49m\u001b[43mt\u001b[49m\u001b[43m)\u001b[49m\u001b[43m,\u001b[49m\n\u001b[32m    236\u001b[39m \u001b[43m        \u001b[49m\u001b[43m}\u001b[49m\u001b[43m,\u001b[49m\n\u001b[32m    237\u001b[39m \u001b[43m    \u001b[49m\u001b[43m)\u001b[49m\n\u001b[32m    238\u001b[39m     \u001b[38;5;28mself\u001b[39m.commit(t, \u001b[38;5;28;01mNone\u001b[39;00m)\n\u001b[32m    239\u001b[39m \u001b[38;5;28;01mexcept\u001b[39;00m \u001b[38;5;167;01mException\u001b[39;00m \u001b[38;5;28;01mas\u001b[39;00m exc:\n",
      "\u001b[36mFile \u001b[39m\u001b[32m~/Documents/GitHub/chart-agent/myvenv/lib/python3.12/site-packages/langgraph/pregel/retry.py:40\u001b[39m, in \u001b[36mrun_with_retry\u001b[39m\u001b[34m(task, retry_policy, configurable)\u001b[39m\n\u001b[32m     38\u001b[39m     task.writes.clear()\n\u001b[32m     39\u001b[39m     \u001b[38;5;66;03m# run the task\u001b[39;00m\n\u001b[32m---> \u001b[39m\u001b[32m40\u001b[39m     \u001b[38;5;28;01mreturn\u001b[39;00m \u001b[43mtask\u001b[49m\u001b[43m.\u001b[49m\u001b[43mproc\u001b[49m\u001b[43m.\u001b[49m\u001b[43minvoke\u001b[49m\u001b[43m(\u001b[49m\u001b[43mtask\u001b[49m\u001b[43m.\u001b[49m\u001b[43minput\u001b[49m\u001b[43m,\u001b[49m\u001b[43m \u001b[49m\u001b[43mconfig\u001b[49m\u001b[43m)\u001b[49m\n\u001b[32m     41\u001b[39m \u001b[38;5;28;01mexcept\u001b[39;00m ParentCommand \u001b[38;5;28;01mas\u001b[39;00m exc:\n\u001b[32m     42\u001b[39m     ns: \u001b[38;5;28mstr\u001b[39m = config[CONF][CONFIG_KEY_CHECKPOINT_NS]\n",
      "\u001b[36mFile \u001b[39m\u001b[32m~/Documents/GitHub/chart-agent/myvenv/lib/python3.12/site-packages/langgraph/utils/runnable.py:546\u001b[39m, in \u001b[36mRunnableSeq.invoke\u001b[39m\u001b[34m(self, input, config, **kwargs)\u001b[39m\n\u001b[32m    542\u001b[39m config = patch_config(\n\u001b[32m    543\u001b[39m     config, callbacks=run_manager.get_child(\u001b[33mf\u001b[39m\u001b[33m\"\u001b[39m\u001b[33mseq:step:\u001b[39m\u001b[38;5;132;01m{\u001b[39;00mi\u001b[38;5;250m \u001b[39m+\u001b[38;5;250m \u001b[39m\u001b[32m1\u001b[39m\u001b[38;5;132;01m}\u001b[39;00m\u001b[33m\"\u001b[39m)\n\u001b[32m    544\u001b[39m )\n\u001b[32m    545\u001b[39m \u001b[38;5;28;01mif\u001b[39;00m i == \u001b[32m0\u001b[39m:\n\u001b[32m--> \u001b[39m\u001b[32m546\u001b[39m     \u001b[38;5;28minput\u001b[39m = \u001b[43mstep\u001b[49m\u001b[43m.\u001b[49m\u001b[43minvoke\u001b[49m\u001b[43m(\u001b[49m\u001b[38;5;28;43minput\u001b[39;49m\u001b[43m,\u001b[49m\u001b[43m \u001b[49m\u001b[43mconfig\u001b[49m\u001b[43m,\u001b[49m\u001b[43m \u001b[49m\u001b[43m*\u001b[49m\u001b[43m*\u001b[49m\u001b[43mkwargs\u001b[49m\u001b[43m)\u001b[49m\n\u001b[32m    547\u001b[39m \u001b[38;5;28;01melse\u001b[39;00m:\n\u001b[32m    548\u001b[39m     \u001b[38;5;28minput\u001b[39m = step.invoke(\u001b[38;5;28minput\u001b[39m, config)\n",
      "\u001b[36mFile \u001b[39m\u001b[32m~/Documents/GitHub/chart-agent/myvenv/lib/python3.12/site-packages/langgraph/utils/runnable.py:310\u001b[39m, in \u001b[36mRunnableCallable.invoke\u001b[39m\u001b[34m(self, input, config, **kwargs)\u001b[39m\n\u001b[32m    308\u001b[39m \u001b[38;5;28;01melse\u001b[39;00m:\n\u001b[32m    309\u001b[39m     context.run(_set_config_context, config)\n\u001b[32m--> \u001b[39m\u001b[32m310\u001b[39m     ret = \u001b[43mcontext\u001b[49m\u001b[43m.\u001b[49m\u001b[43mrun\u001b[49m\u001b[43m(\u001b[49m\u001b[38;5;28;43mself\u001b[39;49m\u001b[43m.\u001b[49m\u001b[43mfunc\u001b[49m\u001b[43m,\u001b[49m\u001b[43m \u001b[49m\u001b[43m*\u001b[49m\u001b[43margs\u001b[49m\u001b[43m,\u001b[49m\u001b[43m \u001b[49m\u001b[43m*\u001b[49m\u001b[43m*\u001b[49m\u001b[43mkwargs\u001b[49m\u001b[43m)\u001b[49m\n\u001b[32m    311\u001b[39m \u001b[38;5;28;01mif\u001b[39;00m \u001b[38;5;28misinstance\u001b[39m(ret, Runnable) \u001b[38;5;129;01mand\u001b[39;00m \u001b[38;5;28mself\u001b[39m.recurse:\n\u001b[32m    312\u001b[39m     \u001b[38;5;28;01mreturn\u001b[39;00m ret.invoke(\u001b[38;5;28minput\u001b[39m, config)\n",
      "\u001b[36mCell\u001b[39m\u001b[36m \u001b[39m\u001b[32mIn[6]\u001b[39m\u001b[32m, line 27\u001b[39m, in \u001b[36mweb_search_tool\u001b[39m\u001b[34m(state)\u001b[39m\n\u001b[32m     25\u001b[39m keywords = extract_keywords(state[\u001b[33m'\u001b[39m\u001b[33mquery\u001b[39m\u001b[33m'\u001b[39m]) \n\u001b[32m     26\u001b[39m \u001b[38;5;28mprint\u001b[39m(keywords)\n\u001b[32m---> \u001b[39m\u001b[32m27\u001b[39m response = \u001b[43mtavily\u001b[49m\u001b[43m.\u001b[49m\u001b[43msearch\u001b[49m\u001b[43m(\u001b[49m\u001b[43mkeywords\u001b[49m\u001b[43m)\u001b[49m\n\u001b[32m     28\u001b[39m \u001b[38;5;28mprint\u001b[39m(response)\n\u001b[32m     30\u001b[39m urls = [result[\u001b[33m'\u001b[39m\u001b[33murl\u001b[39m\u001b[33m'\u001b[39m] \u001b[38;5;28;01mfor\u001b[39;00m result \u001b[38;5;129;01min\u001b[39;00m response[\u001b[33m'\u001b[39m\u001b[33mresults\u001b[39m\u001b[33m'\u001b[39m][:\u001b[32m3\u001b[39m]]\n",
      "\u001b[36mFile \u001b[39m\u001b[32m~/Documents/GitHub/chart-agent/myvenv/lib/python3.12/site-packages/tavily/tavily.py:96\u001b[39m, in \u001b[36mTavilyClient.search\u001b[39m\u001b[34m(self, query, search_depth, topic, days, max_results, include_domains, exclude_domains, include_answer, include_raw_content, include_images, **kwargs)\u001b[39m\n\u001b[32m     79\u001b[39m \u001b[38;5;28;01mdef\u001b[39;00m\u001b[38;5;250m \u001b[39m\u001b[34msearch\u001b[39m(\u001b[38;5;28mself\u001b[39m,\n\u001b[32m     80\u001b[39m            query: \u001b[38;5;28mstr\u001b[39m,\n\u001b[32m     81\u001b[39m            search_depth: Literal[\u001b[33m\"\u001b[39m\u001b[33mbasic\u001b[39m\u001b[33m\"\u001b[39m, \u001b[33m\"\u001b[39m\u001b[33madvanced\u001b[39m\u001b[33m\"\u001b[39m] = \u001b[33m\"\u001b[39m\u001b[33mbasic\u001b[39m\u001b[33m\"\u001b[39m,\n\u001b[32m   (...)\u001b[39m\u001b[32m     90\u001b[39m            **kwargs,  \u001b[38;5;66;03m# Accept custom arguments\u001b[39;00m\n\u001b[32m     91\u001b[39m            ) -> \u001b[38;5;28mdict\u001b[39m:\n\u001b[32m     92\u001b[39m \u001b[38;5;250m    \u001b[39m\u001b[33;03m\"\"\"\u001b[39;00m\n\u001b[32m     93\u001b[39m \u001b[33;03m    Combined search method.\u001b[39;00m\n\u001b[32m     94\u001b[39m \u001b[33;03m    \"\"\"\u001b[39;00m\n\u001b[32m---> \u001b[39m\u001b[32m96\u001b[39m     response_dict = \u001b[38;5;28;43mself\u001b[39;49m\u001b[43m.\u001b[49m\u001b[43m_search\u001b[49m\u001b[43m(\u001b[49m\u001b[43mquery\u001b[49m\u001b[43m,\u001b[49m\n\u001b[32m     97\u001b[39m \u001b[43m                                 \u001b[49m\u001b[43msearch_depth\u001b[49m\u001b[43m=\u001b[49m\u001b[43msearch_depth\u001b[49m\u001b[43m,\u001b[49m\n\u001b[32m     98\u001b[39m \u001b[43m                                 \u001b[49m\u001b[43mtopic\u001b[49m\u001b[43m=\u001b[49m\u001b[43mtopic\u001b[49m\u001b[43m,\u001b[49m\n\u001b[32m     99\u001b[39m \u001b[43m                                 \u001b[49m\u001b[43mdays\u001b[49m\u001b[43m=\u001b[49m\u001b[43mdays\u001b[49m\u001b[43m,\u001b[49m\n\u001b[32m    100\u001b[39m \u001b[43m                                 \u001b[49m\u001b[43mmax_results\u001b[49m\u001b[43m=\u001b[49m\u001b[43mmax_results\u001b[49m\u001b[43m,\u001b[49m\n\u001b[32m    101\u001b[39m \u001b[43m                                 \u001b[49m\u001b[43minclude_domains\u001b[49m\u001b[43m=\u001b[49m\u001b[43minclude_domains\u001b[49m\u001b[43m,\u001b[49m\n\u001b[32m    102\u001b[39m \u001b[43m                                 \u001b[49m\u001b[43mexclude_domains\u001b[49m\u001b[43m=\u001b[49m\u001b[43mexclude_domains\u001b[49m\u001b[43m,\u001b[49m\n\u001b[32m    103\u001b[39m \u001b[43m                                 \u001b[49m\u001b[43minclude_answer\u001b[49m\u001b[43m=\u001b[49m\u001b[43minclude_answer\u001b[49m\u001b[43m,\u001b[49m\n\u001b[32m    104\u001b[39m \u001b[43m                                 \u001b[49m\u001b[43minclude_raw_content\u001b[49m\u001b[43m=\u001b[49m\u001b[43minclude_raw_content\u001b[49m\u001b[43m,\u001b[49m\n\u001b[32m    105\u001b[39m \u001b[43m                                 \u001b[49m\u001b[43minclude_images\u001b[49m\u001b[43m=\u001b[49m\u001b[43minclude_images\u001b[49m\u001b[43m,\u001b[49m\n\u001b[32m    106\u001b[39m \u001b[43m                                 \u001b[49m\u001b[43m*\u001b[49m\u001b[43m*\u001b[49m\u001b[43mkwargs\u001b[49m\u001b[43m,\u001b[49m\n\u001b[32m    107\u001b[39m \u001b[43m                                 \u001b[49m\u001b[43m)\u001b[49m\n\u001b[32m    109\u001b[39m     tavily_results = response_dict.get(\u001b[33m\"\u001b[39m\u001b[33mresults\u001b[39m\u001b[33m\"\u001b[39m, [])\n\u001b[32m    111\u001b[39m     response_dict[\u001b[33m\"\u001b[39m\u001b[33mresults\u001b[39m\u001b[33m\"\u001b[39m] = tavily_results\n",
      "\u001b[36mFile \u001b[39m\u001b[32m~/Documents/GitHub/chart-agent/myvenv/lib/python3.12/site-packages/tavily/tavily.py:62\u001b[39m, in \u001b[36mTavilyClient._search\u001b[39m\u001b[34m(self, query, search_depth, topic, days, max_results, include_domains, exclude_domains, include_answer, include_raw_content, include_images, **kwargs)\u001b[39m\n\u001b[32m     59\u001b[39m \u001b[38;5;28;01mif\u001b[39;00m kwargs:\n\u001b[32m     60\u001b[39m     data.update(kwargs)\n\u001b[32m---> \u001b[39m\u001b[32m62\u001b[39m response = \u001b[43mrequests\u001b[49m\u001b[43m.\u001b[49m\u001b[43mpost\u001b[49m\u001b[43m(\u001b[49m\u001b[38;5;28;43mself\u001b[39;49m\u001b[43m.\u001b[49m\u001b[43mbase_url\u001b[49m\u001b[43m \u001b[49m\u001b[43m+\u001b[49m\u001b[43m \u001b[49m\u001b[33;43m\"\u001b[39;49m\u001b[33;43m/search\u001b[39;49m\u001b[33;43m\"\u001b[39;49m\u001b[43m,\u001b[49m\u001b[43m \u001b[49m\u001b[43mdata\u001b[49m\u001b[43m=\u001b[49m\u001b[43mjson\u001b[49m\u001b[43m.\u001b[49m\u001b[43mdumps\u001b[49m\u001b[43m(\u001b[49m\u001b[43mdata\u001b[49m\u001b[43m)\u001b[49m\u001b[43m,\u001b[49m\u001b[43m \u001b[49m\u001b[43mheaders\u001b[49m\u001b[43m=\u001b[49m\u001b[38;5;28;43mself\u001b[39;49m\u001b[43m.\u001b[49m\u001b[43mheaders\u001b[49m\u001b[43m,\u001b[49m\u001b[43m \u001b[49m\u001b[43mtimeout\u001b[49m\u001b[43m=\u001b[49m\u001b[32;43m100\u001b[39;49m\u001b[43m)\u001b[49m\n\u001b[32m     64\u001b[39m \u001b[38;5;28;01mif\u001b[39;00m response.status_code == \u001b[32m200\u001b[39m:\n\u001b[32m     65\u001b[39m     \u001b[38;5;28;01mreturn\u001b[39;00m response.json()\n",
      "\u001b[36mFile \u001b[39m\u001b[32m~/Documents/GitHub/chart-agent/myvenv/lib/python3.12/site-packages/requests/api.py:115\u001b[39m, in \u001b[36mpost\u001b[39m\u001b[34m(url, data, json, **kwargs)\u001b[39m\n\u001b[32m    103\u001b[39m \u001b[38;5;28;01mdef\u001b[39;00m\u001b[38;5;250m \u001b[39m\u001b[34mpost\u001b[39m(url, data=\u001b[38;5;28;01mNone\u001b[39;00m, json=\u001b[38;5;28;01mNone\u001b[39;00m, **kwargs):\n\u001b[32m    104\u001b[39m \u001b[38;5;250m    \u001b[39m\u001b[33mr\u001b[39m\u001b[33;03m\"\"\"Sends a POST request.\u001b[39;00m\n\u001b[32m    105\u001b[39m \n\u001b[32m    106\u001b[39m \u001b[33;03m    :param url: URL for the new :class:`Request` object.\u001b[39;00m\n\u001b[32m   (...)\u001b[39m\u001b[32m    112\u001b[39m \u001b[33;03m    :rtype: requests.Response\u001b[39;00m\n\u001b[32m    113\u001b[39m \u001b[33;03m    \"\"\"\u001b[39;00m\n\u001b[32m--> \u001b[39m\u001b[32m115\u001b[39m     \u001b[38;5;28;01mreturn\u001b[39;00m \u001b[43mrequest\u001b[49m\u001b[43m(\u001b[49m\u001b[33;43m\"\u001b[39;49m\u001b[33;43mpost\u001b[39;49m\u001b[33;43m\"\u001b[39;49m\u001b[43m,\u001b[49m\u001b[43m \u001b[49m\u001b[43murl\u001b[49m\u001b[43m,\u001b[49m\u001b[43m \u001b[49m\u001b[43mdata\u001b[49m\u001b[43m=\u001b[49m\u001b[43mdata\u001b[49m\u001b[43m,\u001b[49m\u001b[43m \u001b[49m\u001b[43mjson\u001b[49m\u001b[43m=\u001b[49m\u001b[43mjson\u001b[49m\u001b[43m,\u001b[49m\u001b[43m \u001b[49m\u001b[43m*\u001b[49m\u001b[43m*\u001b[49m\u001b[43mkwargs\u001b[49m\u001b[43m)\u001b[49m\n",
      "\u001b[36mFile \u001b[39m\u001b[32m~/Documents/GitHub/chart-agent/myvenv/lib/python3.12/site-packages/requests/api.py:59\u001b[39m, in \u001b[36mrequest\u001b[39m\u001b[34m(method, url, **kwargs)\u001b[39m\n\u001b[32m     55\u001b[39m \u001b[38;5;66;03m# By using the 'with' statement we are sure the session is closed, thus we\u001b[39;00m\n\u001b[32m     56\u001b[39m \u001b[38;5;66;03m# avoid leaving sockets open which can trigger a ResourceWarning in some\u001b[39;00m\n\u001b[32m     57\u001b[39m \u001b[38;5;66;03m# cases, and look like a memory leak in others.\u001b[39;00m\n\u001b[32m     58\u001b[39m \u001b[38;5;28;01mwith\u001b[39;00m sessions.Session() \u001b[38;5;28;01mas\u001b[39;00m session:\n\u001b[32m---> \u001b[39m\u001b[32m59\u001b[39m     \u001b[38;5;28;01mreturn\u001b[39;00m \u001b[43msession\u001b[49m\u001b[43m.\u001b[49m\u001b[43mrequest\u001b[49m\u001b[43m(\u001b[49m\u001b[43mmethod\u001b[49m\u001b[43m=\u001b[49m\u001b[43mmethod\u001b[49m\u001b[43m,\u001b[49m\u001b[43m \u001b[49m\u001b[43murl\u001b[49m\u001b[43m=\u001b[49m\u001b[43murl\u001b[49m\u001b[43m,\u001b[49m\u001b[43m \u001b[49m\u001b[43m*\u001b[49m\u001b[43m*\u001b[49m\u001b[43mkwargs\u001b[49m\u001b[43m)\u001b[49m\n",
      "\u001b[36mFile \u001b[39m\u001b[32m~/Documents/GitHub/chart-agent/myvenv/lib/python3.12/site-packages/requests/sessions.py:589\u001b[39m, in \u001b[36mSession.request\u001b[39m\u001b[34m(self, method, url, params, data, headers, cookies, files, auth, timeout, allow_redirects, proxies, hooks, stream, verify, cert, json)\u001b[39m\n\u001b[32m    584\u001b[39m send_kwargs = {\n\u001b[32m    585\u001b[39m     \u001b[33m\"\u001b[39m\u001b[33mtimeout\u001b[39m\u001b[33m\"\u001b[39m: timeout,\n\u001b[32m    586\u001b[39m     \u001b[33m\"\u001b[39m\u001b[33mallow_redirects\u001b[39m\u001b[33m\"\u001b[39m: allow_redirects,\n\u001b[32m    587\u001b[39m }\n\u001b[32m    588\u001b[39m send_kwargs.update(settings)\n\u001b[32m--> \u001b[39m\u001b[32m589\u001b[39m resp = \u001b[38;5;28;43mself\u001b[39;49m\u001b[43m.\u001b[49m\u001b[43msend\u001b[49m\u001b[43m(\u001b[49m\u001b[43mprep\u001b[49m\u001b[43m,\u001b[49m\u001b[43m \u001b[49m\u001b[43m*\u001b[49m\u001b[43m*\u001b[49m\u001b[43msend_kwargs\u001b[49m\u001b[43m)\u001b[49m\n\u001b[32m    591\u001b[39m \u001b[38;5;28;01mreturn\u001b[39;00m resp\n",
      "\u001b[36mFile \u001b[39m\u001b[32m~/Documents/GitHub/chart-agent/myvenv/lib/python3.12/site-packages/requests/sessions.py:703\u001b[39m, in \u001b[36mSession.send\u001b[39m\u001b[34m(self, request, **kwargs)\u001b[39m\n\u001b[32m    700\u001b[39m start = preferred_clock()\n\u001b[32m    702\u001b[39m \u001b[38;5;66;03m# Send the request\u001b[39;00m\n\u001b[32m--> \u001b[39m\u001b[32m703\u001b[39m r = \u001b[43madapter\u001b[49m\u001b[43m.\u001b[49m\u001b[43msend\u001b[49m\u001b[43m(\u001b[49m\u001b[43mrequest\u001b[49m\u001b[43m,\u001b[49m\u001b[43m \u001b[49m\u001b[43m*\u001b[49m\u001b[43m*\u001b[49m\u001b[43mkwargs\u001b[49m\u001b[43m)\u001b[49m\n\u001b[32m    705\u001b[39m \u001b[38;5;66;03m# Total elapsed time of the request (approximately)\u001b[39;00m\n\u001b[32m    706\u001b[39m elapsed = preferred_clock() - start\n",
      "\u001b[36mFile \u001b[39m\u001b[32m~/Documents/GitHub/chart-agent/myvenv/lib/python3.12/site-packages/requests/adapters.py:667\u001b[39m, in \u001b[36mHTTPAdapter.send\u001b[39m\u001b[34m(self, request, stream, timeout, verify, cert, proxies)\u001b[39m\n\u001b[32m    664\u001b[39m     timeout = TimeoutSauce(connect=timeout, read=timeout)\n\u001b[32m    666\u001b[39m \u001b[38;5;28;01mtry\u001b[39;00m:\n\u001b[32m--> \u001b[39m\u001b[32m667\u001b[39m     resp = \u001b[43mconn\u001b[49m\u001b[43m.\u001b[49m\u001b[43murlopen\u001b[49m\u001b[43m(\u001b[49m\n\u001b[32m    668\u001b[39m \u001b[43m        \u001b[49m\u001b[43mmethod\u001b[49m\u001b[43m=\u001b[49m\u001b[43mrequest\u001b[49m\u001b[43m.\u001b[49m\u001b[43mmethod\u001b[49m\u001b[43m,\u001b[49m\n\u001b[32m    669\u001b[39m \u001b[43m        \u001b[49m\u001b[43murl\u001b[49m\u001b[43m=\u001b[49m\u001b[43murl\u001b[49m\u001b[43m,\u001b[49m\n\u001b[32m    670\u001b[39m \u001b[43m        \u001b[49m\u001b[43mbody\u001b[49m\u001b[43m=\u001b[49m\u001b[43mrequest\u001b[49m\u001b[43m.\u001b[49m\u001b[43mbody\u001b[49m\u001b[43m,\u001b[49m\n\u001b[32m    671\u001b[39m \u001b[43m        \u001b[49m\u001b[43mheaders\u001b[49m\u001b[43m=\u001b[49m\u001b[43mrequest\u001b[49m\u001b[43m.\u001b[49m\u001b[43mheaders\u001b[49m\u001b[43m,\u001b[49m\n\u001b[32m    672\u001b[39m \u001b[43m        \u001b[49m\u001b[43mredirect\u001b[49m\u001b[43m=\u001b[49m\u001b[38;5;28;43;01mFalse\u001b[39;49;00m\u001b[43m,\u001b[49m\n\u001b[32m    673\u001b[39m \u001b[43m        \u001b[49m\u001b[43massert_same_host\u001b[49m\u001b[43m=\u001b[49m\u001b[38;5;28;43;01mFalse\u001b[39;49;00m\u001b[43m,\u001b[49m\n\u001b[32m    674\u001b[39m \u001b[43m        \u001b[49m\u001b[43mpreload_content\u001b[49m\u001b[43m=\u001b[49m\u001b[38;5;28;43;01mFalse\u001b[39;49;00m\u001b[43m,\u001b[49m\n\u001b[32m    675\u001b[39m \u001b[43m        \u001b[49m\u001b[43mdecode_content\u001b[49m\u001b[43m=\u001b[49m\u001b[38;5;28;43;01mFalse\u001b[39;49;00m\u001b[43m,\u001b[49m\n\u001b[32m    676\u001b[39m \u001b[43m        \u001b[49m\u001b[43mretries\u001b[49m\u001b[43m=\u001b[49m\u001b[38;5;28;43mself\u001b[39;49m\u001b[43m.\u001b[49m\u001b[43mmax_retries\u001b[49m\u001b[43m,\u001b[49m\n\u001b[32m    677\u001b[39m \u001b[43m        \u001b[49m\u001b[43mtimeout\u001b[49m\u001b[43m=\u001b[49m\u001b[43mtimeout\u001b[49m\u001b[43m,\u001b[49m\n\u001b[32m    678\u001b[39m \u001b[43m        \u001b[49m\u001b[43mchunked\u001b[49m\u001b[43m=\u001b[49m\u001b[43mchunked\u001b[49m\u001b[43m,\u001b[49m\n\u001b[32m    679\u001b[39m \u001b[43m    \u001b[49m\u001b[43m)\u001b[49m\n\u001b[32m    681\u001b[39m \u001b[38;5;28;01mexcept\u001b[39;00m (ProtocolError, \u001b[38;5;167;01mOSError\u001b[39;00m) \u001b[38;5;28;01mas\u001b[39;00m err:\n\u001b[32m    682\u001b[39m     \u001b[38;5;28;01mraise\u001b[39;00m \u001b[38;5;167;01mConnectionError\u001b[39;00m(err, request=request)\n",
      "\u001b[36mFile \u001b[39m\u001b[32m~/Documents/GitHub/chart-agent/myvenv/lib/python3.12/site-packages/urllib3/connectionpool.py:787\u001b[39m, in \u001b[36mHTTPConnectionPool.urlopen\u001b[39m\u001b[34m(self, method, url, body, headers, retries, redirect, assert_same_host, timeout, pool_timeout, release_conn, chunked, body_pos, preload_content, decode_content, **response_kw)\u001b[39m\n\u001b[32m    784\u001b[39m response_conn = conn \u001b[38;5;28;01mif\u001b[39;00m \u001b[38;5;129;01mnot\u001b[39;00m release_conn \u001b[38;5;28;01melse\u001b[39;00m \u001b[38;5;28;01mNone\u001b[39;00m\n\u001b[32m    786\u001b[39m \u001b[38;5;66;03m# Make the request on the HTTPConnection object\u001b[39;00m\n\u001b[32m--> \u001b[39m\u001b[32m787\u001b[39m response = \u001b[38;5;28;43mself\u001b[39;49m\u001b[43m.\u001b[49m\u001b[43m_make_request\u001b[49m\u001b[43m(\u001b[49m\n\u001b[32m    788\u001b[39m \u001b[43m    \u001b[49m\u001b[43mconn\u001b[49m\u001b[43m,\u001b[49m\n\u001b[32m    789\u001b[39m \u001b[43m    \u001b[49m\u001b[43mmethod\u001b[49m\u001b[43m,\u001b[49m\n\u001b[32m    790\u001b[39m \u001b[43m    \u001b[49m\u001b[43murl\u001b[49m\u001b[43m,\u001b[49m\n\u001b[32m    791\u001b[39m \u001b[43m    \u001b[49m\u001b[43mtimeout\u001b[49m\u001b[43m=\u001b[49m\u001b[43mtimeout_obj\u001b[49m\u001b[43m,\u001b[49m\n\u001b[32m    792\u001b[39m \u001b[43m    \u001b[49m\u001b[43mbody\u001b[49m\u001b[43m=\u001b[49m\u001b[43mbody\u001b[49m\u001b[43m,\u001b[49m\n\u001b[32m    793\u001b[39m \u001b[43m    \u001b[49m\u001b[43mheaders\u001b[49m\u001b[43m=\u001b[49m\u001b[43mheaders\u001b[49m\u001b[43m,\u001b[49m\n\u001b[32m    794\u001b[39m \u001b[43m    \u001b[49m\u001b[43mchunked\u001b[49m\u001b[43m=\u001b[49m\u001b[43mchunked\u001b[49m\u001b[43m,\u001b[49m\n\u001b[32m    795\u001b[39m \u001b[43m    \u001b[49m\u001b[43mretries\u001b[49m\u001b[43m=\u001b[49m\u001b[43mretries\u001b[49m\u001b[43m,\u001b[49m\n\u001b[32m    796\u001b[39m \u001b[43m    \u001b[49m\u001b[43mresponse_conn\u001b[49m\u001b[43m=\u001b[49m\u001b[43mresponse_conn\u001b[49m\u001b[43m,\u001b[49m\n\u001b[32m    797\u001b[39m \u001b[43m    \u001b[49m\u001b[43mpreload_content\u001b[49m\u001b[43m=\u001b[49m\u001b[43mpreload_content\u001b[49m\u001b[43m,\u001b[49m\n\u001b[32m    798\u001b[39m \u001b[43m    \u001b[49m\u001b[43mdecode_content\u001b[49m\u001b[43m=\u001b[49m\u001b[43mdecode_content\u001b[49m\u001b[43m,\u001b[49m\n\u001b[32m    799\u001b[39m \u001b[43m    \u001b[49m\u001b[43m*\u001b[49m\u001b[43m*\u001b[49m\u001b[43mresponse_kw\u001b[49m\u001b[43m,\u001b[49m\n\u001b[32m    800\u001b[39m \u001b[43m\u001b[49m\u001b[43m)\u001b[49m\n\u001b[32m    802\u001b[39m \u001b[38;5;66;03m# Everything went great!\u001b[39;00m\n\u001b[32m    803\u001b[39m clean_exit = \u001b[38;5;28;01mTrue\u001b[39;00m\n",
      "\u001b[36mFile \u001b[39m\u001b[32m~/Documents/GitHub/chart-agent/myvenv/lib/python3.12/site-packages/urllib3/connectionpool.py:534\u001b[39m, in \u001b[36mHTTPConnectionPool._make_request\u001b[39m\u001b[34m(self, conn, method, url, body, headers, retries, timeout, chunked, response_conn, preload_content, decode_content, enforce_content_length)\u001b[39m\n\u001b[32m    532\u001b[39m \u001b[38;5;66;03m# Receive the response from the server\u001b[39;00m\n\u001b[32m    533\u001b[39m \u001b[38;5;28;01mtry\u001b[39;00m:\n\u001b[32m--> \u001b[39m\u001b[32m534\u001b[39m     response = \u001b[43mconn\u001b[49m\u001b[43m.\u001b[49m\u001b[43mgetresponse\u001b[49m\u001b[43m(\u001b[49m\u001b[43m)\u001b[49m\n\u001b[32m    535\u001b[39m \u001b[38;5;28;01mexcept\u001b[39;00m (BaseSSLError, \u001b[38;5;167;01mOSError\u001b[39;00m) \u001b[38;5;28;01mas\u001b[39;00m e:\n\u001b[32m    536\u001b[39m     \u001b[38;5;28mself\u001b[39m._raise_timeout(err=e, url=url, timeout_value=read_timeout)\n",
      "\u001b[36mFile \u001b[39m\u001b[32m~/Documents/GitHub/chart-agent/myvenv/lib/python3.12/site-packages/urllib3/connection.py:516\u001b[39m, in \u001b[36mHTTPConnection.getresponse\u001b[39m\u001b[34m(self)\u001b[39m\n\u001b[32m    513\u001b[39m _shutdown = \u001b[38;5;28mgetattr\u001b[39m(\u001b[38;5;28mself\u001b[39m.sock, \u001b[33m\"\u001b[39m\u001b[33mshutdown\u001b[39m\u001b[33m\"\u001b[39m, \u001b[38;5;28;01mNone\u001b[39;00m)\n\u001b[32m    515\u001b[39m \u001b[38;5;66;03m# Get the response from http.client.HTTPConnection\u001b[39;00m\n\u001b[32m--> \u001b[39m\u001b[32m516\u001b[39m httplib_response = \u001b[38;5;28;43msuper\u001b[39;49m\u001b[43m(\u001b[49m\u001b[43m)\u001b[49m\u001b[43m.\u001b[49m\u001b[43mgetresponse\u001b[49m\u001b[43m(\u001b[49m\u001b[43m)\u001b[49m\n\u001b[32m    518\u001b[39m \u001b[38;5;28;01mtry\u001b[39;00m:\n\u001b[32m    519\u001b[39m     assert_header_parsing(httplib_response.msg)\n",
      "\u001b[36mFile \u001b[39m\u001b[32m/Library/Frameworks/Python.framework/Versions/3.12/lib/python3.12/http/client.py:1411\u001b[39m, in \u001b[36mHTTPConnection.getresponse\u001b[39m\u001b[34m(self)\u001b[39m\n\u001b[32m   1409\u001b[39m \u001b[38;5;28;01mtry\u001b[39;00m:\n\u001b[32m   1410\u001b[39m     \u001b[38;5;28;01mtry\u001b[39;00m:\n\u001b[32m-> \u001b[39m\u001b[32m1411\u001b[39m         \u001b[43mresponse\u001b[49m\u001b[43m.\u001b[49m\u001b[43mbegin\u001b[49m\u001b[43m(\u001b[49m\u001b[43m)\u001b[49m\n\u001b[32m   1412\u001b[39m     \u001b[38;5;28;01mexcept\u001b[39;00m \u001b[38;5;167;01mConnectionError\u001b[39;00m:\n\u001b[32m   1413\u001b[39m         \u001b[38;5;28mself\u001b[39m.close()\n",
      "\u001b[36mFile \u001b[39m\u001b[32m/Library/Frameworks/Python.framework/Versions/3.12/lib/python3.12/http/client.py:324\u001b[39m, in \u001b[36mHTTPResponse.begin\u001b[39m\u001b[34m(self)\u001b[39m\n\u001b[32m    322\u001b[39m \u001b[38;5;66;03m# read until we get a non-100 response\u001b[39;00m\n\u001b[32m    323\u001b[39m \u001b[38;5;28;01mwhile\u001b[39;00m \u001b[38;5;28;01mTrue\u001b[39;00m:\n\u001b[32m--> \u001b[39m\u001b[32m324\u001b[39m     version, status, reason = \u001b[38;5;28;43mself\u001b[39;49m\u001b[43m.\u001b[49m\u001b[43m_read_status\u001b[49m\u001b[43m(\u001b[49m\u001b[43m)\u001b[49m\n\u001b[32m    325\u001b[39m     \u001b[38;5;28;01mif\u001b[39;00m status != CONTINUE:\n\u001b[32m    326\u001b[39m         \u001b[38;5;28;01mbreak\u001b[39;00m\n",
      "\u001b[36mFile \u001b[39m\u001b[32m/Library/Frameworks/Python.framework/Versions/3.12/lib/python3.12/http/client.py:285\u001b[39m, in \u001b[36mHTTPResponse._read_status\u001b[39m\u001b[34m(self)\u001b[39m\n\u001b[32m    284\u001b[39m \u001b[38;5;28;01mdef\u001b[39;00m\u001b[38;5;250m \u001b[39m\u001b[34m_read_status\u001b[39m(\u001b[38;5;28mself\u001b[39m):\n\u001b[32m--> \u001b[39m\u001b[32m285\u001b[39m     line = \u001b[38;5;28mstr\u001b[39m(\u001b[38;5;28;43mself\u001b[39;49m\u001b[43m.\u001b[49m\u001b[43mfp\u001b[49m\u001b[43m.\u001b[49m\u001b[43mreadline\u001b[49m\u001b[43m(\u001b[49m\u001b[43m_MAXLINE\u001b[49m\u001b[43m \u001b[49m\u001b[43m+\u001b[49m\u001b[43m \u001b[49m\u001b[32;43m1\u001b[39;49m\u001b[43m)\u001b[49m, \u001b[33m\"\u001b[39m\u001b[33miso-8859-1\u001b[39m\u001b[33m\"\u001b[39m)\n\u001b[32m    286\u001b[39m     \u001b[38;5;28;01mif\u001b[39;00m \u001b[38;5;28mlen\u001b[39m(line) > _MAXLINE:\n\u001b[32m    287\u001b[39m         \u001b[38;5;28;01mraise\u001b[39;00m LineTooLong(\u001b[33m\"\u001b[39m\u001b[33mstatus line\u001b[39m\u001b[33m\"\u001b[39m)\n",
      "\u001b[36mFile \u001b[39m\u001b[32m/Library/Frameworks/Python.framework/Versions/3.12/lib/python3.12/socket.py:707\u001b[39m, in \u001b[36mSocketIO.readinto\u001b[39m\u001b[34m(self, b)\u001b[39m\n\u001b[32m    705\u001b[39m \u001b[38;5;28;01mwhile\u001b[39;00m \u001b[38;5;28;01mTrue\u001b[39;00m:\n\u001b[32m    706\u001b[39m     \u001b[38;5;28;01mtry\u001b[39;00m:\n\u001b[32m--> \u001b[39m\u001b[32m707\u001b[39m         \u001b[38;5;28;01mreturn\u001b[39;00m \u001b[38;5;28;43mself\u001b[39;49m\u001b[43m.\u001b[49m\u001b[43m_sock\u001b[49m\u001b[43m.\u001b[49m\u001b[43mrecv_into\u001b[49m\u001b[43m(\u001b[49m\u001b[43mb\u001b[49m\u001b[43m)\u001b[49m\n\u001b[32m    708\u001b[39m     \u001b[38;5;28;01mexcept\u001b[39;00m timeout:\n\u001b[32m    709\u001b[39m         \u001b[38;5;28mself\u001b[39m._timeout_occurred = \u001b[38;5;28;01mTrue\u001b[39;00m\n",
      "\u001b[36mFile \u001b[39m\u001b[32m/Library/Frameworks/Python.framework/Versions/3.12/lib/python3.12/ssl.py:1249\u001b[39m, in \u001b[36mSSLSocket.recv_into\u001b[39m\u001b[34m(self, buffer, nbytes, flags)\u001b[39m\n\u001b[32m   1245\u001b[39m     \u001b[38;5;28;01mif\u001b[39;00m flags != \u001b[32m0\u001b[39m:\n\u001b[32m   1246\u001b[39m         \u001b[38;5;28;01mraise\u001b[39;00m \u001b[38;5;167;01mValueError\u001b[39;00m(\n\u001b[32m   1247\u001b[39m           \u001b[33m\"\u001b[39m\u001b[33mnon-zero flags not allowed in calls to recv_into() on \u001b[39m\u001b[38;5;132;01m%s\u001b[39;00m\u001b[33m\"\u001b[39m %\n\u001b[32m   1248\u001b[39m           \u001b[38;5;28mself\u001b[39m.\u001b[34m__class__\u001b[39m)\n\u001b[32m-> \u001b[39m\u001b[32m1249\u001b[39m     \u001b[38;5;28;01mreturn\u001b[39;00m \u001b[38;5;28;43mself\u001b[39;49m\u001b[43m.\u001b[49m\u001b[43mread\u001b[49m\u001b[43m(\u001b[49m\u001b[43mnbytes\u001b[49m\u001b[43m,\u001b[49m\u001b[43m \u001b[49m\u001b[43mbuffer\u001b[49m\u001b[43m)\u001b[49m\n\u001b[32m   1250\u001b[39m \u001b[38;5;28;01melse\u001b[39;00m:\n\u001b[32m   1251\u001b[39m     \u001b[38;5;28;01mreturn\u001b[39;00m \u001b[38;5;28msuper\u001b[39m().recv_into(buffer, nbytes, flags)\n",
      "\u001b[36mFile \u001b[39m\u001b[32m/Library/Frameworks/Python.framework/Versions/3.12/lib/python3.12/ssl.py:1105\u001b[39m, in \u001b[36mSSLSocket.read\u001b[39m\u001b[34m(self, len, buffer)\u001b[39m\n\u001b[32m   1103\u001b[39m \u001b[38;5;28;01mtry\u001b[39;00m:\n\u001b[32m   1104\u001b[39m     \u001b[38;5;28;01mif\u001b[39;00m buffer \u001b[38;5;129;01mis\u001b[39;00m \u001b[38;5;129;01mnot\u001b[39;00m \u001b[38;5;28;01mNone\u001b[39;00m:\n\u001b[32m-> \u001b[39m\u001b[32m1105\u001b[39m         \u001b[38;5;28;01mreturn\u001b[39;00m \u001b[38;5;28;43mself\u001b[39;49m\u001b[43m.\u001b[49m\u001b[43m_sslobj\u001b[49m\u001b[43m.\u001b[49m\u001b[43mread\u001b[49m\u001b[43m(\u001b[49m\u001b[38;5;28;43mlen\u001b[39;49m\u001b[43m,\u001b[49m\u001b[43m \u001b[49m\u001b[43mbuffer\u001b[49m\u001b[43m)\u001b[49m\n\u001b[32m   1106\u001b[39m     \u001b[38;5;28;01melse\u001b[39;00m:\n\u001b[32m   1107\u001b[39m         \u001b[38;5;28;01mreturn\u001b[39;00m \u001b[38;5;28mself\u001b[39m._sslobj.read(\u001b[38;5;28mlen\u001b[39m)\n",
      "\u001b[31mKeyboardInterrupt\u001b[39m: "
     ]
    }
   ],
   "source": [
    "for event in research_agent.stream({\"query\": \"What is the current stock price trends of Apple\"}):\n",
    "    print(event)"
   ]
  },
  {
   "cell_type": "code",
   "execution_count": 32,
   "metadata": {},
   "outputs": [],
   "source": [
    "from langchain.agents import Tool\n",
    "from langchain_experimental.utilities import PythonREPL\n",
    "import matplotlib as plt"
   ]
  },
  {
   "cell_type": "code",
   "execution_count": null,
   "metadata": {},
   "outputs": [
    {
     "name": "stderr",
     "output_type": "stream",
     "text": [
      "Matplotlib is building the font cache; this may take a moment.\n"
     ]
    },
    {
     "data": {
      "image/png": "[encoded data removed]",
      "text/plain": [
       "<Figure size 640x480 with 1 Axes>"
      ]
     },
     "metadata": {},
     "output_type": "display_data"
    },
    {
     "data": {
      "text/plain": [
       "''"
      ]
     },
     "execution_count": 33,
     "metadata": {},
     "output_type": "execute_result"
    }
   ],
   "source": [
    "def python_repl_tool(code):\n",
    "    \"\"\"Execute Python code and return the output\"\"\"\n",
    "    python_repl = PythonREPL()\n",
    "    result = python_repl.run(code)\n",
    "    return result\n",
    "\n",
    "#test\n",
    "\n",
    "code = \"\"\"\n",
    "import matplotlib.pyplot as plt\n",
    "\n",
    "# Data for plotting\n",
    "x = [0, 1, 2, 3, 4, 5]\n",
    "y = [0, 1, 4, 9, 16, 25]\n",
    "\n",
    "# Create the plot\n",
    "plt.plot(x, y, marker='o', linestyle='-', color='b', label='y = x^2')\n",
    "\n",
    "# Add title and labels\n",
    "plt.title('Simple Line Chart')\n",
    "plt.xlabel('X-axis')\n",
    "plt.ylabel('Y-axis')\n",
    "\n",
    "# Display legend\n",
    "plt.legend()\n",
    "\n",
    "# Show the plot\n",
    "plt.show()\n",
    " \"\"\"\n",
    "\n",
    "python_repl_tool(print(\"Hello, world!\"))"
   ]
  }
 ],
 "metadata": {
  "kernelspec": {
   "display_name": "myvenv",
   "language": "python",
   "name": "python3"
  },
  "language_info": {
   "codemirror_mode": {
    "name": "ipython",
    "version": 3
   },
   "file_extension": ".py",
   "mimetype": "text/x-python",
   "name": "python",
   "nbconvert_exporter": "python",
   "pygments_lexer": "ipython3",
   "version": "3.12.0"
  }
 },
 "nbformat": 4,
 "nbformat_minor": 2
}
