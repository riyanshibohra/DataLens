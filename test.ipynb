{
 "cells": [
  {
   "cell_type": "markdown",
   "metadata": {},
   "source": [
    "# Setting Up"
   ]
  },
  {
   "cell_type": "code",
   "execution_count": 1,
   "metadata": {},
   "outputs": [
    {
     "data": {
      "text/plain": [
       "True"
      ]
     },
     "execution_count": 1,
     "metadata": {},
     "output_type": "execute_result"
    }
   ],
   "source": [
    "import os\n",
    "from dotenv import load_dotenv\n",
    "\n",
    "load_dotenv()"
   ]
  },
  {
   "cell_type": "code",
   "execution_count": 2,
   "metadata": {},
   "outputs": [],
   "source": [
    "OPEN_API_KEY = os.getenv('OPEN_API_KEY')\n",
    "\n",
    "LANGSMITH_TRACING = os.getenv('LANGSMITH_TRACING')\n",
    "LANGSMITH_API_KEY = os.getenv('LANGSMITH_API_KEY')\n",
    "LANGSMITH_PROJECT = os.getenv('LANGSMITH_PROJECT')\n",
    "LANGSMITH_ENDPOINT = os.getenv('LANGSMITH_ENDPOINT')\n",
    "\n",
    "TAVILY_API_KEY = os.getenv('TAVILY_API_KEY')"
   ]
  },
  {
   "cell_type": "code",
   "execution_count": 21,
   "metadata": {},
   "outputs": [],
   "source": [
    "from langchain_openai import ChatOpenAI\n",
    "\n",
    "llm = ChatOpenAI(model=\"gpt-4o\", temperature=0)"
   ]
  },
  {
   "cell_type": "code",
   "execution_count": 4,
   "metadata": {},
   "outputs": [],
   "source": [
    "from tavily import TavilyClient\n",
    "from pprint import pprint\n",
    "tavily = TavilyClient(TAVILY_API_KEY)"
   ]
  },
  {
   "cell_type": "markdown",
   "metadata": {},
   "source": [
    "# Agents:"
   ]
  },
  {
   "cell_type": "markdown",
   "metadata": {},
   "source": [
    "## Supervisor Agent\n",
    "- Task: Supervise the research agent and ensure the output is relevant and sufficient to generate a chart.\n",
    "- Input: A user query\n",
    "- Process: \n",
    "    - Gets the summary and reasoning from the research agent\n",
    "    - Evaluates the summary and reasoning\n",
    "    - Decides if the content is relevant and sufficient to generate a chart.\n",
    "    - If the content is not relevant or sufficient, it will call the research agent again with a new user query.\n",
    "    - If the content is relevant and sufficient, it will go to the chart_agent to generate a chart with a brief chart description.\n",
    "- Output:\n",
    "    - A chart\n",
    "    - Chart description"
   ]
  },
  {
   "cell_type": "markdown",
   "metadata": {},
   "source": [
    "## Research Agent\n",
    "- Task: Research the web for information that is relevant and sufficient to generate a chart.\n",
    "- Input: A user query\n",
    "- Process: \n",
    "    - Uses tools (web search tool and web scraping tool) to research the web for information\n",
    "    - Passes the summary and reasoning to the supervisor agent\n",
    "- Output:\n",
    "    - A summary of the relevant information extracted from the scraped URLs.\n",
    "    - Reasoning for the output why the content is relevant and sufficient to generate a chart.\n"
   ]
  },
  {
   "cell_type": "markdown",
   "metadata": {},
   "source": [
    "## Chart Agent\n",
    "- Task: Generate a chart based on the chart summary and provide chart description\n",
    "- Input: A summary of the relevant information extracted from the scraped URLs.\n",
    "- Process: \n",
    "    - Uses a tool to generate code based on input summary to generate a chart - tool name: code_generator_tool\n",
    "    - Passes the code to the python repl tool to generate a chart - tool name: python_repl_tool\n",
    "    - Passes the chart to another tool to generate a chart description - tool name: chart_description_tool\n",
    "    - Passes both the chart and chart description to the supervisor agent for review\n",
    "- Output:\n",
    "    - A Chart\n",
    "    - A chart description"
   ]
  },
  {
   "cell_type": "markdown",
   "metadata": {},
   "source": [
    "# 1. Research Agent"
   ]
  },
  {
   "cell_type": "markdown",
   "metadata": {},
   "source": [
    "Tools to make:\n",
    "- Web Search Tool (Researcher)\n",
    "    - Task: Researches the web for information.\n",
    "    - Input: A user query\n",
    "    - Process: \n",
    "        - Gets the relevant keywords from query to perform a search\n",
    "        - Uses keyword and performs a search on the web\n",
    "        - Gets a list of URLs and returns the list (output)\n",
    "    - Output: A list of URLs\n",
    "\n",
    "- Web Scraping Tool (Researcher)\n",
    "    - Task: Scrapes websites from a list of URLs and returns a coherent summary of the content relevant to the user's query.\n",
    "    - Input: A list of URLs\n",
    "    - Process: \n",
    "        - Iterates over each URL in the provided list of URLs\n",
    "        - Performs a GET request to the URL\n",
    "        - Parses the HTML content of the page\n",
    "        - Combines the scraped content into a coherent summary using a language model (LLM).\n",
    "    - Output: A string containing a summary of the relevant information extracted from the scraped URLs."
   ]
  },
  {
   "cell_type": "code",
   "execution_count": 5,
   "metadata": {},
   "outputs": [],
   "source": [
    "from pydantic import BaseModel, Field\n",
    "\n",
    "from typing import TypedDict, List\n",
    "from typing import Annotated\n",
    "from operator import add\n",
    "from typing import Literal\n",
    "\n",
    "class ResearchOutput(BaseModel):\n",
    "    next_action: Literal[\"web_search\", \"web_scraping\", \"DONE\"] = Field(description=\"The next action to perform. Can be web_search, web_scraping, or DONE if the content is sufficient to generate a chart.\")\n",
    "    reasoning: str = Field(description=\"Reasoning for the output, explaining which tool should be used next and why the content is relevant and sufficient to generate a chart based on the summary received.\")\n",
    "\n",
    "\n",
    "class AgentState(TypedDict):\n",
    "    query: str\n",
    "    actions_performed: Annotated[List[str], add]\n",
    "    research_agent_output: ResearchOutput\n",
    "    urls: List[str]\n",
    "    summary: str\n",
    "    combined_content: str\n",
    "    keywords_used: Annotated[List[str], add]"
   ]
  },
  {
   "cell_type": "code",
   "execution_count": 6,
   "metadata": {},
   "outputs": [],
   "source": [
    "def web_search_tool(state: AgentState):\n",
    "    \"\"\"Search the web for information and return URLs\"\"\"  \n",
    "\n",
    "    def extract_keywords(user_query):\n",
    "        \"\"\"Extract relevant keywords from a complex user query using LLM\"\"\"\n",
    "\n",
    "        prompt = \"\"\"\n",
    "        Extract a unique search term I can use to search the web for numerical data that can be used for chart generation from this query.\n",
    "\n",
    "        Instructions:\n",
    "        - The search keywords should be specific and relevant to the query provided.\n",
    "        - Focus on terms that are likely to yield quantitative data, such as statistics, figures, or metrics.\n",
    "        - Ensure that the keywords can lead to sources that provide numerical information suitable for creating charts or graphs.\n",
    "        - The search keywords should consist maximum of 4 words.\n",
    "        - The generated keywords should be unique and not already included in the existing list of keywords.\n",
    "\n",
    "        Query: {user_query}\n",
    "        Keywords used so far: {keywords_used}\n",
    "        Search term:\n",
    "        \"\"\"\n",
    "        keywords_used = state.get(\"keywords_used\",[\"\"])\n",
    "        response = llm.invoke(prompt.format(user_query=user_query, keywords_used=keywords_used))\n",
    "        return response.content\n",
    "\n",
    "    keywords = extract_keywords(state['query']) \n",
    "    print(keywords)\n",
    "    response = tavily.search(keywords)\n",
    "    print(response)\n",
    "\n",
    "    urls = [result['url'] for result in response['results'][:3]]\n",
    "\n",
    "    return {\"urls\": urls, \"actions_performed\": [f\"Used the keyword: {keywords} to search the web for information. Received {', '.join(urls)} URLs.\"], \"keywords_used\": [keywords]}"
   ]
  },
  {
   "cell_type": "code",
   "execution_count": 7,
   "metadata": {},
   "outputs": [
    {
     "name": "stdout",
     "output_type": "stream",
     "text": [
      "\"AI advancements statistics\"\n",
      "{'query': '\"AI advancements statistics\"', 'follow_up_questions': None, 'answer': None, 'images': [], 'results': [], 'response_time': 1.47}\n",
      "{'urls': [], 'actions_performed': ['Used the keyword: \"AI advancements statistics\" to search the web for information. Received  URLs.'], 'keywords_used': ['\"AI advancements statistics\"']}\n"
     ]
    }
   ],
   "source": [
    "#test\n",
    "# Create a sample state to test the web_scraping_tool function\n",
    "test_state = AgentState(\n",
    "    query=\"What are the latest advancements in AI?\",\n",
    "    urls=[],\n",
    "    summary=\"\",\n",
    "    reasoning=\"\",\n",
    "    combined_content=\"\"\n",
    ")\n",
    "\n",
    "# Call the web_scraping_tool function with the test state\n",
    "urls = web_search_tool(test_state)\n",
    "\n",
    "# Print the output summary\n",
    "print(urls)\n"
   ]
  },
  {
   "cell_type": "code",
   "execution_count": 8,
   "metadata": {},
   "outputs": [],
   "source": [
    "from bs4 import BeautifulSoup\n",
    "import requests\n",
    "\n",
    "def web_scraping_tool(state: AgentState):\n",
    "    \"\"\"Scrape websites from a list of URLs and return a dictionary with URL and content\"\"\"\n",
    "    results = {}\n",
    "    # Iterate over each URL in the provided list of URLs\n",
    "    for url in state['urls']:\n",
    "        response = requests.get(url, timeout=10)\n",
    "        soup = BeautifulSoup(response.text, 'html.parser')\n",
    "        results[url] = soup.get_text()\n",
    "\n",
    "    def combine_scraped_content(scraped_data):\n",
    "        \"\"\"This function takes a dictionary of scraped data, where each key is a URL and each value is the corresponding content.\n",
    "        It constructs a prompt for a language model (LLM) to generate a coherent summary of the content relevant to the user's query.\n",
    "        \n",
    "        The function initializes a prompt string that instructs the LLM to combine the content. It then iterates over the scraped data,\n",
    "        appending each URL and its content to the prompt. After constructing the complete prompt, it invokes the LLM with this prompt\n",
    "        and returns the generated summary as a string.\"\"\"\n",
    "        \n",
    "        prompt = \"\"\"\n",
    "        Combine the following content into a coherent summary, relevant for the user query.\n",
    "\n",
    "        Instructions:\n",
    "        - If there are any numerical data, make sure to include it in the summary.\n",
    "        - This numerical data from the summary will be later used to generate a chart.\n",
    "        \"\"\"\n",
    "\n",
    "        for url, content in scraped_data.items():\n",
    "            prompt += f\"URL: {url}\\nContent: {content}\\n\\n\"\n",
    "        \n",
    "        response = llm.invoke(prompt)\n",
    "        return response.content\n",
    "\n",
    "    # Call the combine function and return the combined content\n",
    "    combined_content = combine_scraped_content(results)\n",
    "    return {\"combined_content\": combined_content, \"actions_performed\": [f\"Scraped the content from the URLs: {', '.join(results.keys())} and combined it into a coherent summary.\"]}"
   ]
  },
  {
   "cell_type": "code",
   "execution_count": 9,
   "metadata": {},
   "outputs": [],
   "source": [
    "from langchain_core.messages import HumanMessage, SystemMessage\n",
    "\n",
    "def research_agent(state: AgentState):\n",
    "    system_prompt = \"\"\"\n",
    "    You are an expert researcher. You are given a user query and you need to use tools to research the web for information that is reliable and sufficient to generate a chart.\n",
    "    \n",
    "    You need to use the following tools to research the web for information:\n",
    "\n",
    "    1. Web Search Tool: This tool does the following:\n",
    "        - Task: Researches the web for information.\n",
    "        - Input: A user query\n",
    "        - Process: \n",
    "            - Gets the relevant keywords from query to perform a search\n",
    "            - Uses keyword and performs a search on the web\n",
    "            - Gets a list of URLs and returns the list (output)\n",
    "        - Output: A list of URLs\n",
    "        - Decision: Use this tool ONLY when you need to gather initial information based on the user query OR when the summary from web scraping is insufficient to generate a chart.\n",
    "\n",
    "    2. Web Scraping Tool: This tool does the following:\n",
    "        - Task: Scrapes websites from a list of URLs and returns a coherent summary of the content relevant to the user's query.\n",
    "        - Input: A list of URLs (received from the web_search_tool)\n",
    "        - Process: \n",
    "            - Iterates over each URL in the provided list of URLs\n",
    "            - Performs a GET request to the URL\n",
    "            - Parses the HTML content of the page\n",
    "            - Combines the scraped content into a coherent summary using a language model (LLM).\n",
    "        - Output: A string containing a summary of the relevant information extracted from the scraped URLs.\n",
    "        - Decision: Use this tool IMMEDIATELY after receiving URLs from the web search tool to extract relevant content.\n",
    "\n",
    "    3. If the content is sufficient to generate a chart, you must respond with DONE as the next action and provide reasoning as output.\n",
    "\n",
    "    Your inputs will be:\n",
    "    - A user query\n",
    "    - Actions performed so far\n",
    "    - A list of URLs obtained from the web_search_tool\n",
    "    - A summary of the relevant information extracted from the web_scraping_tool. If no URLs have been scraped yet, the summary will be an empty string.\n",
    "\n",
    "    Your output will be:\n",
    "    - Next action to perform: Can be web_search, web_scraping, or DONE if the content is sufficient to generate a chart.\n",
    "    - Reasoning for the output, explaining which tool should be used next and why the content is relevant and sufficient to generate a chart based on the summary received.\n",
    "\n",
    "    Instructions:\n",
    "    - You will receive a user query and a summary of the relevant information extracted from the scraped URLs.\n",
    "    - For your FIRST action, you MUST use the web_search_tool to get a list of URLs based on the user query.\n",
    "    - After receiving URLs from web_search_tool, you MUST ALWAYS use the web_scraping_tool next to process those URLs.\n",
    "    - After receiving the summary from web_scraping_tool, evaluate if the content is sufficient to generate a chart.\n",
    "    - If the summary is sufficient to generate a meaningful chart, respond with DONE.\n",
    "    - ONLY return to web_search_tool if the summary from web_scraping_tool is inadequate or insufficient for generating a chart.\n",
    "    - DO NOT repeatedly call web_search_tool if you already have URLs that haven't been scraped yet.\n",
    "\n",
    "    IMPORTANT: \n",
    "    - If this is your first action and no actions have been performed yet, ALWAYS choose web_search_tool.\n",
    "    - If URLs have been obtained but not yet scraped (check the actions_performed), ALWAYS choose web_scraping_tool next.\n",
    "    - Only evaluate the sufficiency of information AFTER receiving a summary from web_scraping_tool.\n",
    "    \"\"\"\n",
    "    human_prompt = \"\"\"\n",
    "    User Query: {query}\n",
    "    Actions performed so far: {actions_performed}\n",
    "    Summary of the relevant information extracted from the scraped URLs: {summary}\n",
    "    \"\"\"\n",
    "    system_message = SystemMessage(content=system_prompt)\n",
    "    query = state['query']\n",
    "    actions_performed = state.get('actions_performed', [])\n",
    "    summary = state.get('combined_content', '')\n",
    "\n",
    "    human_message = HumanMessage(content=human_prompt.format(query=query, summary=summary, actions_performed=actions_performed))\n",
    "    \n",
    "\n",
    "    research_prompt = [system_message, human_message]\n",
    "    response = llm.with_structured_output(ResearchOutput).invoke(research_prompt)\n",
    "    return {\"research_agent_output\": response, \"actions_performed\": [f\"Research agent performed the action: {response.next_action}\"]}\n",
    "    "
   ]
  },
  {
   "cell_type": "code",
   "execution_count": 10,
   "metadata": {},
   "outputs": [],
   "source": [
    "def end_agent(state: AgentState):\n",
    "    return state"
   ]
  },
  {
   "cell_type": "code",
   "execution_count": 11,
   "metadata": {},
   "outputs": [],
   "source": [
    "from langgraph.graph import StateGraph, START, END\n",
    "\n",
    "def after_research_agent_router(state: AgentState):\n",
    "    next_action = state['research_agent_output'].next_action\n",
    "    if next_action == 'web_search':\n",
    "        return \"web_search_tool\"\n",
    "    elif next_action == 'web_scraping':\n",
    "        return \"web_scraping_tool\"\n",
    "    elif next_action == 'DONE':\n",
    "        return \"end_agent\"\n",
    "    "
   ]
  },
  {
   "cell_type": "markdown",
   "metadata": {},
   "source": [
    "### Graph 1: Research Agent"
   ]
  },
  {
   "cell_type": "code",
   "execution_count": 12,
   "metadata": {},
   "outputs": [
    {
     "data": {
      "image/png": "[encoded data removed]",
      "text/plain": [
       "<IPython.core.display.Image object>"
      ]
     },
     "metadata": {},
     "output_type": "display_data"
    }
   ],
   "source": [
    "from IPython.display import Image, display\n",
    "\n",
    "graph = StateGraph(AgentState)\n",
    "graph.add_node(\"research_agent\", research_agent)\n",
    "graph.add_node(\"web_search_tool\", web_search_tool)\n",
    "graph.add_node(\"web_scraping_tool\", web_scraping_tool)\n",
    "graph.add_node(\"end_agent\", end_agent)\n",
    "\n",
    "graph.add_edge(START, \"research_agent\")\n",
    "graph.add_conditional_edges(\n",
    "    \"research_agent\",\n",
    "    after_research_agent_router,\n",
    "    [\"web_search_tool\", \"web_scraping_tool\", \"end_agent\"]\n",
    ")\n",
    "graph.add_edge(\"web_search_tool\", \"research_agent\")\n",
    "graph.add_edge(\"web_scraping_tool\", \"research_agent\")\n",
    "graph.add_edge(\"end_agent\", END)\n",
    "research_agent = graph.compile()\n",
    "\n",
    "display(Image(research_agent.get_graph().draw_mermaid_png()))\n"
   ]
  },
  {
   "cell_type": "code",
   "execution_count": 13,
   "metadata": {},
   "outputs": [
    {
     "name": "stdout",
     "output_type": "stream",
     "text": [
      "{'research_agent': {'research_agent_output': ResearchOutput(next_action='web_search', reasoning='Since this is the first action and no actions have been performed yet, I will use the web_search_tool to gather a list of URLs that provide information on the current stock price trends of Apple. This will help in obtaining the necessary data to generate a chart on the stock price trends.')}}\n",
      "Apple stock price trends\n",
      "{'query': 'Apple stock price trends', 'follow_up_questions': None, 'answer': None, 'images': [], 'results': [{'title': 'Apple - 45 Year Stock Price History | AAPL | MacroTrends', 'url': 'https://www.macrotrends.net/stocks/charts/AAPL/apple/stock-price-history', 'content': 'Apple - 45 Year Stock Price History | AAPL | MacroTrends Apple - 45 Year Stock Price History | AAPL The latest closing stock price for Apple as of March 06, 2025 is 235.33. The all-time high Apple stock closing price was 259.02 on December 26, 2024. The Apple 52-week high stock price is 260.10, which is 10.5% above the current share price. The Apple 52-week low stock price is 164.07, which is 30.3% below the current share price. The average Apple stock price for the last 52 weeks is 216.76. | Apple Historical Annual Stock Price Data | | Apple - 45 Year Stock Price History | AAPL |  | | Apple - 45 Year Stock Price History | AAPL |  |', 'score': 0.7880784, 'raw_content': None}, {'title': 'Apple (AAPL) Stock Price History & Chart since 1980', 'url': 'https://wallstreetnumbers.com/stocks/aapl/price', 'content': \"Apple (AAPL) Stock Price History & Chart since 1980 Apple (AAPL) Stock Price Apple stock price is currently $242.90, with a rise of +$0.13 (+0.05%) during the most recent trading day. AAPL price is now -0.03% below its all-time high of $242.97. AAPL price is up +25.37% year-on-year AAPL price is currently -0.03% below its historical high of $242.97 AAPL price is currently -2.84% lower than the consensus analysts' forecast AAPL Price Chart AAPL : Apple stock AAPL Price Performance AAPL Price High & Low What is the all time high price for Apple stock? The current price of AAPL is $242.90 What is the all time high price for Apple stock? Apple stock all-time high price is $242.97\", 'score': 0.7474137, 'raw_content': None}, {'title': 'Apple Inc. (AAPL) Stock Forecast & Price Targets', 'url': 'https://stockanalysis.com/stocks/aapl/forecast/', 'content': '(AAPL) Stock Forecast & Price Targets Stocks Top Stocks IPOs Apple Stock Forecast Stock Price Forecast The 31 analysts with 12-month price forecasts for Apple stock have an average target of 242.36, with a low estimate of 180 and a high estimate of 325. The average analyst rating for Apple stock from 33 stock analysts is \"Buy\". This means that analysts believe this stock is likely to outperform the market over the next twelve months. | Strong Buy | Maintains | $255 → $275 | +11.32% | Jan 31, 2025 | | Strong Buy | Maintains | $253 → $265 | +7.27% | Jan 31, 2025 | EPS Forecast Sources: Price targets and analyst ratings provided by Benzinga. Stocks IPOs', 'score': 0.7244226, 'raw_content': None}, {'title': 'Apple Stock Chart — NASDAQ:AAPL Stock Price - TradingView', 'url': 'https://www.tradingview.com/symbols/NASDAQ-AAPL/', 'content': \"View live Apple Inc chart to track its stock's price action. Find market predictions, AAPL financials and market news. ... Bearish Safe Stop Loss - 251.37 Technical Indicators: Supper Trend generates a clear short signal while Pivot Point HL is currently determining the overall Bearish t. Short. by AnabelSignals.\", 'score': 0.6205532, 'raw_content': None}, {'title': 'Apple Inc. (AAPL) Stock Price, News, Quote & History - Yahoo Finance', 'url': 'https://finance.yahoo.com/quote/AAPL/', 'content': 'The company offers iPhone, a line of smartphones; Mac, a line of personal computers; iPad, a line of multi-purpose tablets; and wearables, home, and accessories comprising AirPods, Apple TV, Apple Watch, Beats products, and HomePod. It also provides AppleCare support and cloud services; and operates various platforms, including the App Store that allow customers to discover and download applications and digital content, such as books, music, video, games, and podcasts, as well as advertising services include third-party licensing arrangements and its own advertising platforms. In addition, the company offers various subscription-based services, such as Apple Arcade, a game subscription service; Apple Fitness+, a personalized fitness service; Apple Music, which offers users a curated listening experience with on-demand radio stations; Apple News+, a subscription news and magazine service; Apple TV+, which offers exclusive original content; Apple Card, a co-branded credit card; and Apple Pay, a cashless payment service, as well as licenses its intellectual property.', 'score': 0.3916624, 'raw_content': None}], 'response_time': 1.86}\n",
      "{'web_search_tool': {'urls': ['https://www.macrotrends.net/stocks/charts/AAPL/apple/stock-price-history', 'https://wallstreetnumbers.com/stocks/aapl/price', 'https://stockanalysis.com/stocks/aapl/forecast/'], 'actions_performed': ['Used the keyword: Apple stock price trends to search the web for information. Received https://www.macrotrends.net/stocks/charts/AAPL/apple/stock-price-history, https://wallstreetnumbers.com/stocks/aapl/price, https://stockanalysis.com/stocks/aapl/forecast/ URLs.'], 'keywords_used': ['Apple stock price trends']}}\n",
      "{'research_agent': {'research_agent_output': ResearchOutput(next_action='web_scraping', reasoning='Since URLs have been obtained from the web search tool but have not yet been scraped, the next logical step is to use the web_scraping_tool. This will allow us to extract relevant information about the current stock price trends of Apple from the provided URLs. Only after scraping these URLs can we evaluate whether the information is sufficient to generate a chart.')}}\n",
      "{'web_scraping_tool': {'combined_content': 'As of March 12, 2025, Apple\\'s (AAPL) stock price is $221.06, reflecting a decrease of $4.30 (-1.91%) from the previous trading day. Over the past year, the stock has increased by $47.76 (+27.56%), although it remains 14.65% below its all-time high of $259.02. The year-to-date return is -11.73%. Analysts have set a 12-month average price target of $242.36, suggesting a potential increase of 9.74% from the current price. The market capitalization of Apple is $3,320.81 billion, with a beta of 0.94. Revenue for 2025 is projected to be $417.71 billion, a 6.82% increase from the previous year, while the EPS is expected to rise by 23.19% to $7.49. Analyst consensus rates the stock as a \"Buy,\" with a high price target of $325, indicating a potential upside of 47.17%.', 'actions_performed': ['Scraped the content from the URLs: https://www.macrotrends.net/stocks/charts/AAPL/apple/stock-price-history, https://wallstreetnumbers.com/stocks/aapl/price, https://stockanalysis.com/stocks/aapl/forecast/ and combined it into a coherent summary.']}}\n",
      "{'research_agent': {'research_agent_output': ResearchOutput(next_action='DONE', reasoning=\"The summary provides comprehensive information on Apple's current stock price trends, including the latest stock price, percentage change from the previous day, year-to-date return, and comparison to its all-time high. It also includes future projections such as the 12-month average price target, market capitalization, revenue projections, and analyst ratings. This data is sufficient to generate a chart that illustrates the current stock price trends of Apple, including historical performance, current valuation, and future expectations.\")}}\n",
      "{'end_agent': {'query': 'What is the current stock price trends of Apple', 'actions_performed': ['Used the keyword: Apple stock price trends to search the web for information. Received https://www.macrotrends.net/stocks/charts/AAPL/apple/stock-price-history, https://wallstreetnumbers.com/stocks/aapl/price, https://stockanalysis.com/stocks/aapl/forecast/ URLs.', 'Scraped the content from the URLs: https://www.macrotrends.net/stocks/charts/AAPL/apple/stock-price-history, https://wallstreetnumbers.com/stocks/aapl/price, https://stockanalysis.com/stocks/aapl/forecast/ and combined it into a coherent summary.'], 'research_agent_output': ResearchOutput(next_action='DONE', reasoning=\"The summary provides comprehensive information on Apple's current stock price trends, including the latest stock price, percentage change from the previous day, year-to-date return, and comparison to its all-time high. It also includes future projections such as the 12-month average price target, market capitalization, revenue projections, and analyst ratings. This data is sufficient to generate a chart that illustrates the current stock price trends of Apple, including historical performance, current valuation, and future expectations.\"), 'urls': ['https://www.macrotrends.net/stocks/charts/AAPL/apple/stock-price-history', 'https://wallstreetnumbers.com/stocks/aapl/price', 'https://stockanalysis.com/stocks/aapl/forecast/'], 'combined_content': 'As of March 12, 2025, Apple\\'s (AAPL) stock price is $221.06, reflecting a decrease of $4.30 (-1.91%) from the previous trading day. Over the past year, the stock has increased by $47.76 (+27.56%), although it remains 14.65% below its all-time high of $259.02. The year-to-date return is -11.73%. Analysts have set a 12-month average price target of $242.36, suggesting a potential increase of 9.74% from the current price. The market capitalization of Apple is $3,320.81 billion, with a beta of 0.94. Revenue for 2025 is projected to be $417.71 billion, a 6.82% increase from the previous year, while the EPS is expected to rise by 23.19% to $7.49. Analyst consensus rates the stock as a \"Buy,\" with a high price target of $325, indicating a potential upside of 47.17%.', 'keywords_used': ['Apple stock price trends']}}\n"
     ]
    }
   ],
   "source": [
    "for event in research_agent.stream({\"query\": \"What is the current stock price trends of Apple\"}):\n",
    "    print(event)"
   ]
  },
  {
   "cell_type": "markdown",
   "metadata": {},
   "source": [
    "# 2. Chart Agent"
   ]
  },
  {
   "cell_type": "markdown",
   "metadata": {},
   "source": [
    "Tools to make:\n",
    "- Code Generator Tool (Code Generator)\n",
    "    - Task: Generates code based on the input summary to generate a relevantchart.\n",
    "    - Input: A summary of the relevant information extracted from the scraped URLs (received from the research agent, using state['combined_content']).\n",
    "    - Process: \n",
    "        - Uses a language model (LLM) to generate code based on the input summary to generate a chart.\n",
    "    - Output: A string containing the code to generate a chart.\n",
    "- Python REPL Tool (Python Interpreter)\n",
    "    - Task: Executes the generated code to generate a chart.\n",
    "    - Input: The generated code (received from the code_generator_tool).\n",
    "    - Process: \n",
    "        - Executes and runs the generated code to generate a chart.\n",
    "    - Output: The output of the generated code(which is the chart)\n",
    "- Chart Description Tool (Chart Description Generator)\n",
    "    - Task: Generates a description of the chart based on the chart received from the python_repl_tool.\n",
    "    - Input: The chart (received from the python_repl_tool).\n",
    "    - Process: \n",
    "        - Uses a language model (LLM) to generate a description of the chart.\n",
    "    - Output: A string containing the description of the chart."
   ]
  },
  {
   "cell_type": "code",
   "execution_count": 14,
   "metadata": {},
   "outputs": [],
   "source": [
    "from langchain.agents import Tool\n",
    "from langchain_experimental.utilities import PythonREPL\n",
    "import matplotlib as plt"
   ]
  },
  {
   "cell_type": "code",
   "execution_count": 35,
   "metadata": {},
   "outputs": [],
   "source": [
    "def code_generator_tool(summary):\n",
    "    \"\"\"Generate Python code to create a visually appealing and informative chart based on the provided summary, ensuring to include appropriate titles, labels, and legends for clarity.\"\"\"\n",
    "    prompt =\"\"\"\n",
    "    Generate Python code to create a visually appealing and informative chart based on the provided summary, ensuring to include appropriate titles, labels, and legends for clarity.\n",
    "    Instructions:\n",
    "    - Do not provide anything else apart from the code.\n",
    "    - Only return the code, no descriptions.\n",
    "    - The code should be able to be executed directly.\n",
    "    Summary: {summary}\n",
    "    \"\"\"\n",
    "    code = llm.invoke(prompt.format(summary=summary))\n",
    "    return code.content  # Return the content of the AIMessage"
   ]
  },
  {
   "cell_type": "code",
   "execution_count": 36,
   "metadata": {},
   "outputs": [],
   "source": [
    "code = code_generator_tool(summary=\"As of March 12, 2025, Apple's (AAPL) stock price is $221.06, reflecting a decrease of $4.30 (-1.91%) from the previous trading day. Over the past year, the stock has increased by $47.76 (+27.56%), although it remains 14.65% below its all-time high of $259.02. The year-to-date return is -11.73%. Analysts have set a 12-month average price target of $242.36, suggesting a potential increase of 9.74% from the current price. The market capitalization of Apple is $3,320.81 billion, with a beta of 0.94. Revenue for 2025 is projected to be $417.71 billion, a 6.82% increase from the previous year, while the EPS is expected to rise by 23.19% to $7.49. Analyst consensus rates the stock as a 'Buy,' with a high price target of $325, indicating a potential upside of 47.17%.\")"
   ]
  },
  {
   "cell_type": "code",
   "execution_count": 37,
   "metadata": {},
   "outputs": [
    {
     "name": "stdout",
     "output_type": "stream",
     "text": [
      "```python\n",
      "import matplotlib.pyplot as plt\n",
      "import numpy as np\n",
      "\n",
      "# Data\n",
      "current_price = 221.06\n",
      "previous_price = current_price + 4.30\n",
      "all_time_high = 259.02\n",
      "price_target_avg = 242.36\n",
      "price_target_high = 325.00\n",
      "ytd_return = -11.73\n",
      "market_cap = 3320.81\n",
      "revenue_2025 = 417.71\n",
      "eps_2025 = 7.49\n",
      "\n",
      "# Create figure and axis\n",
      "fig, ax = plt.subplots(figsize=(12, 8))\n",
      "\n",
      "# Bar chart for stock prices\n",
      "labels = ['Current Price', 'Previous Price', 'All-Time High', 'Avg. Price Target', 'High Price Target']\n",
      "prices = [current_price, previous_price, all_time_high, price_target_avg, price_target_high]\n",
      "colors = ['red', 'grey', 'grey', 'blue', 'green']\n",
      "\n",
      "ax.bar(labels, prices, color=colors)\n",
      "ax.set_title('Apple (AAPL) Stock Price Overview as of March 12, 2025', fontsize=14)\n",
      "ax.set_ylabel('Price in USD', fontsize=12)\n",
      "ax.set_ylim(0, 350)\n",
      "\n",
      "# Annotate percentage changes\n",
      "ax.annotate(f'-1.91%', xy=(0, current_price), xytext=(0, current_price + 10),\n",
      "            arrowprops=dict(facecolor='black', shrink=0.05), fontsize=10, ha='center')\n",
      "ax.annotate(f'+9.74%', xy=(3, price_target_avg), xytext=(3, price_target_avg + 10),\n",
      "            arrowprops=dict(facecolor='black', shrink=0.05), fontsize=10, ha='center')\n",
      "ax.annotate(f'+47.17%', xy=(4, price_target_high), xytext=(4, price_target_high + 10),\n",
      "            arrowprops=dict(facecolor='black', shrink=0.05), fontsize=10, ha='center')\n",
      "\n",
      "# Additional information\n",
      "textstr = '\\n'.join((\n",
      "    f'Market Cap: ${market_cap}B',\n",
      "    f'YTD Return: {ytd_return}%',\n",
      "    f'Revenue 2025: ${revenue_2025}B',\n",
      "    f'EPS 2025: ${eps_2025}',\n",
      "    f'Analyst Consensus: Buy'))\n",
      "\n",
      "# Add a text box\n",
      "props = dict(boxstyle='round', facecolor='wheat', alpha=0.5)\n",
      "ax.text(0.05, 0.95, textstr, transform=ax.transAxes, fontsize=10,\n",
      "        verticalalignment='top', bbox=props)\n",
      "\n",
      "# Show plot\n",
      "plt.tight_layout()\n",
      "plt.show()\n",
      "```\n"
     ]
    }
   ],
   "source": [
    "print(code)"
   ]
  },
  {
   "cell_type": "code",
   "execution_count": 38,
   "metadata": {},
   "outputs": [],
   "source": [
    "def python_repl_tool(code):\n",
    "    \"\"\"Execute Python code and return the output\"\"\"\n",
    "    python_repl = PythonREPL()\n",
    "    result = python_repl.run(code)\n",
    "    return result\n",
    "\n",
    "#test"
   ]
  },
  {
   "cell_type": "code",
   "execution_count": 39,
   "metadata": {},
   "outputs": [
    {
     "data": {
      "text/plain": [
       "\"```python\\nimport matplotlib.pyplot as plt\\nimport numpy as np\\n\\n# Data\\ncurrent_price = 221.06\\nprevious_price = current_price + 4.30\\nall_time_high = 259.02\\nprice_target_avg = 242.36\\nprice_target_high = 325.00\\nytd_return = -11.73\\nmarket_cap = 3320.81\\nrevenue_2025 = 417.71\\neps_2025 = 7.49\\n\\n# Create figure and axis\\nfig, ax = plt.subplots(figsize=(12, 8))\\n\\n# Bar chart for stock prices\\nlabels = ['Current Price', 'Previous Price', 'All-Time High', 'Avg. Price Target', 'High Price Target']\\nprices = [current_price, previous_price, all_time_high, price_target_avg, price_target_high]\\ncolors = ['red', 'grey', 'grey', 'blue', 'green']\\n\\nax.bar(labels, prices, color=colors)\\nax.set_title('Apple (AAPL) Stock Price Overview as of March 12, 2025', fontsize=14)\\nax.set_ylabel('Price in USD', fontsize=12)\\nax.set_ylim(0, 350)\\n\\n# Annotate percentage changes\\nax.annotate(f'-1.91%', xy=(0, current_price), xytext=(0, current_price + 10),\\n            arrowprops=dict(facecolor='black', shrink=0.05), fontsize=10, ha='center')\\nax.annotate(f'+9.74%', xy=(3, price_target_avg), xytext=(3, price_target_avg + 10),\\n            arrowprops=dict(facecolor='black', shrink=0.05), fontsize=10, ha='center')\\nax.annotate(f'+47.17%', xy=(4, price_target_high), xytext=(4, price_target_high + 10),\\n            arrowprops=dict(facecolor='black', shrink=0.05), fontsize=10, ha='center')\\n\\n# Additional information\\ntextstr = '\\\\n'.join((\\n    f'Market Cap: ${market_cap}B',\\n    f'YTD Return: {ytd_return}%',\\n    f'Revenue 2025: ${revenue_2025}B',\\n    f'EPS 2025: ${eps_2025}',\\n    f'Analyst Consensus: Buy'))\\n\\n# Add a text box\\nprops = dict(boxstyle='round', facecolor='wheat', alpha=0.5)\\nax.text(0.05, 0.95, textstr, transform=ax.transAxes, fontsize=10,\\n        verticalalignment='top', bbox=props)\\n\\n# Show plot\\nplt.tight_layout()\\nplt.show()\\n```\""
      ]
     },
     "execution_count": 39,
     "metadata": {},
     "output_type": "execute_result"
    }
   ],
   "source": [
    "code"
   ]
  },
  {
   "cell_type": "code",
   "execution_count": 40,
   "metadata": {},
   "outputs": [
    {
     "data": {
      "image/png": "[encoded data removed]",
      "text/plain": [
       "<Figure size 1200x800 with 1 Axes>"
      ]
     },
     "metadata": {},
     "output_type": "display_data"
    },
    {
     "name": "stdout",
     "output_type": "stream",
     "text": [
      "\n"
     ]
    }
   ],
   "source": [
    "result = python_repl_tool(code)\n",
    "print(result)"
   ]
  },
  {
   "cell_type": "code",
   "execution_count": null,
   "metadata": {},
   "outputs": [],
   "source": []
  }
 ],
 "metadata": {
  "kernelspec": {
   "display_name": "myvenv",
   "language": "python",
   "name": "python3"
  },
  "language_info": {
   "codemirror_mode": {
    "name": "ipython",
    "version": 3
   },
   "file_extension": ".py",
   "mimetype": "text/x-python",
   "name": "python",
   "nbconvert_exporter": "python",
   "pygments_lexer": "ipython3",
   "version": "3.12.0"
  }
 },
 "nbformat": 4,
 "nbformat_minor": 2
}
